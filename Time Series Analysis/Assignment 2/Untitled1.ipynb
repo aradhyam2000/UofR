{
 "cells": [
  {
   "cell_type": "code",
   "execution_count": 1,
   "id": "56586242",
   "metadata": {},
   "outputs": [],
   "source": [
    "import pandas as pd\n",
    "import numpy as np\n",
    "import matplotlib.pyplot as plt\n",
    "import seaborn as sns\n",
    "import statistics"
   ]
  },
  {
   "cell_type": "code",
   "execution_count": 13,
   "id": "e9741dfa",
   "metadata": {},
   "outputs": [
    {
     "data": {
      "text/html": [
       "<div>\n",
       "<style scoped>\n",
       "    .dataframe tbody tr th:only-of-type {\n",
       "        vertical-align: middle;\n",
       "    }\n",
       "\n",
       "    .dataframe tbody tr th {\n",
       "        vertical-align: top;\n",
       "    }\n",
       "\n",
       "    .dataframe thead th {\n",
       "        text-align: right;\n",
       "    }\n",
       "</style>\n",
       "<table border=\"1\" class=\"dataframe\">\n",
       "  <thead>\n",
       "    <tr style=\"text-align: right;\">\n",
       "      <th></th>\n",
       "      <th>Year</th>\n",
       "      <th>Measurement</th>\n",
       "    </tr>\n",
       "  </thead>\n",
       "  <tbody>\n",
       "    <tr>\n",
       "      <th>0</th>\n",
       "      <td>1984</td>\n",
       "      <td>539.9</td>\n",
       "    </tr>\n",
       "    <tr>\n",
       "      <th>1</th>\n",
       "      <td>1985</td>\n",
       "      <td>558.1</td>\n",
       "    </tr>\n",
       "    <tr>\n",
       "      <th>2</th>\n",
       "      <td>1986</td>\n",
       "      <td>620.1</td>\n",
       "    </tr>\n",
       "    <tr>\n",
       "      <th>3</th>\n",
       "      <td>1987</td>\n",
       "      <td>612.5</td>\n",
       "    </tr>\n",
       "    <tr>\n",
       "      <th>4</th>\n",
       "      <td>1988</td>\n",
       "      <td>640.6</td>\n",
       "    </tr>\n",
       "    <tr>\n",
       "      <th>5</th>\n",
       "      <td>1989</td>\n",
       "      <td>666.9</td>\n",
       "    </tr>\n",
       "    <tr>\n",
       "      <th>6</th>\n",
       "      <td>1990</td>\n",
       "      <td>729.6</td>\n",
       "    </tr>\n",
       "    <tr>\n",
       "      <th>7</th>\n",
       "      <td>1991</td>\n",
       "      <td>758.2</td>\n",
       "    </tr>\n",
       "    <tr>\n",
       "      <th>8</th>\n",
       "      <td>1992</td>\n",
       "      <td>757.7</td>\n",
       "    </tr>\n",
       "    <tr>\n",
       "      <th>9</th>\n",
       "      <td>1993</td>\n",
       "      <td>747.1</td>\n",
       "    </tr>\n",
       "    <tr>\n",
       "      <th>10</th>\n",
       "      <td>1994</td>\n",
       "      <td>713.6</td>\n",
       "    </tr>\n",
       "    <tr>\n",
       "      <th>11</th>\n",
       "      <td>1995</td>\n",
       "      <td>684.5</td>\n",
       "    </tr>\n",
       "    <tr>\n",
       "      <th>12</th>\n",
       "      <td>1996</td>\n",
       "      <td>636.6</td>\n",
       "    </tr>\n",
       "    <tr>\n",
       "      <th>13</th>\n",
       "      <td>1997</td>\n",
       "      <td>611.0</td>\n",
       "    </tr>\n",
       "    <tr>\n",
       "      <th>14</th>\n",
       "      <td>1998</td>\n",
       "      <td>567.6</td>\n",
       "    </tr>\n",
       "    <tr>\n",
       "      <th>15</th>\n",
       "      <td>1999</td>\n",
       "      <td>523.0</td>\n",
       "    </tr>\n",
       "    <tr>\n",
       "      <th>16</th>\n",
       "      <td>2000</td>\n",
       "      <td>506.5</td>\n",
       "    </tr>\n",
       "    <tr>\n",
       "      <th>17</th>\n",
       "      <td>2001</td>\n",
       "      <td>504.5</td>\n",
       "    </tr>\n",
       "    <tr>\n",
       "      <th>18</th>\n",
       "      <td>2002</td>\n",
       "      <td>494.4</td>\n",
       "    </tr>\n",
       "    <tr>\n",
       "      <th>19</th>\n",
       "      <td>2003</td>\n",
       "      <td>475.8</td>\n",
       "    </tr>\n",
       "    <tr>\n",
       "      <th>20</th>\n",
       "      <td>2004</td>\n",
       "      <td>463.2</td>\n",
       "    </tr>\n",
       "    <tr>\n",
       "      <th>21</th>\n",
       "      <td>2005</td>\n",
       "      <td>469.2</td>\n",
       "    </tr>\n",
       "  </tbody>\n",
       "</table>\n",
       "</div>"
      ],
      "text/plain": [
       "    Year  Measurement\n",
       "0   1984        539.9\n",
       "1   1985        558.1\n",
       "2   1986        620.1\n",
       "3   1987        612.5\n",
       "4   1988        640.6\n",
       "5   1989        666.9\n",
       "6   1990        729.6\n",
       "7   1991        758.2\n",
       "8   1992        757.7\n",
       "9   1993        747.1\n",
       "10  1994        713.6\n",
       "11  1995        684.5\n",
       "12  1996        636.6\n",
       "13  1997        611.0\n",
       "14  1998        567.6\n",
       "15  1999        523.0\n",
       "16  2000        506.5\n",
       "17  2001        504.5\n",
       "18  2002        494.4\n",
       "19  2003        475.8\n",
       "20  2004        463.2\n",
       "21  2005        469.2"
      ]
     },
     "execution_count": 13,
     "metadata": {},
     "output_type": "execute_result"
    }
   ],
   "source": [
    "measure_df = pd.read_excel(r'MeasurementData_Q1.xlsx')\n",
    "measure_df"
   ]
  },
  {
   "cell_type": "code",
   "execution_count": 3,
   "id": "17ad8c32",
   "metadata": {},
   "outputs": [
    {
     "data": {
      "image/png": "[encoded data removed]",
      "text/plain": [
       "<Figure size 432x288 with 1 Axes>"
      ]
     },
     "metadata": {
      "needs_background": "light"
     },
     "output_type": "display_data"
    }
   ],
   "source": [
    "def simple_m_avg(period):\n",
    "    y = [np.nan]*(period-1) # set the first period-1 elements in the list as nan\n",
    "    for x in range(len(measure_df['Measurement'])-period+1):\n",
    "        yt = measure_df['Measurement'][x:(x+period)].mean() # calculate the simple moving avg with period\n",
    "        y.append(yt) # put the simple moving avg to the list\n",
    "    return y\n",
    "\n",
    "mavg11 = simple_m_avg(11) # calculate simple moving avg when period = 11\n",
    "\n",
    "# draw the plot\n",
    "plt.figure()\n",
    "plt.plot(measure_df['Year'], mavg11)\n",
    "plt.title('11-period Simple Moving Average', fontsize = 16)\n",
    "plt.xlabel('Year', fontsize = 16)\n",
    "plt.ylabel('Measurement', fontsize = 16)\n",
    "plt.show()"
   ]
  },
  {
   "cell_type": "code",
   "execution_count": 4,
   "id": "7dbbfa45",
   "metadata": {},
   "outputs": [
    {
     "data": {
      "text/plain": [
       "[nan,\n",
       " nan,\n",
       " nan,\n",
       " nan,\n",
       " nan,\n",
       " nan,\n",
       " nan,\n",
       " nan,\n",
       " nan,\n",
       " nan,\n",
       " 667.6636363636363,\n",
       " 680.809090909091,\n",
       " 687.9454545454546,\n",
       " 687.1181818181819,\n",
       " 683.0363636363637,\n",
       " 672.3454545454546,\n",
       " 657.7636363636365,\n",
       " 637.3000000000001,\n",
       " 613.3181818181819,\n",
       " 587.690909090909,\n",
       " 561.8818181818181,\n",
       " 539.6636363636363]"
      ]
     },
     "execution_count": 4,
     "metadata": {},
     "output_type": "execute_result"
    }
   ],
   "source": [
    "mavg11"
   ]
  },
  {
   "cell_type": "code",
   "execution_count": 5,
   "id": "fb8e1cfd",
   "metadata": {},
   "outputs": [
    {
     "ename": "ValueError",
     "evalue": "The truth value of a DataFrame is ambiguous. Use a.empty, a.bool(), a.item(), a.any() or a.all().",
     "output_type": "error",
     "traceback": [
      "\u001b[1;31m---------------------------------------------------------------------------\u001b[0m",
      "\u001b[1;31mValueError\u001b[0m                                Traceback (most recent call last)",
      "\u001b[1;32m~\\AppData\\Local\\Temp/ipykernel_20556/1259461456.py\u001b[0m in \u001b[0;36m<module>\u001b[1;34m\u001b[0m\n\u001b[0;32m      5\u001b[0m \u001b[1;33m\u001b[0m\u001b[0m\n\u001b[0;32m      6\u001b[0m \u001b[1;31m# Convert array of integers to pandas series\u001b[0m\u001b[1;33m\u001b[0m\u001b[1;33m\u001b[0m\u001b[0m\n\u001b[1;32m----> 7\u001b[1;33m \u001b[0mnumbers_series\u001b[0m \u001b[1;33m=\u001b[0m \u001b[0mpd\u001b[0m\u001b[1;33m.\u001b[0m\u001b[0mSeries\u001b[0m\u001b[1;33m(\u001b[0m\u001b[0marr\u001b[0m\u001b[1;33m)\u001b[0m\u001b[1;33m\u001b[0m\u001b[1;33m\u001b[0m\u001b[0m\n\u001b[0m\u001b[0;32m      8\u001b[0m \u001b[1;33m\u001b[0m\u001b[0m\n\u001b[0;32m      9\u001b[0m \u001b[1;31m# Get the window of series\u001b[0m\u001b[1;33m\u001b[0m\u001b[1;33m\u001b[0m\u001b[0m\n",
      "\u001b[1;32m~\\anaconda3\\lib\\site-packages\\pandas\\core\\series.py\u001b[0m in \u001b[0;36m__init__\u001b[1;34m(self, data, index, dtype, name, copy, fastpath)\u001b[0m\n\u001b[0;32m    353\u001b[0m             \u001b[0mname\u001b[0m \u001b[1;33m=\u001b[0m \u001b[0mibase\u001b[0m\u001b[1;33m.\u001b[0m\u001b[0mmaybe_extract_name\u001b[0m\u001b[1;33m(\u001b[0m\u001b[0mname\u001b[0m\u001b[1;33m,\u001b[0m \u001b[0mdata\u001b[0m\u001b[1;33m,\u001b[0m \u001b[0mtype\u001b[0m\u001b[1;33m(\u001b[0m\u001b[0mself\u001b[0m\u001b[1;33m)\u001b[0m\u001b[1;33m)\u001b[0m\u001b[1;33m\u001b[0m\u001b[1;33m\u001b[0m\u001b[0m\n\u001b[0;32m    354\u001b[0m \u001b[1;33m\u001b[0m\u001b[0m\n\u001b[1;32m--> 355\u001b[1;33m             \u001b[1;32mif\u001b[0m \u001b[0mis_empty_data\u001b[0m\u001b[1;33m(\u001b[0m\u001b[0mdata\u001b[0m\u001b[1;33m)\u001b[0m \u001b[1;32mand\u001b[0m \u001b[0mdtype\u001b[0m \u001b[1;32mis\u001b[0m \u001b[1;32mNone\u001b[0m\u001b[1;33m:\u001b[0m\u001b[1;33m\u001b[0m\u001b[1;33m\u001b[0m\u001b[0m\n\u001b[0m\u001b[0;32m    356\u001b[0m                 \u001b[1;31m# gh-17261\u001b[0m\u001b[1;33m\u001b[0m\u001b[1;33m\u001b[0m\u001b[0m\n\u001b[0;32m    357\u001b[0m                 warnings.warn(\n",
      "\u001b[1;32m~\\anaconda3\\lib\\site-packages\\pandas\\core\\construction.py\u001b[0m in \u001b[0;36mis_empty_data\u001b[1;34m(data)\u001b[0m\n\u001b[0;32m    794\u001b[0m     \u001b[0mis_none\u001b[0m \u001b[1;33m=\u001b[0m \u001b[0mdata\u001b[0m \u001b[1;32mis\u001b[0m \u001b[1;32mNone\u001b[0m\u001b[1;33m\u001b[0m\u001b[1;33m\u001b[0m\u001b[0m\n\u001b[0;32m    795\u001b[0m     \u001b[0mis_list_like_without_dtype\u001b[0m \u001b[1;33m=\u001b[0m \u001b[0mis_list_like\u001b[0m\u001b[1;33m(\u001b[0m\u001b[0mdata\u001b[0m\u001b[1;33m)\u001b[0m \u001b[1;32mand\u001b[0m \u001b[1;32mnot\u001b[0m \u001b[0mhasattr\u001b[0m\u001b[1;33m(\u001b[0m\u001b[0mdata\u001b[0m\u001b[1;33m,\u001b[0m \u001b[1;34m\"dtype\"\u001b[0m\u001b[1;33m)\u001b[0m\u001b[1;33m\u001b[0m\u001b[1;33m\u001b[0m\u001b[0m\n\u001b[1;32m--> 796\u001b[1;33m     \u001b[0mis_simple_empty\u001b[0m \u001b[1;33m=\u001b[0m \u001b[0mis_list_like_without_dtype\u001b[0m \u001b[1;32mand\u001b[0m \u001b[1;32mnot\u001b[0m \u001b[0mdata\u001b[0m\u001b[1;33m\u001b[0m\u001b[1;33m\u001b[0m\u001b[0m\n\u001b[0m\u001b[0;32m    797\u001b[0m     \u001b[1;32mreturn\u001b[0m \u001b[0mis_none\u001b[0m \u001b[1;32mor\u001b[0m \u001b[0mis_simple_empty\u001b[0m\u001b[1;33m\u001b[0m\u001b[1;33m\u001b[0m\u001b[0m\n\u001b[0;32m    798\u001b[0m \u001b[1;33m\u001b[0m\u001b[0m\n",
      "\u001b[1;32m~\\anaconda3\\lib\\site-packages\\pandas\\core\\generic.py\u001b[0m in \u001b[0;36m__nonzero__\u001b[1;34m(self)\u001b[0m\n\u001b[0;32m   1535\u001b[0m     \u001b[1;33m@\u001b[0m\u001b[0mfinal\u001b[0m\u001b[1;33m\u001b[0m\u001b[1;33m\u001b[0m\u001b[0m\n\u001b[0;32m   1536\u001b[0m     \u001b[1;32mdef\u001b[0m \u001b[0m__nonzero__\u001b[0m\u001b[1;33m(\u001b[0m\u001b[0mself\u001b[0m\u001b[1;33m)\u001b[0m\u001b[1;33m:\u001b[0m\u001b[1;33m\u001b[0m\u001b[1;33m\u001b[0m\u001b[0m\n\u001b[1;32m-> 1537\u001b[1;33m         raise ValueError(\n\u001b[0m\u001b[0;32m   1538\u001b[0m             \u001b[1;34mf\"The truth value of a {type(self).__name__} is ambiguous. \"\u001b[0m\u001b[1;33m\u001b[0m\u001b[1;33m\u001b[0m\u001b[0m\n\u001b[0;32m   1539\u001b[0m             \u001b[1;34m\"Use a.empty, a.bool(), a.item(), a.any() or a.all().\"\u001b[0m\u001b[1;33m\u001b[0m\u001b[1;33m\u001b[0m\u001b[0m\n",
      "\u001b[1;31mValueError\u001b[0m: The truth value of a DataFrame is ambiguous. Use a.empty, a.bool(), a.item(), a.any() or a.all()."
     ]
    }
   ],
   "source": [
    "import pandas as pd\n",
    "  \n",
    "arr = measure_df\n",
    "window_size = 11\n",
    "  \n",
    "# Convert array of integers to pandas series\n",
    "numbers_series = pd.Series(arr)\n",
    "  \n",
    "# Get the window of series\n",
    "# of observations of specified window size\n",
    "windows = numbers_series.rolling(window_size)\n",
    "  \n",
    "# Create a series of moving\n",
    "# averages of each window\n",
    "moving_averages = windows.mean()\n",
    "  \n",
    "# Convert pandas series back to list\n",
    "moving_averages_list = moving_averages.tolist()\n",
    "  \n",
    "# Remove null entries from the list\n",
    "final_list = moving_averages_list[window_size - 1:]\n",
    "  \n",
    "print(final_list)"
   ]
  },
  {
   "cell_type": "code",
   "execution_count": 20,
   "id": "440278f7",
   "metadata": {},
   "outputs": [
    {
     "data": {
      "text/plain": [
       "[667.6636363636363,\n",
       " 680.809090909091,\n",
       " 687.9454545454546,\n",
       " 687.1181818181819,\n",
       " 683.0363636363637,\n",
       " 672.3454545454546,\n",
       " 657.7636363636365,\n",
       " 637.3000000000001,\n",
       " 613.3181818181819,\n",
       " 587.690909090909,\n",
       " 561.8818181818181,\n",
       " 539.6636363636363]"
      ]
     },
     "execution_count": 20,
     "metadata": {},
     "output_type": "execute_result"
    }
   ],
   "source": [
    "period = 11\n",
    "sma11 = []\n",
    "for x in range(len(measure_df['Measurement'])-period+1):\n",
    "    yt = measure_df['Measurement'][x:(x+period)].mean() \n",
    "  \n",
    "    sma11.append(yt) \n",
    "sma11"
   ]
  },
  {
   "cell_type": "code",
   "execution_count": 14,
   "id": "40795462",
   "metadata": {},
   "outputs": [
    {
     "name": "stdout",
     "output_type": "stream",
     "text": [
      "[539.9, 549.0, 572.6999999999999, 582.65, 594.24, 606.35, 623.9571428571428, 640.7375, 653.7333333333333, 663.0699999999999, 667.6636363636363, 669.0666666666667, 666.5692307692308, 662.6, 656.2666666666667, 647.9375, 639.6176470588235, 632.1111111111111, 624.8631578947368, 617.4100000000001, 610.0666666666666, 603.6636363636363]\n"
     ]
    }
   ],
   "source": [
    "import pandas as pd\n",
    "  \n",
    "arr = [539.9,558.1,620.1,612.5,640.6,666.9,729.6,758.2,757.7,747.1,713.6,684.5,636.6,611.0,567.6,523.0,506.5,504.5,494.4,475.8,463.2,469.2]\n",
    "window_size = 11\n",
    "  \n",
    "# Convert array of integers to pandas series\n",
    "numbers_series = pd.Series(arr)\n",
    "  \n",
    "# Get the window of series of\n",
    "# observations till the current time\n",
    "windows = numbers_series.expanding()\n",
    "  \n",
    "# Create a series of moving averages of each window\n",
    "moving_averages = windows.mean()\n",
    "  \n",
    "# Convert pandas series back to list\n",
    "moving_averages_list = moving_averages.tolist()\n",
    "  \n",
    "print(moving_averages_list)"
   ]
  },
  {
   "cell_type": "code",
   "execution_count": 22,
   "id": "075736af",
   "metadata": {},
   "outputs": [],
   "source": [
    "def simple_m_avg(period):\n",
    "    y = [np.nan]*(period-1) # set the first period-1 elements in the list as nan\n",
    "    for x in range(len(measure_df['Measurement'])-period+1):\n",
    "        yt = measure_df['Measurement'][x:(x+period)].mean() # calculate the simple moving avg with period\n",
    "        y.append(yt) # put the simple moving avg to the list\n",
    "    return y\n",
    "\n",
    "mavg5 = simple_m_avg(5) # calculate simple moving avg when period = 11\n"
   ]
  },
  {
   "cell_type": "code",
   "execution_count": 23,
   "id": "fe4bd91d",
   "metadata": {},
   "outputs": [
    {
     "data": {
      "text/plain": [
       "[nan,\n",
       " nan,\n",
       " nan,\n",
       " nan,\n",
       " 594.24,\n",
       " 619.6400000000001,\n",
       " 653.9399999999999,\n",
       " 681.5600000000001,\n",
       " 710.6,\n",
       " 731.8999999999999,\n",
       " 741.24,\n",
       " 732.22,\n",
       " 707.9,\n",
       " 678.56,\n",
       " 642.66,\n",
       " 604.54,\n",
       " 568.9399999999999,\n",
       " 542.52,\n",
       " 519.2,\n",
       " 500.84000000000003,\n",
       " 488.88,\n",
       " 481.41999999999996]"
      ]
     },
     "execution_count": 23,
     "metadata": {},
     "output_type": "execute_result"
    }
   ],
   "source": [
    "mavg5"
   ]
  },
  {
   "cell_type": "code",
   "execution_count": null,
   "id": "2dcc6c51",
   "metadata": {},
   "outputs": [],
   "source": []
  }
 ],
 "metadata": {
  "kernelspec": {
   "display_name": "Python 3 (ipykernel)",
   "language": "python",
   "name": "python3"
  },
  "language_info": {
   "codemirror_mode": {
    "name": "ipython",
    "version": 3
   },
   "file_extension": ".py",
   "mimetype": "text/x-python",
   "name": "python",
   "nbconvert_exporter": "python",
   "pygments_lexer": "ipython3",
   "version": "3.9.7"
  }
 },
 "nbformat": 4,
 "nbformat_minor": 5
}
