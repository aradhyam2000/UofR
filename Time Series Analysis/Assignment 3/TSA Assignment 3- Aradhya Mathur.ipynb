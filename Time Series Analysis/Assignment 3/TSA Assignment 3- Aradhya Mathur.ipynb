{
 "cells": [
  {
   "cell_type": "markdown",
   "id": "341a13a1",
   "metadata": {},
   "source": [
    "                                                                                                        Aradhya Mathur\n",
    "\n",
    "DSC 275/475: Time Series Analysis and Forecasting (Fall 2022) \n",
    "HW #3 (Total points: 50)\n",
    "\n",
    "Instructions/Suggestions: \n",
    "•\tFor this homework, you can use external libraries/functions to implement the time-series models. \n",
    "•\tFor R users, \n",
    "o\tRecommend using the “Arima” function in the “forecast” package (https://www.rdocumentation.org/packages/forecast/versions/8.13/topics/Arima). In this function, set “include.constant” to be TRUE to match the standard equation for ARIMA we are using in the lectures. \n",
    "•\t For Python users, \n",
    "o\tFor Q1 and Q2: \n",
    "\tUse the “ARIMA” function from “statsmodels.tsa.arima_model”. Use the “summary” method to obtain the model parameters. You may get a warning message about deprecation when using “ARIMA” from this package but that is OK and you can ignore that.  \n",
    "o\tFor Q2, you can use the predict method after fitting the ARIMA model to obtain the model output values. Make sure to specify the argument typ='level' when using this function.\n"
   ]
  },
  {
   "cell_type": "markdown",
   "id": "4446f514",
   "metadata": {},
   "source": [
    "1.\tThe data provided in the file Measurement_Q1.xls exhibits a linear trend. Apply the following models to the data. (20 pts)\n",
    "\n",
    "a)\tDevelop an IMA(1,1) model for the data. Display the model parameters obtained as your output (8 pts)\n",
    "b)\tCompute and plot the first difference of the data. (2 pts)\n",
    "c)\tNow, develop an MA(1) model on the first difference. Display the model parameters obtained as your output (8 pts)\n",
    "d)\tBased on the model parameters you obtained in (a) and (c), comment on how the two models are related. (2 pts)\n"
   ]
  },
  {
   "cell_type": "code",
   "execution_count": 67,
   "id": "2bd1b53d",
   "metadata": {},
   "outputs": [],
   "source": [
    "import pandas as pd\n",
    "import numpy as np\n",
    "import matplotlib.pyplot as plt\n",
    "from statsmodels.tsa.arima.model import ARIMA\n",
    "from statsmodels.tsa.statespace.tools import diff\n",
    "import warnings\n",
    "import statsmodels.graphics.tsaplots as tsa\n",
    "warnings.filterwarnings(\"ignore\")"
   ]
  },
  {
   "cell_type": "code",
   "execution_count": 68,
   "id": "536d196c",
   "metadata": {},
   "outputs": [],
   "source": [
    "measureQ1 = pd.read_csv('Measurement_Q1.csv')"
   ]
  },
  {
   "cell_type": "code",
   "execution_count": 69,
   "id": "095d6db7",
   "metadata": {},
   "outputs": [
    {
     "data": {
      "text/html": [
       "<div>\n",
       "<style scoped>\n",
       "    .dataframe tbody tr th:only-of-type {\n",
       "        vertical-align: middle;\n",
       "    }\n",
       "\n",
       "    .dataframe tbody tr th {\n",
       "        vertical-align: top;\n",
       "    }\n",
       "\n",
       "    .dataframe thead th {\n",
       "        text-align: right;\n",
       "    }\n",
       "</style>\n",
       "<table border=\"1\" class=\"dataframe\">\n",
       "  <thead>\n",
       "    <tr style=\"text-align: right;\">\n",
       "      <th></th>\n",
       "      <th>Time</th>\n",
       "      <th>Measurement</th>\n",
       "    </tr>\n",
       "  </thead>\n",
       "  <tbody>\n",
       "    <tr>\n",
       "      <th>0</th>\n",
       "      <td>1</td>\n",
       "      <td>1.84</td>\n",
       "    </tr>\n",
       "    <tr>\n",
       "      <th>1</th>\n",
       "      <td>2</td>\n",
       "      <td>3.93</td>\n",
       "    </tr>\n",
       "    <tr>\n",
       "      <th>2</th>\n",
       "      <td>3</td>\n",
       "      <td>4.00</td>\n",
       "    </tr>\n",
       "    <tr>\n",
       "      <th>3</th>\n",
       "      <td>4</td>\n",
       "      <td>5.42</td>\n",
       "    </tr>\n",
       "    <tr>\n",
       "      <th>4</th>\n",
       "      <td>5</td>\n",
       "      <td>6.89</td>\n",
       "    </tr>\n",
       "  </tbody>\n",
       "</table>\n",
       "</div>"
      ],
      "text/plain": [
       "   Time  Measurement\n",
       "0     1         1.84\n",
       "1     2         3.93\n",
       "2     3         4.00\n",
       "3     4         5.42\n",
       "4     5         6.89"
      ]
     },
     "execution_count": 69,
     "metadata": {},
     "output_type": "execute_result"
    }
   ],
   "source": [
    "measureQ1.head()"
   ]
  },
  {
   "cell_type": "code",
   "execution_count": 70,
   "id": "e915d193",
   "metadata": {},
   "outputs": [
    {
     "data": {
      "image/png": "[encoded data removed]",
      "text/plain": [
       "<Figure size 432x288 with 1 Axes>"
      ]
     },
     "metadata": {
      "needs_background": "light"
     },
     "output_type": "display_data"
    }
   ],
   "source": [
    "#Time Series Plot \n",
    "plt.title('Time Series Plot - Measurement_Q1')\n",
    "plt.plot(measureQ1.Time, measureQ1.Measurement)\n",
    "plt.xlabel('Time')\n",
    "plt.ylabel('Measurement')\n",
    "plt.show()\n"
   ]
  },
  {
   "cell_type": "code",
   "execution_count": 71,
   "id": "5c1fcd65",
   "metadata": {},
   "outputs": [
    {
     "data": {
      "text/plain": [
       "<statsmodels.tsa.arima.model.ARIMAResultsWrapper at 0x170050ef340>"
      ]
     },
     "execution_count": 71,
     "metadata": {},
     "output_type": "execute_result"
    }
   ],
   "source": [
    "# a) Develop an IMA(1,1) model for the data. \n",
    "ima_11 = ARIMA(measureQ1.Measurement, order=(0,1,1))\n",
    "ima_11fit = ima_11.fit()\n",
    "ima_11fit"
   ]
  },
  {
   "cell_type": "code",
   "execution_count": 72,
   "id": "27a80e44",
   "metadata": {},
   "outputs": [
    {
     "data": {
      "text/html": [
       "<table class=\"simpletable\">\n",
       "<caption>SARIMAX Results</caption>\n",
       "<tr>\n",
       "  <th>Dep. Variable:</th>      <td>Measurement</td>   <th>  No. Observations:  </th>    <td>150</td>  \n",
       "</tr>\n",
       "<tr>\n",
       "  <th>Model:</th>            <td>ARIMA(0, 1, 1)</td>  <th>  Log Likelihood     </th> <td>-202.609</td>\n",
       "</tr>\n",
       "<tr>\n",
       "  <th>Date:</th>            <td>Thu, 13 Oct 2022</td> <th>  AIC                </th>  <td>409.217</td>\n",
       "</tr>\n",
       "<tr>\n",
       "  <th>Time:</th>                <td>19:12:19</td>     <th>  BIC                </th>  <td>415.225</td>\n",
       "</tr>\n",
       "<tr>\n",
       "  <th>Sample:</th>                  <td>0</td>        <th>  HQIC               </th>  <td>411.658</td>\n",
       "</tr>\n",
       "<tr>\n",
       "  <th></th>                      <td> - 150</td>      <th>                     </th>     <td> </td>   \n",
       "</tr>\n",
       "<tr>\n",
       "  <th>Covariance Type:</th>        <td>opg</td>       <th>                     </th>     <td> </td>   \n",
       "</tr>\n",
       "</table>\n",
       "<table class=\"simpletable\">\n",
       "<tr>\n",
       "     <td></td>       <th>coef</th>     <th>std err</th>      <th>z</th>      <th>P>|z|</th>  <th>[0.025</th>    <th>0.975]</th>  \n",
       "</tr>\n",
       "<tr>\n",
       "  <th>ma.L1</th>  <td>    0.7531</td> <td>    0.060</td> <td>   12.573</td> <td> 0.000</td> <td>    0.636</td> <td>    0.871</td>\n",
       "</tr>\n",
       "<tr>\n",
       "  <th>sigma2</th> <td>    0.8834</td> <td>    0.109</td> <td>    8.080</td> <td> 0.000</td> <td>    0.669</td> <td>    1.098</td>\n",
       "</tr>\n",
       "</table>\n",
       "<table class=\"simpletable\">\n",
       "<tr>\n",
       "  <th>Ljung-Box (L1) (Q):</th>     <td>0.26</td> <th>  Jarque-Bera (JB):  </th> <td>1.10</td> \n",
       "</tr>\n",
       "<tr>\n",
       "  <th>Prob(Q):</th>                <td>0.61</td> <th>  Prob(JB):          </th> <td>0.58</td> \n",
       "</tr>\n",
       "<tr>\n",
       "  <th>Heteroskedasticity (H):</th> <td>1.00</td> <th>  Skew:              </th> <td>-0.21</td>\n",
       "</tr>\n",
       "<tr>\n",
       "  <th>Prob(H) (two-sided):</th>    <td>0.99</td> <th>  Kurtosis:          </th> <td>2.98</td> \n",
       "</tr>\n",
       "</table><br/><br/>Warnings:<br/>[1] Covariance matrix calculated using the outer product of gradients (complex-step)."
      ],
      "text/plain": [
       "<class 'statsmodels.iolib.summary.Summary'>\n",
       "\"\"\"\n",
       "                               SARIMAX Results                                \n",
       "==============================================================================\n",
       "Dep. Variable:            Measurement   No. Observations:                  150\n",
       "Model:                 ARIMA(0, 1, 1)   Log Likelihood                -202.609\n",
       "Date:                Thu, 13 Oct 2022   AIC                            409.217\n",
       "Time:                        19:12:19   BIC                            415.225\n",
       "Sample:                             0   HQIC                           411.658\n",
       "                                - 150                                         \n",
       "Covariance Type:                  opg                                         \n",
       "==============================================================================\n",
       "                 coef    std err          z      P>|z|      [0.025      0.975]\n",
       "------------------------------------------------------------------------------\n",
       "ma.L1          0.7531      0.060     12.573      0.000       0.636       0.871\n",
       "sigma2         0.8834      0.109      8.080      0.000       0.669       1.098\n",
       "===================================================================================\n",
       "Ljung-Box (L1) (Q):                   0.26   Jarque-Bera (JB):                 1.10\n",
       "Prob(Q):                              0.61   Prob(JB):                         0.58\n",
       "Heteroskedasticity (H):               1.00   Skew:                            -0.21\n",
       "Prob(H) (two-sided):                  0.99   Kurtosis:                         2.98\n",
       "===================================================================================\n",
       "\n",
       "Warnings:\n",
       "[1] Covariance matrix calculated using the outer product of gradients (complex-step).\n",
       "\"\"\""
      ]
     },
     "execution_count": 72,
     "metadata": {},
     "output_type": "execute_result"
    }
   ],
   "source": [
    "#Display the model parameters obtained as your output (8 pts)\n",
    "ima_11fit.summary()"
   ]
  },
  {
   "cell_type": "code",
   "execution_count": 73,
   "id": "5b85a3d3",
   "metadata": {},
   "outputs": [
    {
     "data": {
      "text/plain": [
       "1      2.09\n",
       "2      0.07\n",
       "3      1.42\n",
       "4      1.47\n",
       "5     -1.10\n",
       "       ... \n",
       "145   -2.17\n",
       "146   -0.83\n",
       "147   -0.01\n",
       "148   -1.17\n",
       "149   -1.64\n",
       "Name: Measurement, Length: 149, dtype: float64"
      ]
     },
     "execution_count": 73,
     "metadata": {},
     "output_type": "execute_result"
    }
   ],
   "source": [
    "# b)Compute and plot the first difference of the data. (2 pts)\n",
    "firstdiff = diff(measureQ1.Measurement)\n",
    "firstdiff"
   ]
  },
  {
   "cell_type": "code",
   "execution_count": 74,
   "id": "c40b1927",
   "metadata": {},
   "outputs": [
    {
     "data": {
      "image/png": "[encoded data removed]",
      "text/plain": [
       "<Figure size 432x288 with 1 Axes>"
      ]
     },
     "metadata": {
      "needs_background": "light"
     },
     "output_type": "display_data"
    }
   ],
   "source": [
    "#Time Series Plot for first difference \n",
    "plt.title('Plot of First Difference of Measurement_Q1')\n",
    "plt.plot(firstdiff)\n",
    "plt.xlabel('Time')\n",
    "plt.ylabel('First Difference of Data')\n",
    "plt.show()\n"
   ]
  },
  {
   "cell_type": "code",
   "execution_count": 75,
   "id": "b8f2b98b",
   "metadata": {},
   "outputs": [
    {
     "data": {
      "text/html": [
       "<table class=\"simpletable\">\n",
       "<caption>SARIMAX Results</caption>\n",
       "<tr>\n",
       "  <th>Dep. Variable:</th>      <td>Measurement</td>   <th>  No. Observations:  </th>    <td>149</td>  \n",
       "</tr>\n",
       "<tr>\n",
       "  <th>Model:</th>            <td>ARIMA(0, 0, 1)</td>  <th>  Log Likelihood     </th> <td>-202.607</td>\n",
       "</tr>\n",
       "<tr>\n",
       "  <th>Date:</th>            <td>Thu, 13 Oct 2022</td> <th>  AIC                </th>  <td>411.215</td>\n",
       "</tr>\n",
       "<tr>\n",
       "  <th>Time:</th>                <td>19:12:20</td>     <th>  BIC                </th>  <td>420.227</td>\n",
       "</tr>\n",
       "<tr>\n",
       "  <th>Sample:</th>                  <td>0</td>        <th>  HQIC               </th>  <td>414.876</td>\n",
       "</tr>\n",
       "<tr>\n",
       "  <th></th>                      <td> - 149</td>      <th>                     </th>     <td> </td>   \n",
       "</tr>\n",
       "<tr>\n",
       "  <th>Covariance Type:</th>        <td>opg</td>       <th>                     </th>     <td> </td>   \n",
       "</tr>\n",
       "</table>\n",
       "<table class=\"simpletable\">\n",
       "<tr>\n",
       "     <td></td>       <th>coef</th>     <th>std err</th>      <th>z</th>      <th>P>|z|</th>  <th>[0.025</th>    <th>0.975]</th>  \n",
       "</tr>\n",
       "<tr>\n",
       "  <th>const</th>  <td>   -0.0064</td> <td>    0.137</td> <td>   -0.047</td> <td> 0.962</td> <td>   -0.274</td> <td>    0.261</td>\n",
       "</tr>\n",
       "<tr>\n",
       "  <th>ma.L1</th>  <td>    0.7531</td> <td>    0.061</td> <td>   12.392</td> <td> 0.000</td> <td>    0.634</td> <td>    0.872</td>\n",
       "</tr>\n",
       "<tr>\n",
       "  <th>sigma2</th> <td>    0.8834</td> <td>    0.110</td> <td>    8.052</td> <td> 0.000</td> <td>    0.668</td> <td>    1.098</td>\n",
       "</tr>\n",
       "</table>\n",
       "<table class=\"simpletable\">\n",
       "<tr>\n",
       "  <th>Ljung-Box (L1) (Q):</th>     <td>0.26</td> <th>  Jarque-Bera (JB):  </th> <td>1.10</td> \n",
       "</tr>\n",
       "<tr>\n",
       "  <th>Prob(Q):</th>                <td>0.61</td> <th>  Prob(JB):          </th> <td>0.58</td> \n",
       "</tr>\n",
       "<tr>\n",
       "  <th>Heteroskedasticity (H):</th> <td>0.99</td> <th>  Skew:              </th> <td>-0.21</td>\n",
       "</tr>\n",
       "<tr>\n",
       "  <th>Prob(H) (two-sided):</th>    <td>0.98</td> <th>  Kurtosis:          </th> <td>2.98</td> \n",
       "</tr>\n",
       "</table><br/><br/>Warnings:<br/>[1] Covariance matrix calculated using the outer product of gradients (complex-step)."
      ],
      "text/plain": [
       "<class 'statsmodels.iolib.summary.Summary'>\n",
       "\"\"\"\n",
       "                               SARIMAX Results                                \n",
       "==============================================================================\n",
       "Dep. Variable:            Measurement   No. Observations:                  149\n",
       "Model:                 ARIMA(0, 0, 1)   Log Likelihood                -202.607\n",
       "Date:                Thu, 13 Oct 2022   AIC                            411.215\n",
       "Time:                        19:12:20   BIC                            420.227\n",
       "Sample:                             0   HQIC                           414.876\n",
       "                                - 149                                         \n",
       "Covariance Type:                  opg                                         \n",
       "==============================================================================\n",
       "                 coef    std err          z      P>|z|      [0.025      0.975]\n",
       "------------------------------------------------------------------------------\n",
       "const         -0.0064      0.137     -0.047      0.962      -0.274       0.261\n",
       "ma.L1          0.7531      0.061     12.392      0.000       0.634       0.872\n",
       "sigma2         0.8834      0.110      8.052      0.000       0.668       1.098\n",
       "===================================================================================\n",
       "Ljung-Box (L1) (Q):                   0.26   Jarque-Bera (JB):                 1.10\n",
       "Prob(Q):                              0.61   Prob(JB):                         0.58\n",
       "Heteroskedasticity (H):               0.99   Skew:                            -0.21\n",
       "Prob(H) (two-sided):                  0.98   Kurtosis:                         2.98\n",
       "===================================================================================\n",
       "\n",
       "Warnings:\n",
       "[1] Covariance matrix calculated using the outer product of gradients (complex-step).\n",
       "\"\"\""
      ]
     },
     "execution_count": 75,
     "metadata": {},
     "output_type": "execute_result"
    }
   ],
   "source": [
    "#c) Now, develop an MA(1) model on the first difference. \n",
    "#Display the model parameters obtained as your output (8 pts)\n",
    "ma1 = ARIMA(firstdiff, order=(0,0,1))\n",
    "ma1_fit = ma1.fit()\n",
    "ma1_fit.summary()"
   ]
  },
  {
   "cell_type": "markdown",
   "id": "d83051c8",
   "metadata": {},
   "source": [
    "d) Based on the model parameters you obtained in (a) and (c), comment on how the two models are related. (2 pts)\n",
    "\n",
    "Answer) Model (a) and model (c) are same. The two procedures involved are 1) First difference 2) MA model. <br>\n",
    "In model (a) we did both procedures together while in model (c) we did procedure step by step. <br>\n",
    "Coeff for ma.L1 and sigma2 are same for both and they are:<br> ma.L1 = 0.7521 and sigma2 = 0.8834."
   ]
  },
  {
   "cell_type": "markdown",
   "id": "ee65ee71",
   "metadata": {},
   "source": [
    "2. Consider the global mean surface air temperature anomaly data provided in GlobalAirTemperature.xls. (15 pts)\n",
    "a) Apply an IMA(1,1) model to this data. Calculate the SSE by comparing the model output with the data. (6 pts)\n",
    "b) Now, apply an IMA(1,2) model. Calculate the SSE. (6 pts)\n",
    "c) Comment whether model (a) or (b) is better suited for this data based on the SSE? (3 pts)\n"
   ]
  },
  {
   "cell_type": "code",
   "execution_count": 76,
   "id": "799c0153",
   "metadata": {},
   "outputs": [
    {
     "data": {
      "text/html": [
       "<div>\n",
       "<style scoped>\n",
       "    .dataframe tbody tr th:only-of-type {\n",
       "        vertical-align: middle;\n",
       "    }\n",
       "\n",
       "    .dataframe tbody tr th {\n",
       "        vertical-align: top;\n",
       "    }\n",
       "\n",
       "    .dataframe thead th {\n",
       "        text-align: right;\n",
       "    }\n",
       "</style>\n",
       "<table border=\"1\" class=\"dataframe\">\n",
       "  <thead>\n",
       "    <tr style=\"text-align: right;\">\n",
       "      <th></th>\n",
       "      <th>Year</th>\n",
       "      <th>Anomaly, C</th>\n",
       "    </tr>\n",
       "  </thead>\n",
       "  <tbody>\n",
       "    <tr>\n",
       "      <th>0</th>\n",
       "      <td>1880</td>\n",
       "      <td>-0.11</td>\n",
       "    </tr>\n",
       "    <tr>\n",
       "      <th>1</th>\n",
       "      <td>1881</td>\n",
       "      <td>-0.13</td>\n",
       "    </tr>\n",
       "    <tr>\n",
       "      <th>2</th>\n",
       "      <td>1882</td>\n",
       "      <td>-0.01</td>\n",
       "    </tr>\n",
       "    <tr>\n",
       "      <th>3</th>\n",
       "      <td>1883</td>\n",
       "      <td>-0.04</td>\n",
       "    </tr>\n",
       "    <tr>\n",
       "      <th>4</th>\n",
       "      <td>1884</td>\n",
       "      <td>-0.42</td>\n",
       "    </tr>\n",
       "  </tbody>\n",
       "</table>\n",
       "</div>"
      ],
      "text/plain": [
       "   Year  Anomaly, C\n",
       "0  1880       -0.11\n",
       "1  1881       -0.13\n",
       "2  1882       -0.01\n",
       "3  1883       -0.04\n",
       "4  1884       -0.42"
      ]
     },
     "execution_count": 76,
     "metadata": {},
     "output_type": "execute_result"
    }
   ],
   "source": [
    "air_temp = pd.read_csv('GlobalAirTemperature.csv')\n",
    "air_temp.head()"
   ]
  },
  {
   "cell_type": "code",
   "execution_count": 77,
   "id": "e6ad6895",
   "metadata": {},
   "outputs": [
    {
     "data": {
      "text/html": [
       "<div>\n",
       "<style scoped>\n",
       "    .dataframe tbody tr th:only-of-type {\n",
       "        vertical-align: middle;\n",
       "    }\n",
       "\n",
       "    .dataframe tbody tr th {\n",
       "        vertical-align: top;\n",
       "    }\n",
       "\n",
       "    .dataframe thead th {\n",
       "        text-align: right;\n",
       "    }\n",
       "</style>\n",
       "<table border=\"1\" class=\"dataframe\">\n",
       "  <thead>\n",
       "    <tr style=\"text-align: right;\">\n",
       "      <th></th>\n",
       "      <th>Year</th>\n",
       "      <th>Anomaly</th>\n",
       "    </tr>\n",
       "  </thead>\n",
       "  <tbody>\n",
       "    <tr>\n",
       "      <th>0</th>\n",
       "      <td>1880</td>\n",
       "      <td>-0.11</td>\n",
       "    </tr>\n",
       "    <tr>\n",
       "      <th>1</th>\n",
       "      <td>1881</td>\n",
       "      <td>-0.13</td>\n",
       "    </tr>\n",
       "    <tr>\n",
       "      <th>2</th>\n",
       "      <td>1882</td>\n",
       "      <td>-0.01</td>\n",
       "    </tr>\n",
       "    <tr>\n",
       "      <th>3</th>\n",
       "      <td>1883</td>\n",
       "      <td>-0.04</td>\n",
       "    </tr>\n",
       "    <tr>\n",
       "      <th>4</th>\n",
       "      <td>1884</td>\n",
       "      <td>-0.42</td>\n",
       "    </tr>\n",
       "  </tbody>\n",
       "</table>\n",
       "</div>"
      ],
      "text/plain": [
       "   Year  Anomaly\n",
       "0  1880    -0.11\n",
       "1  1881    -0.13\n",
       "2  1882    -0.01\n",
       "3  1883    -0.04\n",
       "4  1884    -0.42"
      ]
     },
     "execution_count": 77,
     "metadata": {},
     "output_type": "execute_result"
    }
   ],
   "source": [
    "air_temp.columns = ['Year','Anomaly']\n",
    "air_temp.head()"
   ]
  },
  {
   "cell_type": "code",
   "execution_count": 78,
   "id": "a40c6bc4",
   "metadata": {},
   "outputs": [
    {
     "data": {
      "image/png": "[encoded data removed]",
      "text/plain": [
       "<Figure size 432x288 with 1 Axes>"
      ]
     },
     "metadata": {
      "needs_background": "light"
     },
     "output_type": "display_data"
    }
   ],
   "source": [
    "#Time Series Plot for Anomaly vs Year\n",
    "plt.plot (air_temp.Year, air_temp.Anomaly)\n",
    "plt.xlabel ('Year')\n",
    "plt.ylabel ('Anomaly')\n",
    "plt.title('Time Series Plot')\n",
    "plt.show()"
   ]
  },
  {
   "cell_type": "code",
   "execution_count": 79,
   "id": "339e407c",
   "metadata": {},
   "outputs": [
    {
     "data": {
      "text/html": [
       "<div>\n",
       "<style scoped>\n",
       "    .dataframe tbody tr th:only-of-type {\n",
       "        vertical-align: middle;\n",
       "    }\n",
       "\n",
       "    .dataframe tbody tr th {\n",
       "        vertical-align: top;\n",
       "    }\n",
       "\n",
       "    .dataframe thead th {\n",
       "        text-align: right;\n",
       "    }\n",
       "</style>\n",
       "<table border=\"1\" class=\"dataframe\">\n",
       "  <thead>\n",
       "    <tr style=\"text-align: right;\">\n",
       "      <th></th>\n",
       "      <th>Year</th>\n",
       "      <th>Anomaly</th>\n",
       "    </tr>\n",
       "  </thead>\n",
       "  <tbody>\n",
       "    <tr>\n",
       "      <th>0</th>\n",
       "      <td>1880</td>\n",
       "      <td>-0.11</td>\n",
       "    </tr>\n",
       "    <tr>\n",
       "      <th>1</th>\n",
       "      <td>1881</td>\n",
       "      <td>-0.13</td>\n",
       "    </tr>\n",
       "    <tr>\n",
       "      <th>2</th>\n",
       "      <td>1882</td>\n",
       "      <td>-0.01</td>\n",
       "    </tr>\n",
       "    <tr>\n",
       "      <th>3</th>\n",
       "      <td>1883</td>\n",
       "      <td>-0.04</td>\n",
       "    </tr>\n",
       "    <tr>\n",
       "      <th>4</th>\n",
       "      <td>1884</td>\n",
       "      <td>-0.42</td>\n",
       "    </tr>\n",
       "    <tr>\n",
       "      <th>...</th>\n",
       "      <td>...</td>\n",
       "      <td>...</td>\n",
       "    </tr>\n",
       "    <tr>\n",
       "      <th>120</th>\n",
       "      <td>2000</td>\n",
       "      <td>0.41</td>\n",
       "    </tr>\n",
       "    <tr>\n",
       "      <th>121</th>\n",
       "      <td>2001</td>\n",
       "      <td>0.56</td>\n",
       "    </tr>\n",
       "    <tr>\n",
       "      <th>122</th>\n",
       "      <td>2002</td>\n",
       "      <td>0.70</td>\n",
       "    </tr>\n",
       "    <tr>\n",
       "      <th>123</th>\n",
       "      <td>2003</td>\n",
       "      <td>0.66</td>\n",
       "    </tr>\n",
       "    <tr>\n",
       "      <th>124</th>\n",
       "      <td>2004</td>\n",
       "      <td>0.60</td>\n",
       "    </tr>\n",
       "  </tbody>\n",
       "</table>\n",
       "<p>125 rows × 2 columns</p>\n",
       "</div>"
      ],
      "text/plain": [
       "     Year  Anomaly\n",
       "0    1880    -0.11\n",
       "1    1881    -0.13\n",
       "2    1882    -0.01\n",
       "3    1883    -0.04\n",
       "4    1884    -0.42\n",
       "..    ...      ...\n",
       "120  2000     0.41\n",
       "121  2001     0.56\n",
       "122  2002     0.70\n",
       "123  2003     0.66\n",
       "124  2004     0.60\n",
       "\n",
       "[125 rows x 2 columns]"
      ]
     },
     "execution_count": 79,
     "metadata": {},
     "output_type": "execute_result"
    }
   ],
   "source": [
    "air_temp"
   ]
  },
  {
   "cell_type": "code",
   "execution_count": 80,
   "id": "bcde705a",
   "metadata": {},
   "outputs": [
    {
     "data": {
      "text/plain": [
       "125"
      ]
     },
     "execution_count": 80,
     "metadata": {},
     "output_type": "execute_result"
    }
   ],
   "source": [
    "#total length of Anomaly\n",
    "end_index = len(air_temp.Anomaly)\n",
    "end_index"
   ]
  },
  {
   "cell_type": "markdown",
   "id": "b483271b",
   "metadata": {},
   "source": [
    "METHOD 1 - We split train and test data in ratio 60:40"
   ]
  },
  {
   "cell_type": "code",
   "execution_count": 81,
   "id": "7b4d1567",
   "metadata": {},
   "outputs": [
    {
     "data": {
      "text/html": [
       "<div>\n",
       "<style scoped>\n",
       "    .dataframe tbody tr th:only-of-type {\n",
       "        vertical-align: middle;\n",
       "    }\n",
       "\n",
       "    .dataframe tbody tr th {\n",
       "        vertical-align: top;\n",
       "    }\n",
       "\n",
       "    .dataframe thead th {\n",
       "        text-align: right;\n",
       "    }\n",
       "</style>\n",
       "<table border=\"1\" class=\"dataframe\">\n",
       "  <thead>\n",
       "    <tr style=\"text-align: right;\">\n",
       "      <th></th>\n",
       "      <th>Year</th>\n",
       "      <th>Anomaly</th>\n",
       "    </tr>\n",
       "  </thead>\n",
       "  <tbody>\n",
       "    <tr>\n",
       "      <th>0</th>\n",
       "      <td>1880</td>\n",
       "      <td>-0.11</td>\n",
       "    </tr>\n",
       "    <tr>\n",
       "      <th>1</th>\n",
       "      <td>1881</td>\n",
       "      <td>-0.13</td>\n",
       "    </tr>\n",
       "    <tr>\n",
       "      <th>2</th>\n",
       "      <td>1882</td>\n",
       "      <td>-0.01</td>\n",
       "    </tr>\n",
       "    <tr>\n",
       "      <th>3</th>\n",
       "      <td>1883</td>\n",
       "      <td>-0.04</td>\n",
       "    </tr>\n",
       "    <tr>\n",
       "      <th>4</th>\n",
       "      <td>1884</td>\n",
       "      <td>-0.42</td>\n",
       "    </tr>\n",
       "    <tr>\n",
       "      <th>...</th>\n",
       "      <td>...</td>\n",
       "      <td>...</td>\n",
       "    </tr>\n",
       "    <tr>\n",
       "      <th>70</th>\n",
       "      <td>1950</td>\n",
       "      <td>-0.17</td>\n",
       "    </tr>\n",
       "    <tr>\n",
       "      <th>71</th>\n",
       "      <td>1951</td>\n",
       "      <td>-0.02</td>\n",
       "    </tr>\n",
       "    <tr>\n",
       "      <th>72</th>\n",
       "      <td>1952</td>\n",
       "      <td>0.03</td>\n",
       "    </tr>\n",
       "    <tr>\n",
       "      <th>73</th>\n",
       "      <td>1953</td>\n",
       "      <td>0.12</td>\n",
       "    </tr>\n",
       "    <tr>\n",
       "      <th>74</th>\n",
       "      <td>1954</td>\n",
       "      <td>-0.09</td>\n",
       "    </tr>\n",
       "  </tbody>\n",
       "</table>\n",
       "<p>75 rows × 2 columns</p>\n",
       "</div>"
      ],
      "text/plain": [
       "    Year  Anomaly\n",
       "0   1880    -0.11\n",
       "1   1881    -0.13\n",
       "2   1882    -0.01\n",
       "3   1883    -0.04\n",
       "4   1884    -0.42\n",
       "..   ...      ...\n",
       "70  1950    -0.17\n",
       "71  1951    -0.02\n",
       "72  1952     0.03\n",
       "73  1953     0.12\n",
       "74  1954    -0.09\n",
       "\n",
       "[75 rows x 2 columns]"
      ]
     },
     "execution_count": 81,
     "metadata": {},
     "output_type": "execute_result"
    }
   ],
   "source": [
    "#Spliting into test data and train data gives a float, we convert it to int using int function. \n",
    "#(Basically 125*0.6 is 75.0 so after int we get 75)\n",
    "test_data = air_temp[int(len(air_temp)*0.60):]\n",
    "train_data = air_temp[:int(len(air_temp)*0.60)]\n",
    "train_data"
   ]
  },
  {
   "cell_type": "code",
   "execution_count": 82,
   "id": "9ee2e668",
   "metadata": {},
   "outputs": [
    {
     "data": {
      "text/html": [
       "<table class=\"simpletable\">\n",
       "<caption>SARIMAX Results</caption>\n",
       "<tr>\n",
       "  <th>Dep. Variable:</th>        <td>Anomaly</td>     <th>  No. Observations:  </th>   <td>75</td>   \n",
       "</tr>\n",
       "<tr>\n",
       "  <th>Model:</th>            <td>ARIMA(0, 1, 1)</td>  <th>  Log Likelihood     </th> <td>45.008</td> \n",
       "</tr>\n",
       "<tr>\n",
       "  <th>Date:</th>            <td>Thu, 13 Oct 2022</td> <th>  AIC                </th> <td>-86.016</td>\n",
       "</tr>\n",
       "<tr>\n",
       "  <th>Time:</th>                <td>19:12:21</td>     <th>  BIC                </th> <td>-81.408</td>\n",
       "</tr>\n",
       "<tr>\n",
       "  <th>Sample:</th>                  <td>0</td>        <th>  HQIC               </th> <td>-84.177</td>\n",
       "</tr>\n",
       "<tr>\n",
       "  <th></th>                       <td> - 75</td>      <th>                     </th>    <td> </td>   \n",
       "</tr>\n",
       "<tr>\n",
       "  <th>Covariance Type:</th>        <td>opg</td>       <th>                     </th>    <td> </td>   \n",
       "</tr>\n",
       "</table>\n",
       "<table class=\"simpletable\">\n",
       "<tr>\n",
       "     <td></td>       <th>coef</th>     <th>std err</th>      <th>z</th>      <th>P>|z|</th>  <th>[0.025</th>    <th>0.975]</th>  \n",
       "</tr>\n",
       "<tr>\n",
       "  <th>ma.L1</th>  <td>   -0.7457</td> <td>    0.089</td> <td>   -8.414</td> <td> 0.000</td> <td>   -0.919</td> <td>   -0.572</td>\n",
       "</tr>\n",
       "<tr>\n",
       "  <th>sigma2</th> <td>    0.0172</td> <td>    0.003</td> <td>    6.484</td> <td> 0.000</td> <td>    0.012</td> <td>    0.022</td>\n",
       "</tr>\n",
       "</table>\n",
       "<table class=\"simpletable\">\n",
       "<tr>\n",
       "  <th>Ljung-Box (L1) (Q):</th>     <td>3.55</td> <th>  Jarque-Bera (JB):  </th> <td>2.99</td> \n",
       "</tr>\n",
       "<tr>\n",
       "  <th>Prob(Q):</th>                <td>0.06</td> <th>  Prob(JB):          </th> <td>0.22</td> \n",
       "</tr>\n",
       "<tr>\n",
       "  <th>Heteroskedasticity (H):</th> <td>0.36</td> <th>  Skew:              </th> <td>-0.43</td>\n",
       "</tr>\n",
       "<tr>\n",
       "  <th>Prob(H) (two-sided):</th>    <td>0.01</td> <th>  Kurtosis:          </th> <td>3.48</td> \n",
       "</tr>\n",
       "</table><br/><br/>Warnings:<br/>[1] Covariance matrix calculated using the outer product of gradients (complex-step)."
      ],
      "text/plain": [
       "<class 'statsmodels.iolib.summary.Summary'>\n",
       "\"\"\"\n",
       "                               SARIMAX Results                                \n",
       "==============================================================================\n",
       "Dep. Variable:                Anomaly   No. Observations:                   75\n",
       "Model:                 ARIMA(0, 1, 1)   Log Likelihood                  45.008\n",
       "Date:                Thu, 13 Oct 2022   AIC                            -86.016\n",
       "Time:                        19:12:21   BIC                            -81.408\n",
       "Sample:                             0   HQIC                           -84.177\n",
       "                                 - 75                                         \n",
       "Covariance Type:                  opg                                         \n",
       "==============================================================================\n",
       "                 coef    std err          z      P>|z|      [0.025      0.975]\n",
       "------------------------------------------------------------------------------\n",
       "ma.L1         -0.7457      0.089     -8.414      0.000      -0.919      -0.572\n",
       "sigma2         0.0172      0.003      6.484      0.000       0.012       0.022\n",
       "===================================================================================\n",
       "Ljung-Box (L1) (Q):                   3.55   Jarque-Bera (JB):                 2.99\n",
       "Prob(Q):                              0.06   Prob(JB):                         0.22\n",
       "Heteroskedasticity (H):               0.36   Skew:                            -0.43\n",
       "Prob(H) (two-sided):                  0.01   Kurtosis:                         3.48\n",
       "===================================================================================\n",
       "\n",
       "Warnings:\n",
       "[1] Covariance matrix calculated using the outer product of gradients (complex-step).\n",
       "\"\"\""
      ]
     },
     "execution_count": 82,
     "metadata": {},
     "output_type": "execute_result"
    }
   ],
   "source": [
    "# a) Apply an IMA(1,1) model to this data.\n",
    "\n",
    "at_ima11 = ARIMA(train_data.Anomaly, order=(0,1,1))\n",
    "at_ima11_fit = at_ima11.fit()\n",
    "at_ima11_fit.summary()"
   ]
  },
  {
   "cell_type": "code",
   "execution_count": 83,
   "id": "195fd4a7",
   "metadata": {},
   "outputs": [
    {
     "data": {
      "text/plain": [
       "75    -0.009709\n",
       "76    -0.009709\n",
       "77    -0.009709\n",
       "78    -0.009709\n",
       "79    -0.009709\n",
       "80    -0.009709\n",
       "81    -0.009709\n",
       "82    -0.009709\n",
       "83    -0.009709\n",
       "84    -0.009709\n",
       "85    -0.009709\n",
       "86    -0.009709\n",
       "87    -0.009709\n",
       "88    -0.009709\n",
       "89    -0.009709\n",
       "90    -0.009709\n",
       "91    -0.009709\n",
       "92    -0.009709\n",
       "93    -0.009709\n",
       "94    -0.009709\n",
       "95    -0.009709\n",
       "96    -0.009709\n",
       "97    -0.009709\n",
       "98    -0.009709\n",
       "99    -0.009709\n",
       "100   -0.009709\n",
       "101   -0.009709\n",
       "102   -0.009709\n",
       "103   -0.009709\n",
       "104   -0.009709\n",
       "105   -0.009709\n",
       "106   -0.009709\n",
       "107   -0.009709\n",
       "108   -0.009709\n",
       "109   -0.009709\n",
       "110   -0.009709\n",
       "111   -0.009709\n",
       "112   -0.009709\n",
       "113   -0.009709\n",
       "114   -0.009709\n",
       "115   -0.009709\n",
       "116   -0.009709\n",
       "117   -0.009709\n",
       "118   -0.009709\n",
       "119   -0.009709\n",
       "120   -0.009709\n",
       "121   -0.009709\n",
       "122   -0.009709\n",
       "123   -0.009709\n",
       "124   -0.009709\n",
       "Name: predicted_mean, dtype: float64"
      ]
     },
     "execution_count": 83,
     "metadata": {},
     "output_type": "execute_result"
    }
   ],
   "source": [
    "# Calculate the SSE \n",
    "airtemp_pred = at_ima11_fit.predict (start=int(len(air_temp)*0.60), end= end_index-1)\n",
    "airtemp_pred"
   ]
  },
  {
   "cell_type": "code",
   "execution_count": 84,
   "id": "147abe66",
   "metadata": {},
   "outputs": [
    {
     "data": {
      "text/plain": [
       "4.865956804587791"
      ]
     },
     "execution_count": 84,
     "metadata": {},
     "output_type": "execute_result"
    }
   ],
   "source": [
    "SSE = np.sum((air_temp.Anomaly-airtemp_pred)**2)\n",
    "SSE"
   ]
  },
  {
   "cell_type": "markdown",
   "id": "c702a65f",
   "metadata": {},
   "source": [
    "4.865956804587791 is the SSE"
   ]
  },
  {
   "cell_type": "code",
   "execution_count": 85,
   "id": "53eb2b00",
   "metadata": {},
   "outputs": [
    {
     "data": {
      "text/html": [
       "<table class=\"simpletable\">\n",
       "<caption>SARIMAX Results</caption>\n",
       "<tr>\n",
       "  <th>Dep. Variable:</th>        <td>Anomaly</td>     <th>  No. Observations:  </th>   <td>75</td>   \n",
       "</tr>\n",
       "<tr>\n",
       "  <th>Model:</th>            <td>ARIMA(0, 1, 2)</td>  <th>  Log Likelihood     </th> <td>49.396</td> \n",
       "</tr>\n",
       "<tr>\n",
       "  <th>Date:</th>            <td>Thu, 13 Oct 2022</td> <th>  AIC                </th> <td>-92.792</td>\n",
       "</tr>\n",
       "<tr>\n",
       "  <th>Time:</th>                <td>19:12:22</td>     <th>  BIC                </th> <td>-85.880</td>\n",
       "</tr>\n",
       "<tr>\n",
       "  <th>Sample:</th>                  <td>0</td>        <th>  HQIC               </th> <td>-90.035</td>\n",
       "</tr>\n",
       "<tr>\n",
       "  <th></th>                       <td> - 75</td>      <th>                     </th>    <td> </td>   \n",
       "</tr>\n",
       "<tr>\n",
       "  <th>Covariance Type:</th>        <td>opg</td>       <th>                     </th>    <td> </td>   \n",
       "</tr>\n",
       "</table>\n",
       "<table class=\"simpletable\">\n",
       "<tr>\n",
       "     <td></td>       <th>coef</th>     <th>std err</th>      <th>z</th>      <th>P>|z|</th>  <th>[0.025</th>    <th>0.975]</th>  \n",
       "</tr>\n",
       "<tr>\n",
       "  <th>ma.L1</th>  <td>   -0.4356</td> <td>    0.140</td> <td>   -3.120</td> <td> 0.002</td> <td>   -0.709</td> <td>   -0.162</td>\n",
       "</tr>\n",
       "<tr>\n",
       "  <th>ma.L2</th>  <td>   -0.3438</td> <td>    0.116</td> <td>   -2.963</td> <td> 0.003</td> <td>   -0.571</td> <td>   -0.116</td>\n",
       "</tr>\n",
       "<tr>\n",
       "  <th>sigma2</th> <td>    0.0152</td> <td>    0.003</td> <td>    5.271</td> <td> 0.000</td> <td>    0.010</td> <td>    0.021</td>\n",
       "</tr>\n",
       "</table>\n",
       "<table class=\"simpletable\">\n",
       "<tr>\n",
       "  <th>Ljung-Box (L1) (Q):</th>     <td>0.02</td> <th>  Jarque-Bera (JB):  </th> <td>2.33</td> \n",
       "</tr>\n",
       "<tr>\n",
       "  <th>Prob(Q):</th>                <td>0.88</td> <th>  Prob(JB):          </th> <td>0.31</td> \n",
       "</tr>\n",
       "<tr>\n",
       "  <th>Heteroskedasticity (H):</th> <td>0.52</td> <th>  Skew:              </th> <td>-0.43</td>\n",
       "</tr>\n",
       "<tr>\n",
       "  <th>Prob(H) (two-sided):</th>    <td>0.11</td> <th>  Kurtosis:          </th> <td>2.98</td> \n",
       "</tr>\n",
       "</table><br/><br/>Warnings:<br/>[1] Covariance matrix calculated using the outer product of gradients (complex-step)."
      ],
      "text/plain": [
       "<class 'statsmodels.iolib.summary.Summary'>\n",
       "\"\"\"\n",
       "                               SARIMAX Results                                \n",
       "==============================================================================\n",
       "Dep. Variable:                Anomaly   No. Observations:                   75\n",
       "Model:                 ARIMA(0, 1, 2)   Log Likelihood                  49.396\n",
       "Date:                Thu, 13 Oct 2022   AIC                            -92.792\n",
       "Time:                        19:12:22   BIC                            -85.880\n",
       "Sample:                             0   HQIC                           -90.035\n",
       "                                 - 75                                         \n",
       "Covariance Type:                  opg                                         \n",
       "==============================================================================\n",
       "                 coef    std err          z      P>|z|      [0.025      0.975]\n",
       "------------------------------------------------------------------------------\n",
       "ma.L1         -0.4356      0.140     -3.120      0.002      -0.709      -0.162\n",
       "ma.L2         -0.3438      0.116     -2.963      0.003      -0.571      -0.116\n",
       "sigma2         0.0152      0.003      5.271      0.000       0.010       0.021\n",
       "===================================================================================\n",
       "Ljung-Box (L1) (Q):                   0.02   Jarque-Bera (JB):                 2.33\n",
       "Prob(Q):                              0.88   Prob(JB):                         0.31\n",
       "Heteroskedasticity (H):               0.52   Skew:                            -0.43\n",
       "Prob(H) (two-sided):                  0.11   Kurtosis:                         2.98\n",
       "===================================================================================\n",
       "\n",
       "Warnings:\n",
       "[1] Covariance matrix calculated using the outer product of gradients (complex-step).\n",
       "\"\"\""
      ]
     },
     "execution_count": 85,
     "metadata": {},
     "output_type": "execute_result"
    }
   ],
   "source": [
    "# b) Now, apply an IMA(1,2) model. Calculate the SSE. (6 pts)\n",
    "at_ima12 = ARIMA(train_data.Anomaly, order=(0,1,2))\n",
    "at_ima12_fit = at_ima12.fit()\n",
    "at_ima12_fit.summary()"
   ]
  },
  {
   "cell_type": "code",
   "execution_count": 86,
   "id": "a24721ca",
   "metadata": {},
   "outputs": [
    {
     "data": {
      "text/plain": [
       "75    -0.063848\n",
       "76    -0.011477\n",
       "77    -0.011477\n",
       "78    -0.011477\n",
       "79    -0.011477\n",
       "80    -0.011477\n",
       "81    -0.011477\n",
       "82    -0.011477\n",
       "83    -0.011477\n",
       "84    -0.011477\n",
       "85    -0.011477\n",
       "86    -0.011477\n",
       "87    -0.011477\n",
       "88    -0.011477\n",
       "89    -0.011477\n",
       "90    -0.011477\n",
       "91    -0.011477\n",
       "92    -0.011477\n",
       "93    -0.011477\n",
       "94    -0.011477\n",
       "95    -0.011477\n",
       "96    -0.011477\n",
       "97    -0.011477\n",
       "98    -0.011477\n",
       "99    -0.011477\n",
       "100   -0.011477\n",
       "101   -0.011477\n",
       "102   -0.011477\n",
       "103   -0.011477\n",
       "104   -0.011477\n",
       "105   -0.011477\n",
       "106   -0.011477\n",
       "107   -0.011477\n",
       "108   -0.011477\n",
       "109   -0.011477\n",
       "110   -0.011477\n",
       "111   -0.011477\n",
       "112   -0.011477\n",
       "113   -0.011477\n",
       "114   -0.011477\n",
       "115   -0.011477\n",
       "116   -0.011477\n",
       "117   -0.011477\n",
       "118   -0.011477\n",
       "119   -0.011477\n",
       "120   -0.011477\n",
       "121   -0.011477\n",
       "122   -0.011477\n",
       "123   -0.011477\n",
       "124   -0.011477\n",
       "Name: predicted_mean, dtype: float64"
      ]
     },
     "execution_count": 86,
     "metadata": {},
     "output_type": "execute_result"
    }
   ],
   "source": [
    "# Calculate the SSE \n",
    "airtemp_pred_12 = at_ima12_fit.predict (start=int(len(air_temp)*0.60), end= end_index-1)\n",
    "airtemp_pred_12"
   ]
  },
  {
   "cell_type": "code",
   "execution_count": 87,
   "id": "b8d2aea3",
   "metadata": {},
   "outputs": [
    {
     "data": {
      "text/plain": [
       "4.8948727088978785"
      ]
     },
     "execution_count": 87,
     "metadata": {},
     "output_type": "execute_result"
    }
   ],
   "source": [
    "SSE = np.sum((air_temp.Anomaly-airtemp_pred_12)**2)\n",
    "SSE"
   ]
  },
  {
   "cell_type": "markdown",
   "id": "15469c06",
   "metadata": {},
   "source": [
    "4.8948727088978785 is the SSE"
   ]
  },
  {
   "cell_type": "markdown",
   "id": "6c7b4eab",
   "metadata": {},
   "source": [
    "ALTERNATE METHOD (As per the notebook shared in Blackboard)"
   ]
  },
  {
   "cell_type": "code",
   "execution_count": 88,
   "id": "a8b11e5d",
   "metadata": {},
   "outputs": [
    {
     "data": {
      "text/html": [
       "<table class=\"simpletable\">\n",
       "<caption>SARIMAX Results</caption>\n",
       "<tr>\n",
       "  <th>Dep. Variable:</th>        <td>Anomaly</td>     <th>  No. Observations:  </th>    <td>125</td>  \n",
       "</tr>\n",
       "<tr>\n",
       "  <th>Model:</th>            <td>ARIMA(0, 1, 1)</td>  <th>  Log Likelihood     </th>  <td>72.910</td> \n",
       "</tr>\n",
       "<tr>\n",
       "  <th>Date:</th>            <td>Thu, 13 Oct 2022</td> <th>  AIC                </th> <td>-141.821</td>\n",
       "</tr>\n",
       "<tr>\n",
       "  <th>Time:</th>                <td>19:12:23</td>     <th>  BIC                </th> <td>-136.180</td>\n",
       "</tr>\n",
       "<tr>\n",
       "  <th>Sample:</th>                  <td>0</td>        <th>  HQIC               </th> <td>-139.530</td>\n",
       "</tr>\n",
       "<tr>\n",
       "  <th></th>                      <td> - 125</td>      <th>                     </th>     <td> </td>   \n",
       "</tr>\n",
       "<tr>\n",
       "  <th>Covariance Type:</th>        <td>opg</td>       <th>                     </th>     <td> </td>   \n",
       "</tr>\n",
       "</table>\n",
       "<table class=\"simpletable\">\n",
       "<tr>\n",
       "     <td></td>       <th>coef</th>     <th>std err</th>      <th>z</th>      <th>P>|z|</th>  <th>[0.025</th>    <th>0.975]</th>  \n",
       "</tr>\n",
       "<tr>\n",
       "  <th>ma.L1</th>  <td>   -0.6640</td> <td>    0.072</td> <td>   -9.243</td> <td> 0.000</td> <td>   -0.805</td> <td>   -0.523</td>\n",
       "</tr>\n",
       "<tr>\n",
       "  <th>sigma2</th> <td>    0.0180</td> <td>    0.002</td> <td>    8.182</td> <td> 0.000</td> <td>    0.014</td> <td>    0.022</td>\n",
       "</tr>\n",
       "</table>\n",
       "<table class=\"simpletable\">\n",
       "<tr>\n",
       "  <th>Ljung-Box (L1) (Q):</th>     <td>2.36</td> <th>  Jarque-Bera (JB):  </th> <td>2.20</td> \n",
       "</tr>\n",
       "<tr>\n",
       "  <th>Prob(Q):</th>                <td>0.12</td> <th>  Prob(JB):          </th> <td>0.33</td> \n",
       "</tr>\n",
       "<tr>\n",
       "  <th>Heteroskedasticity (H):</th> <td>0.87</td> <th>  Skew:              </th> <td>-0.29</td>\n",
       "</tr>\n",
       "<tr>\n",
       "  <th>Prob(H) (two-sided):</th>    <td>0.65</td> <th>  Kurtosis:          </th> <td>3.32</td> \n",
       "</tr>\n",
       "</table><br/><br/>Warnings:<br/>[1] Covariance matrix calculated using the outer product of gradients (complex-step)."
      ],
      "text/plain": [
       "<class 'statsmodels.iolib.summary.Summary'>\n",
       "\"\"\"\n",
       "                               SARIMAX Results                                \n",
       "==============================================================================\n",
       "Dep. Variable:                Anomaly   No. Observations:                  125\n",
       "Model:                 ARIMA(0, 1, 1)   Log Likelihood                  72.910\n",
       "Date:                Thu, 13 Oct 2022   AIC                           -141.821\n",
       "Time:                        19:12:23   BIC                           -136.180\n",
       "Sample:                             0   HQIC                          -139.530\n",
       "                                - 125                                         \n",
       "Covariance Type:                  opg                                         \n",
       "==============================================================================\n",
       "                 coef    std err          z      P>|z|      [0.025      0.975]\n",
       "------------------------------------------------------------------------------\n",
       "ma.L1         -0.6640      0.072     -9.243      0.000      -0.805      -0.523\n",
       "sigma2         0.0180      0.002      8.182      0.000       0.014       0.022\n",
       "===================================================================================\n",
       "Ljung-Box (L1) (Q):                   2.36   Jarque-Bera (JB):                 2.20\n",
       "Prob(Q):                              0.12   Prob(JB):                         0.33\n",
       "Heteroskedasticity (H):               0.87   Skew:                            -0.29\n",
       "Prob(H) (two-sided):                  0.65   Kurtosis:                         3.32\n",
       "===================================================================================\n",
       "\n",
       "Warnings:\n",
       "[1] Covariance matrix calculated using the outer product of gradients (complex-step).\n",
       "\"\"\""
      ]
     },
     "execution_count": 88,
     "metadata": {},
     "output_type": "execute_result"
    }
   ],
   "source": [
    "# a)\n",
    "# Applying IMA(1,1) \n",
    "#Directly on entire dataset\n",
    "air11 = ARIMA(air_temp.Anomaly, order=(0,1,1))\n",
    "air11_fit = air11.fit()\n",
    "air11_fit.summary()"
   ]
  },
  {
   "cell_type": "code",
   "execution_count": 89,
   "id": "eeceec30",
   "metadata": {},
   "outputs": [
    {
     "data": {
      "text/plain": [
       "2.2339840521727736"
      ]
     },
     "execution_count": 89,
     "metadata": {},
     "output_type": "execute_result"
    }
   ],
   "source": [
    "#Using .predict()\n",
    "air_predict11 = air11_fit.predict (1, end_index, typ = 'levels').rename(\"Predict11\")\n",
    "SSE1 = np.sum((air_temp.Anomaly-air_predict11)**2)\n",
    "SSE1"
   ]
  },
  {
   "cell_type": "markdown",
   "id": "799188f7",
   "metadata": {},
   "source": [
    "SSE is 2.2339840521727736"
   ]
  },
  {
   "cell_type": "code",
   "execution_count": 90,
   "id": "a8a081e6",
   "metadata": {},
   "outputs": [
    {
     "data": {
      "text/html": [
       "<table class=\"simpletable\">\n",
       "<caption>SARIMAX Results</caption>\n",
       "<tr>\n",
       "  <th>Dep. Variable:</th>        <td>Anomaly</td>     <th>  No. Observations:  </th>    <td>125</td>  \n",
       "</tr>\n",
       "<tr>\n",
       "  <th>Model:</th>            <td>ARIMA(0, 1, 2)</td>  <th>  Log Likelihood     </th>  <td>76.508</td> \n",
       "</tr>\n",
       "<tr>\n",
       "  <th>Date:</th>            <td>Thu, 13 Oct 2022</td> <th>  AIC                </th> <td>-147.016</td>\n",
       "</tr>\n",
       "<tr>\n",
       "  <th>Time:</th>                <td>19:12:23</td>     <th>  BIC                </th> <td>-138.555</td>\n",
       "</tr>\n",
       "<tr>\n",
       "  <th>Sample:</th>                  <td>0</td>        <th>  HQIC               </th> <td>-143.579</td>\n",
       "</tr>\n",
       "<tr>\n",
       "  <th></th>                      <td> - 125</td>      <th>                     </th>     <td> </td>   \n",
       "</tr>\n",
       "<tr>\n",
       "  <th>Covariance Type:</th>        <td>opg</td>       <th>                     </th>     <td> </td>   \n",
       "</tr>\n",
       "</table>\n",
       "<table class=\"simpletable\">\n",
       "<tr>\n",
       "     <td></td>       <th>coef</th>     <th>std err</th>      <th>z</th>      <th>P>|z|</th>  <th>[0.025</th>    <th>0.975]</th>  \n",
       "</tr>\n",
       "<tr>\n",
       "  <th>ma.L1</th>  <td>   -0.4676</td> <td>    0.099</td> <td>   -4.736</td> <td> 0.000</td> <td>   -0.661</td> <td>   -0.274</td>\n",
       "</tr>\n",
       "<tr>\n",
       "  <th>ma.L2</th>  <td>   -0.2296</td> <td>    0.090</td> <td>   -2.565</td> <td> 0.010</td> <td>   -0.405</td> <td>   -0.054</td>\n",
       "</tr>\n",
       "<tr>\n",
       "  <th>sigma2</th> <td>    0.0170</td> <td>    0.002</td> <td>    7.631</td> <td> 0.000</td> <td>    0.013</td> <td>    0.021</td>\n",
       "</tr>\n",
       "</table>\n",
       "<table class=\"simpletable\">\n",
       "<tr>\n",
       "  <th>Ljung-Box (L1) (Q):</th>     <td>0.13</td> <th>  Jarque-Bera (JB):  </th> <td>1.18</td> \n",
       "</tr>\n",
       "<tr>\n",
       "  <th>Prob(Q):</th>                <td>0.72</td> <th>  Prob(JB):          </th> <td>0.55</td> \n",
       "</tr>\n",
       "<tr>\n",
       "  <th>Heteroskedasticity (H):</th> <td>1.04</td> <th>  Skew:              </th> <td>-0.23</td>\n",
       "</tr>\n",
       "<tr>\n",
       "  <th>Prob(H) (two-sided):</th>    <td>0.91</td> <th>  Kurtosis:          </th> <td>3.12</td> \n",
       "</tr>\n",
       "</table><br/><br/>Warnings:<br/>[1] Covariance matrix calculated using the outer product of gradients (complex-step)."
      ],
      "text/plain": [
       "<class 'statsmodels.iolib.summary.Summary'>\n",
       "\"\"\"\n",
       "                               SARIMAX Results                                \n",
       "==============================================================================\n",
       "Dep. Variable:                Anomaly   No. Observations:                  125\n",
       "Model:                 ARIMA(0, 1, 2)   Log Likelihood                  76.508\n",
       "Date:                Thu, 13 Oct 2022   AIC                           -147.016\n",
       "Time:                        19:12:23   BIC                           -138.555\n",
       "Sample:                             0   HQIC                          -143.579\n",
       "                                - 125                                         \n",
       "Covariance Type:                  opg                                         \n",
       "==============================================================================\n",
       "                 coef    std err          z      P>|z|      [0.025      0.975]\n",
       "------------------------------------------------------------------------------\n",
       "ma.L1         -0.4676      0.099     -4.736      0.000      -0.661      -0.274\n",
       "ma.L2         -0.2296      0.090     -2.565      0.010      -0.405      -0.054\n",
       "sigma2         0.0170      0.002      7.631      0.000       0.013       0.021\n",
       "===================================================================================\n",
       "Ljung-Box (L1) (Q):                   0.13   Jarque-Bera (JB):                 1.18\n",
       "Prob(Q):                              0.72   Prob(JB):                         0.55\n",
       "Heteroskedasticity (H):               1.04   Skew:                            -0.23\n",
       "Prob(H) (two-sided):                  0.91   Kurtosis:                         3.12\n",
       "===================================================================================\n",
       "\n",
       "Warnings:\n",
       "[1] Covariance matrix calculated using the outer product of gradients (complex-step).\n",
       "\"\"\""
      ]
     },
     "execution_count": 90,
     "metadata": {},
     "output_type": "execute_result"
    }
   ],
   "source": [
    "# b)\n",
    "# Applying IMA(1,2) \n",
    "air12 = ARIMA(air_temp.Anomaly, order=(0,1,2))\n",
    "air12_fit = air12.fit()\n",
    "air12_fit.summary()"
   ]
  },
  {
   "cell_type": "code",
   "execution_count": 91,
   "id": "8f96ba42",
   "metadata": {},
   "outputs": [
    {
     "data": {
      "text/plain": [
       "2.112040613621497"
      ]
     },
     "execution_count": 91,
     "metadata": {},
     "output_type": "execute_result"
    }
   ],
   "source": [
    "#Using .predict()\n",
    "air_predict12 = air12_fit.predict (1, end_index, typ = 'levels').rename(\"Predict12\")\n",
    "SSE2 = np.sum((air_temp.Anomaly-air_predict12)**2)\n",
    "SSE2"
   ]
  },
  {
   "cell_type": "markdown",
   "id": "ba243183",
   "metadata": {},
   "source": [
    "SSE is 2.112040613621497"
   ]
  },
  {
   "cell_type": "markdown",
   "id": "6dd213c8",
   "metadata": {},
   "source": [
    "c) Comment whether model (a) or (b) is better suited for this data based on the SSE? (3 pts)"
   ]
  },
  {
   "cell_type": "markdown",
   "id": "4ed090d2",
   "metadata": {},
   "source": [
    "Using the first method we got :<br> \n",
    "It is evident that model (a) is better than model (b). Smaller the SSE, better is the model. But the difference in minute  <br> \n",
    "In the first method, our SSE for model (a) is 4.865956804587791 and for model (b) is 4.8948727088978785 <br> \n",
    "Using the second method we got: <br> \n",
    "It is evident that model (b) is better than model (a). Smaller the SSE, better is the model.  <br> \n",
    "In the second method, our SSE for model (a) is 2.2339840521727736 and for model (b) is 2.112040613621497 <br>\n",
    "Considering second method is more acceptable, I would say model (b) is better suited for this data than model (a)."
   ]
  },
  {
   "cell_type": "markdown",
   "id": "c6312abf",
   "metadata": {},
   "source": [
    "3.Review the dataset in the file Measurement_Q3.xls which contains measurements recorded annually over close to 50 years. (15 pts)\n",
    "a) Plot the time series, ACF, and Partial AutoCorrelation Function (PACF). (6 pts)\n",
    "b) Compute the first difference and plot its ACF and PACF. (6 pts)\n",
    "c) Based on the results in (b) above, what model order, i.e. p,d,q in ARMA(p,d,q), would you recommend for the above time series? Provide a justification for your answer. (3 pts)\n"
   ]
  },
  {
   "cell_type": "code",
   "execution_count": 92,
   "id": "db8f29e4",
   "metadata": {},
   "outputs": [
    {
     "data": {
      "text/html": [
       "<div>\n",
       "<style scoped>\n",
       "    .dataframe tbody tr th:only-of-type {\n",
       "        vertical-align: middle;\n",
       "    }\n",
       "\n",
       "    .dataframe tbody tr th {\n",
       "        vertical-align: top;\n",
       "    }\n",
       "\n",
       "    .dataframe thead th {\n",
       "        text-align: right;\n",
       "    }\n",
       "</style>\n",
       "<table border=\"1\" class=\"dataframe\">\n",
       "  <thead>\n",
       "    <tr style=\"text-align: right;\">\n",
       "      <th></th>\n",
       "      <th>Year</th>\n",
       "      <th>Measurement</th>\n",
       "    </tr>\n",
       "  </thead>\n",
       "  <tbody>\n",
       "    <tr>\n",
       "      <th>0</th>\n",
       "      <td>1950</td>\n",
       "      <td>2.429415</td>\n",
       "    </tr>\n",
       "    <tr>\n",
       "      <th>1</th>\n",
       "      <td>1951</td>\n",
       "      <td>2.363364</td>\n",
       "    </tr>\n",
       "    <tr>\n",
       "      <th>2</th>\n",
       "      <td>1952</td>\n",
       "      <td>2.374305</td>\n",
       "    </tr>\n",
       "    <tr>\n",
       "      <th>3</th>\n",
       "      <td>1953</td>\n",
       "      <td>2.295520</td>\n",
       "    </tr>\n",
       "    <tr>\n",
       "      <th>4</th>\n",
       "      <td>1954</td>\n",
       "      <td>2.329716</td>\n",
       "    </tr>\n",
       "  </tbody>\n",
       "</table>\n",
       "</div>"
      ],
      "text/plain": [
       "   Year  Measurement\n",
       "0  1950     2.429415\n",
       "1  1951     2.363364\n",
       "2  1952     2.374305\n",
       "3  1953     2.295520\n",
       "4  1954     2.329716"
      ]
     },
     "execution_count": 92,
     "metadata": {},
     "output_type": "execute_result"
    }
   ],
   "source": [
    "measureQ3 = pd.read_csv('Measurement_Q3.csv')\n",
    "measureQ3.head()"
   ]
  },
  {
   "cell_type": "code",
   "execution_count": 93,
   "id": "df5fcdee",
   "metadata": {},
   "outputs": [
    {
     "data": {
      "image/png": "[encoded data removed]",
      "text/plain": [
       "<Figure size 432x288 with 1 Axes>"
      ]
     },
     "metadata": {
      "needs_background": "light"
     },
     "output_type": "display_data"
    }
   ],
   "source": [
    "# Time Series Plot\n",
    "plt.plot (measureQ3.Year, measureQ3.Measurement)\n",
    "plt.xlabel ('Year')\n",
    "plt.ylabel ('Measurement')\n",
    "plt.title('Time Series Plot')\n",
    "plt.show()"
   ]
  },
  {
   "cell_type": "code",
   "execution_count": 94,
   "id": "ed9a46bf",
   "metadata": {},
   "outputs": [
    {
     "data": {
      "image/png": "[encoded data removed]",
      "text/plain": [
       "<Figure size 432x288 with 1 Axes>"
      ]
     },
     "metadata": {
      "needs_background": "light"
     },
     "output_type": "display_data"
    }
   ],
   "source": [
    "# ACF Plot\n",
    "tsa.plot_acf(measureQ3.Measurement, lags = 20)\n",
    "plt.xlabel('Lags')\n",
    "plt.ylabel('Autocorrelation')\n",
    "plt.title('ACF Plot')\n",
    "plt.show()"
   ]
  },
  {
   "cell_type": "code",
   "execution_count": 95,
   "id": "0609ed28",
   "metadata": {},
   "outputs": [
    {
     "data": {
      "image/png": "[encoded data removed]",
      "text/plain": [
       "<Figure size 432x288 with 1 Axes>"
      ]
     },
     "metadata": {
      "needs_background": "light"
     },
     "output_type": "display_data"
    }
   ],
   "source": [
    "# PACF Plot\n",
    "tsa.plot_pacf(measureQ3.Measurement, lags=20)\n",
    "plt.xlabel('Lags')\n",
    "plt.ylabel('Partial-Autocorrelation') \n",
    "plt.title('PACF Plot')\n",
    "plt.show()"
   ]
  },
  {
   "cell_type": "code",
   "execution_count": 96,
   "id": "aea14c4e",
   "metadata": {},
   "outputs": [
    {
     "data": {
      "text/plain": [
       "1    -0.066051\n",
       "2     0.010941\n",
       "3    -0.078785\n",
       "4     0.034196\n",
       "5    -0.096699\n",
       "6     0.145162\n",
       "7    -0.055508\n",
       "8     0.093885\n",
       "9     0.081643\n",
       "10    0.081254\n",
       "11    0.001387\n",
       "12    0.048453\n",
       "13   -0.047440\n",
       "14    0.139087\n",
       "15    0.123834\n",
       "16    0.300088\n",
       "17    0.288182\n",
       "18   -0.074626\n",
       "19    0.104202\n",
       "20    0.184722\n",
       "21    0.343738\n",
       "22   -0.065378\n",
       "23    0.565260\n",
       "24    0.000579\n",
       "25   -0.094974\n",
       "26   -0.412076\n",
       "27    0.130620\n",
       "28   -0.096573\n",
       "29    0.182569\n",
       "30    0.166352\n",
       "31   -0.139356\n",
       "32   -0.082214\n",
       "33   -0.359198\n",
       "34    0.040682\n",
       "35   -0.006997\n",
       "36    0.204758\n",
       "37    0.044996\n",
       "38    0.035790\n",
       "39   -0.066893\n",
       "40    0.074951\n",
       "41    0.296692\n",
       "42   -0.300084\n",
       "43    0.247114\n",
       "44   -0.398660\n",
       "45   -0.076133\n",
       "46   -0.358104\n",
       "47   -0.275239\n",
       "48   -0.109680\n",
       "49   -0.105621\n",
       "50   -0.229222\n",
       "51    0.499426\n",
       "52   -0.506770\n",
       "53   -0.135470\n",
       "54   -0.072844\n",
       "Name: Measurement, dtype: float64"
      ]
     },
     "execution_count": 96,
     "metadata": {},
     "output_type": "execute_result"
    }
   ],
   "source": [
    "# b) Compute the first difference and plot its ACF and PACF. (6 pts)\n",
    "#first difference\n",
    "m3_diff = diff(measureQ3.Measurement)\n",
    "m3_diff"
   ]
  },
  {
   "cell_type": "code",
   "execution_count": 97,
   "id": "2d0f1bb1",
   "metadata": {},
   "outputs": [
    {
     "data": {
      "image/png": "[encoded data removed]",
      "text/plain": [
       "<Figure size 432x288 with 1 Axes>"
      ]
     },
     "metadata": {
      "needs_background": "light"
     },
     "output_type": "display_data"
    }
   ],
   "source": [
    "# Time series plot after first differencing \n",
    "plt.plot (m3_diff)\n",
    "plt.xlabel ('Year')\n",
    "plt.ylabel ('Measurement')\n",
    "plt.title('Time Series Plot')\n",
    "plt.show()"
   ]
  },
  {
   "cell_type": "code",
   "execution_count": 98,
   "id": "6c6f941b",
   "metadata": {},
   "outputs": [
    {
     "data": {
      "image/png": "[encoded data removed]",
      "text/plain": [
       "<Figure size 432x288 with 1 Axes>"
      ]
     },
     "metadata": {
      "needs_background": "light"
     },
     "output_type": "display_data"
    }
   ],
   "source": [
    "# ACF\n",
    "tsa.plot_acf(m3_diff, lags = 20)\n",
    "plt.xlabel('Lags')\n",
    "plt.ylabel('Autocorrelation')\n",
    "plt.title('1st Diff - ACF Plot')\n",
    "plt.show()"
   ]
  },
  {
   "cell_type": "code",
   "execution_count": 99,
   "id": "986f2070",
   "metadata": {},
   "outputs": [
    {
     "data": {
      "image/png": "[encoded data removed]",
      "text/plain": [
       "<Figure size 432x288 with 1 Axes>"
      ]
     },
     "metadata": {
      "needs_background": "light"
     },
     "output_type": "display_data"
    }
   ],
   "source": [
    "#PACF\n",
    "tsa.plot_pacf(m3_diff, lags = 20)\n",
    "plt.xlabel('Lags')\n",
    "plt.ylabel('Partial-Autocorrelation')\n",
    "plt.title('1st Diff -PACF Plot ')\n",
    "plt.show()"
   ]
  },
  {
   "cell_type": "markdown",
   "id": "1298aa59",
   "metadata": {},
   "source": [
    "(c) Based on the results in (b) above, what model order, i.e. p,d,q in ARMA(p,d,q), would you recommend for the above time series? Provide a justification for your answer. (3 pts)\n",
    "\n",
    "Answer) ARMA can not be determined directly using ACF and PACF graphs.  <br>\n",
    "We can determine AR and MA  <br>\n",
    "ACF tells about MA  <br>\n",
    "PACF tells about AR <br>\n",
    "ACF cuts off at lag=2 <br>\n",
    "PACF cuts off at lag = 2  <br>\n",
    "Which means: <br>\n",
    "For MA q=2   <br>\n",
    "For AR p=2  <br>\n",
    "d = 1 for both (degree of first differencing) <br>\n",
    "We represent using ARIMA(p,d,q) <br>\n",
    "So it can be ARMA(2,1,0) or ARMA(0,1,2) based on considering the fact that we either consider PACF or ACF respectively\n"
   ]
  }
 ],
 "metadata": {
  "kernelspec": {
   "display_name": "Python 3 (ipykernel)",
   "language": "python",
   "name": "python3"
  },
  "language_info": {
   "codemirror_mode": {
    "name": "ipython",
    "version": 3
   },
   "file_extension": ".py",
   "mimetype": "text/x-python",
   "name": "python",
   "nbconvert_exporter": "python",
   "pygments_lexer": "ipython3",
   "version": "3.9.7"
  }
 },
 "nbformat": 4,
 "nbformat_minor": 5
}
