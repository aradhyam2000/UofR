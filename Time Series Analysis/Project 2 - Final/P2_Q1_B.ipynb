{
 "cells": [
  {
   "cell_type": "code",
   "execution_count": 16,
   "id": "e1178fd7",
   "metadata": {},
   "outputs": [],
   "source": [
    "import torch\n",
    "import torch.nn as nn\n",
    "import torch.nn.functional as F\n",
    "import pandas as pd\n",
    "import numpy as np\n",
    "import matplotlib.pyplot as plt\n",
    "\n",
    "class Net(nn.Module):\n",
    "    \n",
    "    def __init__(self):\n",
    "        super(Net, self).__init__()\n",
    "        self.fc1 = nn.Linear(2, 4)\n",
    "        self.fc2 = nn.Linear(4, 4)\n",
    "        self.fc3 = nn.Linear(4, 4)\n",
    "        #self.fc4 = nn.Linear(4, 4)\n",
    "        self.fc5 = nn.Linear(4, 2)\n",
    "        \n",
    "    def forward(self, x):\n",
    "        x = F.relu(self.fc1(x))\n",
    "        x = F.relu(self.fc2(x))\n",
    "        x = F.relu(self.fc3(x))\n",
    "        #x = F.relu(self.fc4(x))\n",
    "        x = self.fc5(x)\n",
    "        return F.log_softmax(x)\n",
    "        #return F.softmax(x)"
   ]
  },
  {
   "cell_type": "code",
   "execution_count": 17,
   "id": "10c396a7",
   "metadata": {},
   "outputs": [
    {
     "data": {
      "text/plain": [
       "<matplotlib.collections.PathCollection at 0x1a1e6dbf370>"
      ]
     },
     "execution_count": 17,
     "metadata": {},
     "output_type": "execute_result"
    },
    {
     "data": {
      "image/png": "[encoded data removed]",
      "text/plain": [
       "<Figure size 640x480 with 1 Axes>"
      ]
     },
     "metadata": {},
     "output_type": "display_data"
    }
   ],
   "source": [
    "def plot_data(X, y, filename):\n",
    "    plt.scatter(X[:, 0], X[:, 1], c=y, cmap=plt.cm.Spectral, s = 1)\n",
    "    plt.savefig(filename)\n",
    "    plt.close()\n",
    "        \n",
    "def plot_decision_boundary(clf, X, y, filename):\n",
    "    # Set min and max values and give it some padding\n",
    "    #x_min, x_max = X[:, 0].min() - .1, X[:, 0].max() + .1\n",
    "    #y_min, y_max = X[:, 1].min() - .1, X[:, 1].max() + .1\n",
    "    x_min, x_max = -0.5, 1.5\n",
    "    y_min, y_max = -0.5, 1.5\n",
    "    h = 0.01\n",
    "    # Generate a grid of points with distance h between them\n",
    "    xx, yy = np.meshgrid(np.arange(x_min, x_max, h), np.arange(y_min, y_max, h))\n",
    "    # Predict the function value for the whole gid\n",
    "    #Z = clf.predict(np.c_[xx.ravel(), yy.ravel()])\n",
    "    X_out = net(torch.tensor(np.c_[xx.ravel(), yy.ravel()], dtype = torch.float))\n",
    "    Z = X_out.data.max(1)[1]\n",
    "    # Z.shape\n",
    "    Z = Z.reshape(xx.shape)\n",
    "    # Plot the contour and training examples\n",
    "    plt.contourf(xx, yy, Z, cmap=plt.cm.Spectral)\n",
    "    plt.scatter(X[:, 0], X[:, 1], c=y, cmap=plt.cm.Spectral, s = 1)\n",
    "    plt.savefig(filename)\n",
    "    plt.close()\n",
    "    \n",
    "data = pd.read_csv(\"XOR.csv\") # UPDATE THE FILE NAME AND PATH TO MATCH YOUR REQUIREMENT\n",
    "X = data.values[:, 0:2]  # Take only the first two features.     \n",
    "X = torch.tensor(X, dtype = torch.float)   \n",
    "y = data.values[:, 2]\n",
    "y = torch.tensor(y, dtype = torch.long)\n",
    "plt.scatter(X[:, 0], X[:, 1], c=y, cmap=plt.cm.Spectral, s = 100)\n",
    "\n",
    "\n",
    "\n",
    "     "
   ]
  },
  {
   "cell_type": "code",
   "execution_count": 18,
   "id": "705296db",
   "metadata": {},
   "outputs": [
    {
     "name": "stderr",
     "output_type": "stream",
     "text": [
      "C:\\Users\\aradh\\AppData\\Local\\Temp\\ipykernel_59588\\507983196.py:24: UserWarning: Implicit dimension choice for log_softmax has been deprecated. Change the call to include dim=X as an argument.\n",
      "  return F.log_softmax(x)\n"
     ]
    },
    {
     "name": "stdout",
     "output_type": "stream",
     "text": [
      "Epoch  0 Loss  0.6971863508224487\n",
      "Training accuracy is  0.5\n",
      "Epoch  10 Loss  0.6886703372001648\n",
      "Training accuracy is  0.75\n",
      "Epoch  20 Loss  0.6704367399215698\n",
      "Training accuracy is  0.75\n",
      "Epoch  30 Loss  0.6011072993278503\n",
      "Training accuracy is  0.75\n",
      "Epoch  40 Loss  0.43836694955825806\n",
      "Training accuracy is  1.0\n",
      "Epoch  50 Loss  0.25278791785240173\n",
      "Training accuracy is  1.0\n",
      "Epoch  60 Loss  0.10162724554538727\n",
      "Training accuracy is  1.0\n",
      "Epoch  70 Loss  0.02773212268948555\n",
      "Training accuracy is  1.0\n",
      "Epoch  80 Loss  0.008036627434194088\n",
      "Training accuracy is  1.0\n",
      "Epoch  90 Loss  0.0033594490960240364\n",
      "Training accuracy is  1.0\n",
      "Epoch  100 Loss  0.0019726341124624014\n",
      "Training accuracy is  1.0\n",
      "Epoch  110 Loss  0.001395600731484592\n",
      "Training accuracy is  1.0\n",
      "Epoch  120 Loss  0.0010881959460675716\n",
      "Training accuracy is  1.0\n",
      "Epoch  130 Loss  0.0008862526738084853\n",
      "Training accuracy is  1.0\n",
      "Epoch  140 Loss  0.0007425008807331324\n",
      "Training accuracy is  1.0\n",
      "Epoch  150 Loss  0.0006310101598501205\n",
      "Training accuracy is  1.0\n",
      "Epoch  160 Loss  0.0005419619847089052\n",
      "Training accuracy is  1.0\n",
      "Epoch  170 Loss  0.00046937662409618497\n",
      "Training accuracy is  1.0\n",
      "Epoch  180 Loss  0.0004091769515071064\n",
      "Training accuracy is  1.0\n",
      "Epoch  190 Loss  0.0003589825064409524\n",
      "Training accuracy is  1.0\n",
      "Epoch  200 Loss  0.0003167990653309971\n",
      "Training accuracy is  1.0\n",
      "Epoch  210 Loss  0.00028116791509091854\n",
      "Training accuracy is  1.0\n",
      "Epoch  220 Loss  0.0002507790341041982\n",
      "Training accuracy is  1.0\n",
      "Epoch  230 Loss  0.00022488803369924426\n",
      "Training accuracy is  1.0\n",
      "Epoch  240 Loss  0.00020254192349966615\n",
      "Training accuracy is  1.0\n",
      "Epoch  250 Loss  0.00018323439871892333\n",
      "Training accuracy is  1.0\n",
      "Epoch  260 Loss  0.00016639954992569983\n",
      "Training accuracy is  1.0\n",
      "Epoch  270 Loss  0.0001517395576229319\n",
      "Training accuracy is  1.0\n",
      "Epoch  280 Loss  0.00013883737847208977\n",
      "Training accuracy is  1.0\n",
      "Epoch  290 Loss  0.00012748448352795094\n",
      "Training accuracy is  1.0\n",
      "Epoch  300 Loss  0.00011741276102839038\n",
      "Training accuracy is  1.0\n",
      "Epoch  310 Loss  0.0001085328622139059\n",
      "Training accuracy is  1.0\n",
      "Epoch  320 Loss  0.00010051704884972423\n",
      "Training accuracy is  1.0\n",
      "Epoch  330 Loss  9.342491102870554e-05\n"
     ]
    }
   ],
   "source": [
    "#%% train\n",
    "net = Net()\n",
    "\n",
    "# create a stochastic gradient descent optimizer\n",
    "learning_rate = 0.01\n",
    "optimizer = torch.optim.Adam(net.parameters(), lr=learning_rate)\n",
    "#optimizer = torch.optim.Adam(net.parameters(), lr=learning_rate)\n",
    "\n",
    "\n",
    "# create a loss function\n",
    "criterion = nn.CrossEntropyLoss()\n",
    "#criterion = nn.NLLLoss()\n",
    "\n",
    "#nepochs = 600\n",
    "nepochs = 5000\n",
    "#10000\n",
    "data, target = X, y\n",
    "\n",
    "\n",
    "for epoch in range(nepochs):\n",
    "#    adjust learning rate if desired\n",
    "#    if epoch % 3000 == 0 and epoch <= 24000:\n",
    "#        for g in optimizer.param_groups:\n",
    "#            g['lr'] = g['lr']/2\n",
    "    optimizer.zero_grad()\n",
    "    # forward propagate\n",
    "    net_out = net(data)\n",
    "    # compute loss\n",
    "    loss = criterion(net_out, target)\n",
    "    \n",
    "    # backpropagate\n",
    "    loss.backward()\n",
    "    # update parameters\n",
    "    optimizer.step()\n",
    "    # print out report\n",
    "    \n",
    "    if epoch % 10 == 0:\n",
    "        print('Epoch ', epoch, 'Loss ', loss.item())\n",
    "        if(loss.item()<0.0001):\n",
    "            break\n",
    "        net_out = net(data)\n",
    "        pred = net_out.data.max(1)[1]  # get the index of the max log-probability\n",
    "        correctidx = pred.eq(target.data) \n",
    "        ncorrect = correctidx.sum()\n",
    "        accuracy = ncorrect.item()/len(data)\n",
    "        print('Training accuracy is ', accuracy)\n",
    "        #if (accuracy==1):\n"
   ]
  },
  {
   "cell_type": "code",
   "execution_count": 19,
   "id": "41d118c5",
   "metadata": {},
   "outputs": [
    {
     "name": "stderr",
     "output_type": "stream",
     "text": [
      "C:\\Users\\aradh\\AppData\\Local\\Temp\\ipykernel_59588\\507983196.py:24: UserWarning: Implicit dimension choice for log_softmax has been deprecated. Change the call to include dim=X as an argument.\n",
      "  return F.log_softmax(x)\n"
     ]
    }
   ],
   "source": [
    "plt.scatter(X[:, 0], X[:, 1], c=pred, cmap=plt.cm.Spectral, s = 1)\n",
    "plot_decision_boundary(net, X, y, 'P2_Q1_B.pdf')"
   ]
  },
  {
   "cell_type": "code",
   "execution_count": null,
   "id": "5a1e202d",
   "metadata": {},
   "outputs": [],
   "source": []
  }
 ],
 "metadata": {
  "kernelspec": {
   "display_name": "Python 3 (ipykernel)",
   "language": "python",
   "name": "python3"
  },
  "language_info": {
   "codemirror_mode": {
    "name": "ipython",
    "version": 3
   },
   "file_extension": ".py",
   "mimetype": "text/x-python",
   "name": "python",
   "nbconvert_exporter": "python",
   "pygments_lexer": "ipython3",
   "version": "3.9.13"
  }
 },
 "nbformat": 4,
 "nbformat_minor": 5
}
