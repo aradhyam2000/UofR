{
 "cells": [
  {
   "cell_type": "code",
   "execution_count": 6,
   "id": "ffcf75ca",
   "metadata": {},
   "outputs": [
    {
     "data": {
      "text/plain": [
       "(array([10.,  5.,  8.,  3.,  0.,  1.]),\n",
       " array([13, 23, 33, 43, 53, 63, 73]),\n",
       " <BarContainer object of 6 artists>)"
      ]
     },
     "execution_count": 6,
     "metadata": {},
     "output_type": "execute_result"
    },
    {
     "data": {
      "image/png": "[encoded data removed]",
      "text/plain": [
       "<Figure size 432x288 with 1 Axes>"
      ]
     },
     "metadata": {
      "needs_background": "light"
     },
     "output_type": "display_data"
    }
   ],
   "source": [
    "import matplotlib.pyplot as plt\n",
    "import numpy as np\n",
    "import pandas as pd\n",
    "width=10\n",
    "plt.title(\"Histogram of width 10\")\n",
    "plt.xlabel(\"Age\")\n",
    "plt.ylabel(\"Frequency\")\n",
    "df1 = [13, 15, 16, 16, 19, 20, 20, 21, 22, 22, 25, 25, 25, 25, 30, 33, 33, 35, 35, 35, 35, 36, 40, 45, 46, 52, 70]\n",
    "plt.hist(df, color=\"bisque\", edgecolor='gray', bins=np.arange(min(df1), max(df1) + width, width))"
   ]
  },
  {
   "cell_type": "code",
   "execution_count": 7,
   "id": "847828b4",
   "metadata": {},
   "outputs": [
    {
     "data": {
      "text/plain": [
       "(array([0., 5., 9., 8., 3., 1., 0., 1.]),\n",
       " array([ 0, 10, 20, 30, 40, 50, 60, 70, 80]),\n",
       " <BarContainer object of 8 artists>)"
      ]
     },
     "execution_count": 7,
     "metadata": {},
     "output_type": "execute_result"
    },
    {
     "data": {
      "image/png": "[encoded data removed]",
      "text/plain": [
       "<Figure size 432x288 with 1 Axes>"
      ]
     },
     "metadata": {
      "needs_background": "light"
     },
     "output_type": "display_data"
    }
   ],
   "source": [
    "#Method 2\n",
    "plt.title(\"Histogram of width 10\")\n",
    "plt.xlabel(\"Age\")\n",
    "plt.ylabel(\"Frequency\")\n",
    "df2 = [13, 15, 16, 16, 19, 20, 20, 21, 22, 22, 25, 25, 25, 25, 30, 33, 33, 35, 35, 35, 35, 36, 40, 45, 46, 52, 70]\n",
    "plt.hist(df2, color=\"bisque\", edgecolor='gray', bins=[0,10,20,30,40,50,60,70,80])"
   ]
  },
  {
   "cell_type": "code",
   "execution_count": 72,
   "id": "fc7b6a67",
   "metadata": {},
   "outputs": [
    {
     "data": {
      "text/html": [
       "<div>\n",
       "<style scoped>\n",
       "    .dataframe tbody tr th:only-of-type {\n",
       "        vertical-align: middle;\n",
       "    }\n",
       "\n",
       "    .dataframe tbody tr th {\n",
       "        vertical-align: top;\n",
       "    }\n",
       "\n",
       "    .dataframe thead th {\n",
       "        text-align: right;\n",
       "    }\n",
       "</style>\n",
       "<table border=\"1\" class=\"dataframe\">\n",
       "  <thead>\n",
       "    <tr style=\"text-align: right;\">\n",
       "      <th></th>\n",
       "      <th>Boss</th>\n",
       "      <th>Manager</th>\n",
       "      <th>Assistant</th>\n",
       "      <th>Junior</th>\n",
       "    </tr>\n",
       "  </thead>\n",
       "  <tbody>\n",
       "    <tr>\n",
       "      <th>0</th>\n",
       "      <td>CEO</td>\n",
       "      <td>Manager1</td>\n",
       "      <td>Ass1</td>\n",
       "      <td>Jn1</td>\n",
       "    </tr>\n",
       "    <tr>\n",
       "      <th>1</th>\n",
       "      <td>CEO</td>\n",
       "      <td>Manager1</td>\n",
       "      <td>Ass2</td>\n",
       "      <td>Jn2</td>\n",
       "    </tr>\n",
       "    <tr>\n",
       "      <th>2</th>\n",
       "      <td>CEO</td>\n",
       "      <td>Manager1</td>\n",
       "      <td>Ass1</td>\n",
       "      <td>Jn3</td>\n",
       "    </tr>\n",
       "    <tr>\n",
       "      <th>3</th>\n",
       "      <td>CEO</td>\n",
       "      <td>Manager1</td>\n",
       "      <td>Ass3</td>\n",
       "      <td>Jn4</td>\n",
       "    </tr>\n",
       "    <tr>\n",
       "      <th>4</th>\n",
       "      <td>CEO</td>\n",
       "      <td>Manager2</td>\n",
       "      <td>Ass2</td>\n",
       "      <td>Jn1</td>\n",
       "    </tr>\n",
       "    <tr>\n",
       "      <th>5</th>\n",
       "      <td>CEO</td>\n",
       "      <td>Manager2</td>\n",
       "      <td>Ass2</td>\n",
       "      <td>Jn2</td>\n",
       "    </tr>\n",
       "    <tr>\n",
       "      <th>6</th>\n",
       "      <td>CEO</td>\n",
       "      <td>Manager2</td>\n",
       "      <td>Ass1</td>\n",
       "      <td>Jn3</td>\n",
       "    </tr>\n",
       "    <tr>\n",
       "      <th>7</th>\n",
       "      <td>CEO</td>\n",
       "      <td>Manager2</td>\n",
       "      <td>Ass3</td>\n",
       "      <td>Jn4</td>\n",
       "    </tr>\n",
       "  </tbody>\n",
       "</table>\n",
       "</div>"
      ],
      "text/plain": [
       "  Boss   Manager Assistant Junior\n",
       "0  CEO  Manager1      Ass1    Jn1\n",
       "1  CEO  Manager1      Ass2    Jn2\n",
       "2  CEO  Manager1      Ass1    Jn3\n",
       "3  CEO  Manager1      Ass3    Jn4\n",
       "4  CEO  Manager2      Ass2    Jn1\n",
       "5  CEO  Manager2      Ass2    Jn2\n",
       "6  CEO  Manager2      Ass1    Jn3\n",
       "7  CEO  Manager2      Ass3    Jn4"
      ]
     },
     "execution_count": 72,
     "metadata": {},
     "output_type": "execute_result"
    }
   ],
   "source": [
    "company = {\n",
    "    'Boss':['CEO','CEO','CEO','CEO','CEO','CEO','CEO','CEO'],\n",
    "    'Manager': ['Manager1','Manager1','Manager1','Manager1','Manager2','Manager2','Manager2','Manager2',],\n",
    "    'Assistant': ['Ass1','Ass2','Ass1','Ass3','Ass2','Ass2','Ass1','Ass3'],\n",
    "    'Junior': ['Jn1','Jn2','Jn3','Jn4','Jn1','Jn2','Jn3','Jn4']\n",
    "}\n",
    "dframe = pd.DataFrame(company, columns = [\"Boss\", \"Manager\", \"Assistant\",\"Junior\"])\n",
    "dframe"
   ]
  },
  {
   "cell_type": "code",
   "execution_count": 73,
   "id": "56a1f541",
   "metadata": {},
   "outputs": [
    {
     "name": "stdout",
     "output_type": "stream",
     "text": [
      "CEO   |   \n",
      "Manager1   |   Manager2   |   \n",
      "Assistant1   |   Assistant2   |   Assistant3   |   Assistant2   |   Assistant1   |   Assistant3   |   \n",
      "Junior1   |   Junior3   |   Junior2   |   Junior4   |   Junior1   |   Junior2   |   Junior3   |   Junior4   |   "
     ]
    }
   ],
   "source": [
    "#Using Tree\n",
    "from collections import deque as queue\n",
    "  \n",
    "class Title:\n",
    "      \n",
    "    def __init__(i, j):\n",
    "          \n",
    "        i.data = j\n",
    "        i.left = None\n",
    "        i.right = None\n",
    "        i.center = None\n",
    "        \n",
    "def hier(company):\n",
    "      \n",
    "    if (company == None):\n",
    "        return\n",
    "    queue_ = queue()\n",
    "    queue_.append(company)\n",
    "    queue_.append(None)\n",
    "  \n",
    "    while (len(queue_) > 1):\n",
    "        var = queue_.popleft()\n",
    "        if (var == None):\n",
    "           queue_.append(None)\n",
    "           print()\n",
    "  \n",
    "        else:\n",
    "            if (var.left):\n",
    "                queue_.append(var.left)\n",
    "                \n",
    "            if (var.center):\n",
    "                queue_.append(var.center)\n",
    "\n",
    "            if (var.right):\n",
    "                queue_.append(var.right)\n",
    "  \n",
    "            print(var.data, end = \"   |   \")\n",
    "              \n",
    "\n",
    "if __name__ == '__main__':\n",
    "    company = Title(\"CEO\")\n",
    "    company.left = Title(\"Manager1\")\n",
    "    company.right = Title(\"Manager2\")\n",
    "    company.left.left = Title(\"Assistant1\")\n",
    "    company.left.center = Title(\"Assistant2\")\n",
    "    company.left.right = Title(\"Assistant3\")\n",
    "    company.right.right = Title(\"Assistant3\")\n",
    "    company.right.center = Title(\"Assistant1\")\n",
    "    company.right.left = Title(\"Assistant2\")\n",
    "    company.left.left.left = Title(\"Junior1\")\n",
    "    company.left.left.right = Title(\"Junior3\")\n",
    "    company.left.center.right = Title(\"Junior2\")\n",
    "    company.left.right.right = Title(\"Junior4\")\n",
    "    company.right.left.left = Title(\"Junior1\")\n",
    "    company.right.left.right = Title(\"Junior2\")\n",
    "    company.right.center.right = Title(\"Junior3\")\n",
    "    company.right.right.right = Title(\"Junior4\")\n",
    "    \n",
    "    \n",
    "    hier(company)\n"
   ]
  },
  {
   "cell_type": "code",
   "execution_count": 74,
   "id": "58ac15f4",
   "metadata": {},
   "outputs": [],
   "source": [
    "ceo = len(pd.unique(dframe['Boss']))\n",
    "manager = len(pd.unique(dframe['Manager']))\n",
    "assistant = len(pd.unique(dframe['Assistant']))\n",
    "junior = len(pd.unique(dframe['Junior']))"
   ]
  },
  {
   "cell_type": "code",
   "execution_count": 75,
   "id": "8b80f7ea",
   "metadata": {},
   "outputs": [
    {
     "name": "stdout",
     "output_type": "stream",
     "text": [
      "Number of Boss : 1\n",
      "Number of Manager : 2\n",
      "Number of Assistant : 3\n",
      "Number of Junior : 4\n"
     ]
    }
   ],
   "source": [
    "print(\"Number of Boss :\",  ceo)\n",
    "print(\"Number of Manager :\",  manager)\n",
    "print(\"Number of Assistant :\",  assistant)\n",
    "print(\"Number of Junior :\",  junior)"
   ]
  },
  {
   "cell_type": "code",
   "execution_count": 37,
   "id": "3ba1aa89",
   "metadata": {},
   "outputs": [],
   "source": []
  },
  {
   "cell_type": "code",
   "execution_count": null,
   "id": "d6c3e606",
   "metadata": {},
   "outputs": [],
   "source": []
  },
  {
   "cell_type": "code",
   "execution_count": null,
   "id": "0937c5d0",
   "metadata": {},
   "outputs": [],
   "source": []
  },
  {
   "cell_type": "code",
   "execution_count": null,
   "id": "11b053c8",
   "metadata": {},
   "outputs": [],
   "source": []
  }
 ],
 "metadata": {
  "kernelspec": {
   "display_name": "Python 3 (ipykernel)",
   "language": "python",
   "name": "python3"
  },
  "language_info": {
   "codemirror_mode": {
    "name": "ipython",
    "version": 3
   },
   "file_extension": ".py",
   "mimetype": "text/x-python",
   "name": "python",
   "nbconvert_exporter": "python",
   "pygments_lexer": "ipython3",
   "version": "3.9.7"
  }
 },
 "nbformat": 4,
 "nbformat_minor": 5
}
