{
 "cells": [
  {
   "cell_type": "markdown",
   "id": "fea015aa-5d6b-48a0-9896-905095e14fe1",
   "metadata": {},
   "source": [
    "# Data Mining Project - Sustainability Around The World \n",
    "### Aradhya Mathur and Ozlem Gunes"
   ]
  },
  {
   "cell_type": "markdown",
   "id": "d764c938-c205-45f3-8dbb-9820276f0918",
   "metadata": {},
   "source": [
    "## Time Series Analysis "
   ]
  },
  {
   "cell_type": "code",
   "execution_count": 1,
   "id": "2e76cc69-80db-47e0-bf73-f964ef7f3f12",
   "metadata": {},
   "outputs": [],
   "source": [
    "# Import libs\n",
    "import pandas as pd\n",
    "import numpy as np\n",
    "import os, fnmatch\n",
    "import matplotlib.pyplot as plt\n",
    "import statsmodels.api as sm\n",
    "import sklearn.metrics as mt\n",
    "import seaborn as sns\n",
    "from pmdarima.arima import auto_arima\n",
    "from chart_studio.plotly import plot_mpl\n",
    "from statsmodels.tsa.seasonal import seasonal_decompose\n",
    "import datetime"
   ]
  },
  {
   "cell_type": "markdown",
   "id": "0c45b00b-4044-485a-a2be-9e735a452d9c",
   "metadata": {},
   "source": [
    "### Read Data"
   ]
  },
  {
   "cell_type": "code",
   "execution_count": 4,
   "id": "39912529-3da5-4fca-8723-c3c173ec9a16",
   "metadata": {},
   "outputs": [],
   "source": [
    "data_path = \"./master.csv\""
   ]
  },
  {
   "cell_type": "code",
   "execution_count": 5,
   "id": "cf3f0dd0-6ab8-4de4-8449-cb40974bbe55",
   "metadata": {},
   "outputs": [],
   "source": [
    "data = pd.read_csv(data_path)"
   ]
  },
  {
   "cell_type": "code",
   "execution_count": 6,
   "id": "86d4ce00-dcf7-47a0-b155-3fc20109c63a",
   "metadata": {},
   "outputs": [
    {
     "data": {
      "text/html": [
       "<div>\n",
       "<style scoped>\n",
       "    .dataframe tbody tr th:only-of-type {\n",
       "        vertical-align: middle;\n",
       "    }\n",
       "\n",
       "    .dataframe tbody tr th {\n",
       "        vertical-align: top;\n",
       "    }\n",
       "\n",
       "    .dataframe thead th {\n",
       "        text-align: right;\n",
       "    }\n",
       "</style>\n",
       "<table border=\"1\" class=\"dataframe\">\n",
       "  <thead>\n",
       "    <tr style=\"text-align: right;\">\n",
       "      <th></th>\n",
       "      <th>year</th>\n",
       "      <th>iso</th>\n",
       "      <th>country</th>\n",
       "      <th>region</th>\n",
       "      <th>EPI</th>\n",
       "      <th>AIR</th>\n",
       "      <th>H2O</th>\n",
       "      <th>BDH</th>\n",
       "      <th>WRS</th>\n",
       "    </tr>\n",
       "  </thead>\n",
       "  <tbody>\n",
       "    <tr>\n",
       "      <th>0</th>\n",
       "      <td>2022</td>\n",
       "      <td>AFG</td>\n",
       "      <td>Afghanistan</td>\n",
       "      <td>Southern Asia</td>\n",
       "      <td>43.6</td>\n",
       "      <td>15.5</td>\n",
       "      <td>28.1</td>\n",
       "      <td>30.7</td>\n",
       "      <td>0.0</td>\n",
       "    </tr>\n",
       "    <tr>\n",
       "      <th>1</th>\n",
       "      <td>2022</td>\n",
       "      <td>ALB</td>\n",
       "      <td>Albania</td>\n",
       "      <td>Eastern Europe</td>\n",
       "      <td>47.1</td>\n",
       "      <td>37.5</td>\n",
       "      <td>54.1</td>\n",
       "      <td>63.9</td>\n",
       "      <td>1.9</td>\n",
       "    </tr>\n",
       "    <tr>\n",
       "      <th>2</th>\n",
       "      <td>2022</td>\n",
       "      <td>DZA</td>\n",
       "      <td>Algeria</td>\n",
       "      <td>Greater Middle East</td>\n",
       "      <td>29.6</td>\n",
       "      <td>39.4</td>\n",
       "      <td>53.3</td>\n",
       "      <td>22.7</td>\n",
       "      <td>33.1</td>\n",
       "    </tr>\n",
       "    <tr>\n",
       "      <th>3</th>\n",
       "      <td>2022</td>\n",
       "      <td>AGO</td>\n",
       "      <td>Angola</td>\n",
       "      <td>Sub-Saharan Africa</td>\n",
       "      <td>30.5</td>\n",
       "      <td>23.1</td>\n",
       "      <td>12.8</td>\n",
       "      <td>30.1</td>\n",
       "      <td>0.0</td>\n",
       "    </tr>\n",
       "    <tr>\n",
       "      <th>4</th>\n",
       "      <td>2022</td>\n",
       "      <td>ATG</td>\n",
       "      <td>Antigua and Barbuda</td>\n",
       "      <td>Latin America &amp; Caribbean</td>\n",
       "      <td>52.4</td>\n",
       "      <td>56.5</td>\n",
       "      <td>50.1</td>\n",
       "      <td>54.2</td>\n",
       "      <td>15.7</td>\n",
       "    </tr>\n",
       "  </tbody>\n",
       "</table>\n",
       "</div>"
      ],
      "text/plain": [
       "   year  iso              country                     region   EPI   AIR  \\\n",
       "0  2022  AFG          Afghanistan              Southern Asia  43.6  15.5   \n",
       "1  2022  ALB              Albania             Eastern Europe  47.1  37.5   \n",
       "2  2022  DZA              Algeria        Greater Middle East  29.6  39.4   \n",
       "3  2022  AGO               Angola         Sub-Saharan Africa  30.5  23.1   \n",
       "4  2022  ATG  Antigua and Barbuda  Latin America & Caribbean  52.4  56.5   \n",
       "\n",
       "    H2O   BDH   WRS  \n",
       "0  28.1  30.7   0.0  \n",
       "1  54.1  63.9   1.9  \n",
       "2  53.3  22.7  33.1  \n",
       "3  12.8  30.1   0.0  \n",
       "4  50.1  54.2  15.7  "
      ]
     },
     "execution_count": 6,
     "metadata": {},
     "output_type": "execute_result"
    }
   ],
   "source": [
    "data[0:5]"
   ]
  },
  {
   "cell_type": "markdown",
   "id": "10a41e8c-d475-4104-bae9-1d7c45fd6a4f",
   "metadata": {},
   "source": [
    "### Preprocess and Analysis"
   ]
  },
  {
   "cell_type": "markdown",
   "id": "17746073-d1a7-4b85-89dc-99c2af29b5cb",
   "metadata": {},
   "source": [
    "#### Get countries with sufficient data points"
   ]
  },
  {
   "cell_type": "code",
   "execution_count": 7,
   "id": "e90970ce-b967-47ff-bef1-3a66a70f0a2a",
   "metadata": {},
   "outputs": [],
   "source": [
    "selected_countries = data[data['year'].isin([2018,2020,2022])]['country'].unique()"
   ]
  },
  {
   "cell_type": "code",
   "execution_count": 8,
   "id": "f5640029-c428-4bcb-825d-b83223623a5d",
   "metadata": {},
   "outputs": [
    {
     "data": {
      "text/plain": [
       "array(['Afghanistan', 'Albania', 'Algeria', 'Angola',\n",
       "       'Antigua and Barbuda', 'Argentina', 'Armenia', 'Australia',\n",
       "       'Austria', 'Azerbaijan', 'Bahamas', 'Bahrain', 'Bangladesh',\n",
       "       'Barbados', 'Belarus', 'Belgium', 'Belize', 'Benin', 'Bhutan',\n",
       "       'Bolivia', 'Bosnia and Herzegovina', 'Botswana', 'Brazil',\n",
       "       'Brunei Darussalam', 'Bulgaria', 'Burkina Faso', 'Burundi',\n",
       "       'Cabo Verde', 'Cambodia', 'Cameroon', 'Canada',\n",
       "       'Central African Republic', 'Chad', 'Chile', 'China', 'Colombia',\n",
       "       'Comoros', 'Costa Rica', \"Cote d'Ivoire\", 'Croatia', 'Cuba',\n",
       "       'Cyprus', 'Czech Republic', 'Dem. Rep. Congo', 'Denmark',\n",
       "       'Djibouti', 'Dominica', 'Dominican Republic', 'Ecuador', 'Egypt',\n",
       "       'El Salvador', 'Equatorial Guinea', 'Eritrea', 'Estonia',\n",
       "       'Eswatini', 'Ethiopia', 'Fiji', 'Finland', 'France', 'Gabon',\n",
       "       'Gambia', 'Georgia', 'Germany', 'Ghana', 'Greece', 'Grenada',\n",
       "       'Guatemala', 'Guinea', 'Guinea-Bissau', 'Guyana', 'Haiti',\n",
       "       'Honduras', 'Hungary', 'Iceland', 'India', 'Indonesia', 'Iran',\n",
       "       'Iraq', 'Ireland', 'Israel', 'Italy', 'Jamaica', 'Japan', 'Jordan',\n",
       "       'Kazakhstan', 'Kenya', 'Kiribati', 'Kuwait', 'Kyrgyzstan', 'Laos',\n",
       "       'Latvia', 'Lebanon', 'Lesotho', 'Liberia', 'Lithuania',\n",
       "       'Luxembourg', 'Madagascar', 'Malawi', 'Malaysia', 'Maldives',\n",
       "       'Mali', 'Malta', 'Marshall Islands', 'Mauritania', 'Mauritius',\n",
       "       'Mexico', 'Micronesia', 'Moldova', 'Mongolia', 'Montenegro',\n",
       "       'Morocco', 'Mozambique', 'Myanmar', 'Namibia', 'Nepal',\n",
       "       'Netherlands', 'New Zealand', 'Nicaragua', 'Niger', 'Nigeria',\n",
       "       'North Macedonia', 'Norway', 'Oman', 'Pakistan', 'Panama',\n",
       "       'Papua New Guinea', 'Paraguay', 'Peru', 'Philippines', 'Poland',\n",
       "       'Portugal', 'Qatar', 'Republic of Congo', 'Romania', 'Russia',\n",
       "       'Rwanda', 'Saint Lucia', 'Saint Vincent and the Grenadines',\n",
       "       'Samoa', 'Sao Tome and Principe', 'Saudi Arabia', 'Senegal',\n",
       "       'Serbia', 'Seychelles', 'Sierra Leone', 'Singapore', 'Slovakia',\n",
       "       'Slovenia', 'Solomon Islands', 'South Africa', 'South Korea',\n",
       "       'Spain', 'Sri Lanka', 'Sudan', 'Suriname', 'Sweden', 'Switzerland',\n",
       "       'Taiwan', 'Tajikistan', 'Tanzania', 'Thailand', 'Timor-Leste',\n",
       "       'Togo', 'Tonga', 'Trinidad and Tobago', 'Tunisia', 'Turkey',\n",
       "       'Turkmenistan', 'Uganda', 'Ukraine', 'United Arab Emirates',\n",
       "       'United Kingdom', 'United States of America', 'Uruguay',\n",
       "       'Uzbekistan', 'Vanuatu', 'Venezuela', 'Viet Nam', 'Zambia',\n",
       "       'Zimbabwe', \"CÃƒÂ´te d'Ivoire\", 'Macedonia',\n",
       "       'SÃƒÂ£o TomÃƒÂ© and PrÃƒÂ\\xadncipe', 'Swaziland'], dtype=object)"
      ]
     },
     "execution_count": 8,
     "metadata": {},
     "output_type": "execute_result"
    }
   ],
   "source": [
    "selected_countries"
   ]
  },
  {
   "cell_type": "code",
   "execution_count": 9,
   "id": "63081560-9de5-46f5-8d07-9bffdfe911a5",
   "metadata": {},
   "outputs": [],
   "source": [
    "data = data[data['country'].isin(selected_countries)]"
   ]
  },
  {
   "cell_type": "code",
   "execution_count": 10,
   "id": "f18daf84-074f-42be-a4fc-f93e4a28732d",
   "metadata": {},
   "outputs": [
    {
     "data": {
      "text/html": [
       "<div>\n",
       "<style scoped>\n",
       "    .dataframe tbody tr th:only-of-type {\n",
       "        vertical-align: middle;\n",
       "    }\n",
       "\n",
       "    .dataframe tbody tr th {\n",
       "        vertical-align: top;\n",
       "    }\n",
       "\n",
       "    .dataframe thead th {\n",
       "        text-align: right;\n",
       "    }\n",
       "</style>\n",
       "<table border=\"1\" class=\"dataframe\">\n",
       "  <thead>\n",
       "    <tr style=\"text-align: right;\">\n",
       "      <th></th>\n",
       "      <th>year</th>\n",
       "      <th>iso</th>\n",
       "      <th>country</th>\n",
       "      <th>region</th>\n",
       "      <th>EPI</th>\n",
       "      <th>AIR</th>\n",
       "      <th>H2O</th>\n",
       "      <th>BDH</th>\n",
       "      <th>WRS</th>\n",
       "    </tr>\n",
       "  </thead>\n",
       "  <tbody>\n",
       "    <tr>\n",
       "      <th>0</th>\n",
       "      <td>2022</td>\n",
       "      <td>AFG</td>\n",
       "      <td>Afghanistan</td>\n",
       "      <td>Southern Asia</td>\n",
       "      <td>43.60</td>\n",
       "      <td>15.50</td>\n",
       "      <td>28.10</td>\n",
       "      <td>30.70</td>\n",
       "      <td>0.00</td>\n",
       "    </tr>\n",
       "    <tr>\n",
       "      <th>1</th>\n",
       "      <td>2022</td>\n",
       "      <td>ALB</td>\n",
       "      <td>Albania</td>\n",
       "      <td>Eastern Europe</td>\n",
       "      <td>47.10</td>\n",
       "      <td>37.50</td>\n",
       "      <td>54.10</td>\n",
       "      <td>63.90</td>\n",
       "      <td>1.90</td>\n",
       "    </tr>\n",
       "    <tr>\n",
       "      <th>2</th>\n",
       "      <td>2022</td>\n",
       "      <td>DZA</td>\n",
       "      <td>Algeria</td>\n",
       "      <td>Greater Middle East</td>\n",
       "      <td>29.60</td>\n",
       "      <td>39.40</td>\n",
       "      <td>53.30</td>\n",
       "      <td>22.70</td>\n",
       "      <td>33.10</td>\n",
       "    </tr>\n",
       "    <tr>\n",
       "      <th>3</th>\n",
       "      <td>2022</td>\n",
       "      <td>AGO</td>\n",
       "      <td>Angola</td>\n",
       "      <td>Sub-Saharan Africa</td>\n",
       "      <td>30.50</td>\n",
       "      <td>23.10</td>\n",
       "      <td>12.80</td>\n",
       "      <td>30.10</td>\n",
       "      <td>0.00</td>\n",
       "    </tr>\n",
       "    <tr>\n",
       "      <th>4</th>\n",
       "      <td>2022</td>\n",
       "      <td>ATG</td>\n",
       "      <td>Antigua and Barbuda</td>\n",
       "      <td>Latin America &amp; Caribbean</td>\n",
       "      <td>52.40</td>\n",
       "      <td>56.50</td>\n",
       "      <td>50.10</td>\n",
       "      <td>54.20</td>\n",
       "      <td>15.70</td>\n",
       "    </tr>\n",
       "    <tr>\n",
       "      <th>...</th>\n",
       "      <td>...</td>\n",
       "      <td>...</td>\n",
       "      <td>...</td>\n",
       "      <td>...</td>\n",
       "      <td>...</td>\n",
       "      <td>...</td>\n",
       "      <td>...</td>\n",
       "      <td>...</td>\n",
       "      <td>...</td>\n",
       "    </tr>\n",
       "    <tr>\n",
       "      <th>1170</th>\n",
       "      <td>2010</td>\n",
       "      <td>UZB</td>\n",
       "      <td>Uzbekistan</td>\n",
       "      <td>Former Soviet States</td>\n",
       "      <td>42.27</td>\n",
       "      <td>65.07</td>\n",
       "      <td>87.41</td>\n",
       "      <td>21.75</td>\n",
       "      <td>21.53</td>\n",
       "    </tr>\n",
       "    <tr>\n",
       "      <th>1171</th>\n",
       "      <td>2010</td>\n",
       "      <td>VEN</td>\n",
       "      <td>Venezuela</td>\n",
       "      <td>Latin America &amp; Caribbean</td>\n",
       "      <td>62.90</td>\n",
       "      <td>97.37</td>\n",
       "      <td>83.52</td>\n",
       "      <td>78.19</td>\n",
       "      <td>56.12</td>\n",
       "    </tr>\n",
       "    <tr>\n",
       "      <th>1172</th>\n",
       "      <td>2010</td>\n",
       "      <td>VNM</td>\n",
       "      <td>Viet Nam</td>\n",
       "      <td>Asia-Pacific</td>\n",
       "      <td>59.00</td>\n",
       "      <td>41.47</td>\n",
       "      <td>73.46</td>\n",
       "      <td>41.28</td>\n",
       "      <td>78.05</td>\n",
       "    </tr>\n",
       "    <tr>\n",
       "      <th>1173</th>\n",
       "      <td>2010</td>\n",
       "      <td>ZMB</td>\n",
       "      <td>Zambia</td>\n",
       "      <td>Sub-Saharan Africa</td>\n",
       "      <td>47.00</td>\n",
       "      <td>36.76</td>\n",
       "      <td>36.86</td>\n",
       "      <td>100.00</td>\n",
       "      <td>70.28</td>\n",
       "    </tr>\n",
       "    <tr>\n",
       "      <th>1174</th>\n",
       "      <td>2010</td>\n",
       "      <td>ZWE</td>\n",
       "      <td>Zimbabwe</td>\n",
       "      <td>Sub-Saharan Africa</td>\n",
       "      <td>47.82</td>\n",
       "      <td>54.81</td>\n",
       "      <td>53.32</td>\n",
       "      <td>93.75</td>\n",
       "      <td>67.69</td>\n",
       "    </tr>\n",
       "  </tbody>\n",
       "</table>\n",
       "<p>1164 rows × 9 columns</p>\n",
       "</div>"
      ],
      "text/plain": [
       "      year  iso              country                     region    EPI    AIR  \\\n",
       "0     2022  AFG          Afghanistan              Southern Asia  43.60  15.50   \n",
       "1     2022  ALB              Albania             Eastern Europe  47.10  37.50   \n",
       "2     2022  DZA              Algeria        Greater Middle East  29.60  39.40   \n",
       "3     2022  AGO               Angola         Sub-Saharan Africa  30.50  23.10   \n",
       "4     2022  ATG  Antigua and Barbuda  Latin America & Caribbean  52.40  56.50   \n",
       "...    ...  ...                  ...                        ...    ...    ...   \n",
       "1170  2010  UZB           Uzbekistan       Former Soviet States  42.27  65.07   \n",
       "1171  2010  VEN            Venezuela  Latin America & Caribbean  62.90  97.37   \n",
       "1172  2010  VNM             Viet Nam               Asia-Pacific  59.00  41.47   \n",
       "1173  2010  ZMB               Zambia         Sub-Saharan Africa  47.00  36.76   \n",
       "1174  2010  ZWE             Zimbabwe         Sub-Saharan Africa  47.82  54.81   \n",
       "\n",
       "        H2O     BDH    WRS  \n",
       "0     28.10   30.70   0.00  \n",
       "1     54.10   63.90   1.90  \n",
       "2     53.30   22.70  33.10  \n",
       "3     12.80   30.10   0.00  \n",
       "4     50.10   54.20  15.70  \n",
       "...     ...     ...    ...  \n",
       "1170  87.41   21.75  21.53  \n",
       "1171  83.52   78.19  56.12  \n",
       "1172  73.46   41.28  78.05  \n",
       "1173  36.86  100.00  70.28  \n",
       "1174  53.32   93.75  67.69  \n",
       "\n",
       "[1164 rows x 9 columns]"
      ]
     },
     "execution_count": 10,
     "metadata": {},
     "output_type": "execute_result"
    }
   ],
   "source": [
    "data"
   ]
  },
  {
   "cell_type": "code",
   "execution_count": 11,
   "id": "8cbc0f62-7c62-4bdb-a1fb-0674e74aeec2",
   "metadata": {},
   "outputs": [],
   "source": [
    "data_count = data.groupby(['country'])['year'].count().reset_index(name='counts').sort_values('counts', ascending=False)"
   ]
  },
  {
   "cell_type": "code",
   "execution_count": 12,
   "id": "5e58da71-6d0a-4e5f-a015-0438f72c9e80",
   "metadata": {},
   "outputs": [],
   "source": [
    "selected_countries = data_count[data_count['counts']>6]['country'].unique()"
   ]
  },
  {
   "cell_type": "code",
   "execution_count": 13,
   "id": "6d29e146-192c-465e-afc9-8aff370f824a",
   "metadata": {},
   "outputs": [],
   "source": [
    "data = data[data['country'].isin(selected_countries)]"
   ]
  },
  {
   "cell_type": "code",
   "execution_count": 14,
   "id": "0b1e01a3-2373-4750-a040-cd9a496a1d3d",
   "metadata": {},
   "outputs": [
    {
     "data": {
      "text/html": [
       "<div>\n",
       "<style scoped>\n",
       "    .dataframe tbody tr th:only-of-type {\n",
       "        vertical-align: middle;\n",
       "    }\n",
       "\n",
       "    .dataframe tbody tr th {\n",
       "        vertical-align: top;\n",
       "    }\n",
       "\n",
       "    .dataframe thead th {\n",
       "        text-align: right;\n",
       "    }\n",
       "</style>\n",
       "<table border=\"1\" class=\"dataframe\">\n",
       "  <thead>\n",
       "    <tr style=\"text-align: right;\">\n",
       "      <th></th>\n",
       "      <th>year</th>\n",
       "      <th>iso</th>\n",
       "      <th>country</th>\n",
       "      <th>region</th>\n",
       "      <th>EPI</th>\n",
       "      <th>AIR</th>\n",
       "      <th>H2O</th>\n",
       "      <th>BDH</th>\n",
       "      <th>WRS</th>\n",
       "    </tr>\n",
       "  </thead>\n",
       "  <tbody>\n",
       "    <tr>\n",
       "      <th>2</th>\n",
       "      <td>2022</td>\n",
       "      <td>DZA</td>\n",
       "      <td>Algeria</td>\n",
       "      <td>Greater Middle East</td>\n",
       "      <td>29.6</td>\n",
       "      <td>39.4</td>\n",
       "      <td>53.3</td>\n",
       "      <td>22.7</td>\n",
       "      <td>33.1</td>\n",
       "    </tr>\n",
       "    <tr>\n",
       "      <th>3</th>\n",
       "      <td>2022</td>\n",
       "      <td>AGO</td>\n",
       "      <td>Angola</td>\n",
       "      <td>Sub-Saharan Africa</td>\n",
       "      <td>30.5</td>\n",
       "      <td>23.1</td>\n",
       "      <td>12.8</td>\n",
       "      <td>30.1</td>\n",
       "      <td>0.0</td>\n",
       "    </tr>\n",
       "    <tr>\n",
       "      <th>5</th>\n",
       "      <td>2022</td>\n",
       "      <td>ARG</td>\n",
       "      <td>Argentina</td>\n",
       "      <td>Latin America &amp; Caribbean</td>\n",
       "      <td>41.1</td>\n",
       "      <td>52.0</td>\n",
       "      <td>64.8</td>\n",
       "      <td>42.4</td>\n",
       "      <td>5.9</td>\n",
       "    </tr>\n",
       "    <tr>\n",
       "      <th>6</th>\n",
       "      <td>2022</td>\n",
       "      <td>ARM</td>\n",
       "      <td>Armenia</td>\n",
       "      <td>Former Soviet States</td>\n",
       "      <td>48.3</td>\n",
       "      <td>32.1</td>\n",
       "      <td>57.3</td>\n",
       "      <td>73.3</td>\n",
       "      <td>4.5</td>\n",
       "    </tr>\n",
       "  </tbody>\n",
       "</table>\n",
       "</div>"
      ],
      "text/plain": [
       "   year  iso    country                     region   EPI   AIR   H2O   BDH  \\\n",
       "2  2022  DZA    Algeria        Greater Middle East  29.6  39.4  53.3  22.7   \n",
       "3  2022  AGO     Angola         Sub-Saharan Africa  30.5  23.1  12.8  30.1   \n",
       "5  2022  ARG  Argentina  Latin America & Caribbean  41.1  52.0  64.8  42.4   \n",
       "6  2022  ARM    Armenia       Former Soviet States  48.3  32.1  57.3  73.3   \n",
       "\n",
       "    WRS  \n",
       "2  33.1  \n",
       "3   0.0  \n",
       "5   5.9  \n",
       "6   4.5  "
      ]
     },
     "execution_count": 14,
     "metadata": {},
     "output_type": "execute_result"
    }
   ],
   "source": [
    "data[1:5]"
   ]
  },
  {
   "cell_type": "code",
   "execution_count": 15,
   "id": "b42c084d-870d-4a4a-92d3-c66943761e97",
   "metadata": {},
   "outputs": [],
   "source": [
    "data = data.reset_index(drop=True)"
   ]
  },
  {
   "cell_type": "code",
   "execution_count": 16,
   "id": "45220f5d-2078-4229-9fc6-42c3528e9140",
   "metadata": {},
   "outputs": [
    {
     "data": {
      "text/plain": [
       "year       0\n",
       "iso        0\n",
       "country    0\n",
       "region     0\n",
       "EPI        0\n",
       "AIR        0\n",
       "H2O        0\n",
       "BDH        0\n",
       "WRS        0\n",
       "dtype: int64"
      ]
     },
     "execution_count": 16,
     "metadata": {},
     "output_type": "execute_result"
    }
   ],
   "source": [
    "data.isnull().sum(axis = 0)"
   ]
  },
  {
   "cell_type": "markdown",
   "id": "8860afcb-d078-457a-9af0-ada1284d8d8a",
   "metadata": {},
   "source": [
    "### Handle Null Values"
   ]
  },
  {
   "cell_type": "code",
   "execution_count": 17,
   "id": "c43cb909-76c8-4262-bbfb-111c34b006fd",
   "metadata": {},
   "outputs": [],
   "source": [
    "# data = data.sort_values(['country', 'year'])\n",
    "# data['index'] = data.groupby(['country']).cumcount()"
   ]
  },
  {
   "cell_type": "code",
   "execution_count": 18,
   "id": "f8a49201-7d96-446a-b96a-317d3e7d3a22",
   "metadata": {},
   "outputs": [],
   "source": [
    "idx = data[['year']].drop_duplicates().sort_values('year', axis=0).reset_index(drop=True)\n",
    "idx['idx'] = idx.index\n",
    "# idx['idx'] = idx['idx'].astype(str)"
   ]
  },
  {
   "cell_type": "code",
   "execution_count": 19,
   "id": "02bb5247-f025-4781-bfb5-466ad4e67b7c",
   "metadata": {},
   "outputs": [
    {
     "data": {
      "text/html": [
       "<div>\n",
       "<style scoped>\n",
       "    .dataframe tbody tr th:only-of-type {\n",
       "        vertical-align: middle;\n",
       "    }\n",
       "\n",
       "    .dataframe tbody tr th {\n",
       "        vertical-align: top;\n",
       "    }\n",
       "\n",
       "    .dataframe thead th {\n",
       "        text-align: right;\n",
       "    }\n",
       "</style>\n",
       "<table border=\"1\" class=\"dataframe\">\n",
       "  <thead>\n",
       "    <tr style=\"text-align: right;\">\n",
       "      <th></th>\n",
       "      <th>year</th>\n",
       "      <th>idx</th>\n",
       "    </tr>\n",
       "  </thead>\n",
       "  <tbody>\n",
       "    <tr>\n",
       "      <th>0</th>\n",
       "      <td>2010</td>\n",
       "      <td>0</td>\n",
       "    </tr>\n",
       "    <tr>\n",
       "      <th>1</th>\n",
       "      <td>2012</td>\n",
       "      <td>1</td>\n",
       "    </tr>\n",
       "    <tr>\n",
       "      <th>2</th>\n",
       "      <td>2014</td>\n",
       "      <td>2</td>\n",
       "    </tr>\n",
       "    <tr>\n",
       "      <th>3</th>\n",
       "      <td>2016</td>\n",
       "      <td>3</td>\n",
       "    </tr>\n",
       "    <tr>\n",
       "      <th>4</th>\n",
       "      <td>2018</td>\n",
       "      <td>4</td>\n",
       "    </tr>\n",
       "    <tr>\n",
       "      <th>5</th>\n",
       "      <td>2020</td>\n",
       "      <td>5</td>\n",
       "    </tr>\n",
       "    <tr>\n",
       "      <th>6</th>\n",
       "      <td>2022</td>\n",
       "      <td>6</td>\n",
       "    </tr>\n",
       "  </tbody>\n",
       "</table>\n",
       "</div>"
      ],
      "text/plain": [
       "   year  idx\n",
       "0  2010    0\n",
       "1  2012    1\n",
       "2  2014    2\n",
       "3  2016    3\n",
       "4  2018    4\n",
       "5  2020    5\n",
       "6  2022    6"
      ]
     },
     "execution_count": 19,
     "metadata": {},
     "output_type": "execute_result"
    }
   ],
   "source": [
    "idx"
   ]
  },
  {
   "cell_type": "code",
   "execution_count": 20,
   "id": "874db0b2-62ca-476a-a133-7829f1099aaa",
   "metadata": {},
   "outputs": [],
   "source": [
    "data = data.merge(idx, on='year')"
   ]
  },
  {
   "cell_type": "markdown",
   "id": "b90308fb-812a-4dc6-be34-190e9ef59902",
   "metadata": {},
   "source": [
    "### Models - Predict 2020"
   ]
  },
  {
   "cell_type": "markdown",
   "id": "31094c74-1619-4048-9954-f176e603e654",
   "metadata": {},
   "source": [
    "#### Data Sets"
   ]
  },
  {
   "cell_type": "code",
   "execution_count": 21,
   "id": "69b217bc-888e-4e4d-af4c-7a1c5e5b843d",
   "metadata": {},
   "outputs": [],
   "source": [
    "data_train = data[data['year'] < 2020]\n",
    "data_test = data[data['year'].isin([2020])]"
   ]
  },
  {
   "cell_type": "code",
   "execution_count": 22,
   "id": "2b4878cb-99af-4754-ae97-849aaeacb356",
   "metadata": {},
   "outputs": [
    {
     "data": {
      "text/html": [
       "<div>\n",
       "<style scoped>\n",
       "    .dataframe tbody tr th:only-of-type {\n",
       "        vertical-align: middle;\n",
       "    }\n",
       "\n",
       "    .dataframe tbody tr th {\n",
       "        vertical-align: top;\n",
       "    }\n",
       "\n",
       "    .dataframe thead th {\n",
       "        text-align: right;\n",
       "    }\n",
       "</style>\n",
       "<table border=\"1\" class=\"dataframe\">\n",
       "  <thead>\n",
       "    <tr style=\"text-align: right;\">\n",
       "      <th></th>\n",
       "      <th>year</th>\n",
       "      <th>iso</th>\n",
       "      <th>country</th>\n",
       "      <th>region</th>\n",
       "      <th>EPI</th>\n",
       "      <th>AIR</th>\n",
       "      <th>H2O</th>\n",
       "      <th>BDH</th>\n",
       "      <th>WRS</th>\n",
       "      <th>idx</th>\n",
       "    </tr>\n",
       "  </thead>\n",
       "  <tbody>\n",
       "    <tr>\n",
       "      <th>615</th>\n",
       "      <td>2012</td>\n",
       "      <td>ALB</td>\n",
       "      <td>Albania</td>\n",
       "      <td>Eastern Europe</td>\n",
       "      <td>65.85</td>\n",
       "      <td>100.00</td>\n",
       "      <td>72.28</td>\n",
       "      <td>61.72</td>\n",
       "      <td>23.19</td>\n",
       "      <td>1</td>\n",
       "    </tr>\n",
       "    <tr>\n",
       "      <th>492</th>\n",
       "      <td>2014</td>\n",
       "      <td>ALB</td>\n",
       "      <td>Albania</td>\n",
       "      <td>Eastern Europe</td>\n",
       "      <td>54.73</td>\n",
       "      <td>68.24</td>\n",
       "      <td>55.91</td>\n",
       "      <td>63.19</td>\n",
       "      <td>3.36</td>\n",
       "      <td>2</td>\n",
       "    </tr>\n",
       "    <tr>\n",
       "      <th>369</th>\n",
       "      <td>2016</td>\n",
       "      <td>ALB</td>\n",
       "      <td>Albania</td>\n",
       "      <td>Eastern Europe</td>\n",
       "      <td>29.61</td>\n",
       "      <td>37.41</td>\n",
       "      <td>48.46</td>\n",
       "      <td>26.07</td>\n",
       "      <td>2.70</td>\n",
       "      <td>3</td>\n",
       "    </tr>\n",
       "    <tr>\n",
       "      <th>246</th>\n",
       "      <td>2018</td>\n",
       "      <td>ALB</td>\n",
       "      <td>Albania</td>\n",
       "      <td>Eastern Europe</td>\n",
       "      <td>38.80</td>\n",
       "      <td>37.10</td>\n",
       "      <td>51.50</td>\n",
       "      <td>57.10</td>\n",
       "      <td>2.70</td>\n",
       "      <td>4</td>\n",
       "    </tr>\n",
       "  </tbody>\n",
       "</table>\n",
       "</div>"
      ],
      "text/plain": [
       "     year  iso  country          region    EPI     AIR    H2O    BDH    WRS  \\\n",
       "615  2012  ALB  Albania  Eastern Europe  65.85  100.00  72.28  61.72  23.19   \n",
       "492  2014  ALB  Albania  Eastern Europe  54.73   68.24  55.91  63.19   3.36   \n",
       "369  2016  ALB  Albania  Eastern Europe  29.61   37.41  48.46  26.07   2.70   \n",
       "246  2018  ALB  Albania  Eastern Europe  38.80   37.10  51.50  57.10   2.70   \n",
       "\n",
       "     idx  \n",
       "615    1  \n",
       "492    2  \n",
       "369    3  \n",
       "246    4  "
      ]
     },
     "execution_count": 22,
     "metadata": {},
     "output_type": "execute_result"
    }
   ],
   "source": [
    "data_train.sort_values(['country', 'year'])[1:5]"
   ]
  },
  {
   "cell_type": "code",
   "execution_count": 23,
   "id": "1cfaabc0-6d0c-4f18-b6e8-cd2332077daf",
   "metadata": {},
   "outputs": [
    {
     "data": {
      "text/html": [
       "<div>\n",
       "<style scoped>\n",
       "    .dataframe tbody tr th:only-of-type {\n",
       "        vertical-align: middle;\n",
       "    }\n",
       "\n",
       "    .dataframe tbody tr th {\n",
       "        vertical-align: top;\n",
       "    }\n",
       "\n",
       "    .dataframe thead th {\n",
       "        text-align: right;\n",
       "    }\n",
       "</style>\n",
       "<table border=\"1\" class=\"dataframe\">\n",
       "  <thead>\n",
       "    <tr style=\"text-align: right;\">\n",
       "      <th></th>\n",
       "      <th>year</th>\n",
       "      <th>iso</th>\n",
       "      <th>country</th>\n",
       "      <th>region</th>\n",
       "      <th>EPI</th>\n",
       "      <th>AIR</th>\n",
       "      <th>H2O</th>\n",
       "      <th>BDH</th>\n",
       "      <th>WRS</th>\n",
       "      <th>idx</th>\n",
       "    </tr>\n",
       "  </thead>\n",
       "  <tbody>\n",
       "    <tr>\n",
       "      <th>124</th>\n",
       "      <td>2020</td>\n",
       "      <td>DZA</td>\n",
       "      <td>Algeria</td>\n",
       "      <td>Greater Middle East</td>\n",
       "      <td>44.8</td>\n",
       "      <td>45.3</td>\n",
       "      <td>53.2</td>\n",
       "      <td>39.0</td>\n",
       "      <td>33.1</td>\n",
       "      <td>5</td>\n",
       "    </tr>\n",
       "    <tr>\n",
       "      <th>125</th>\n",
       "      <td>2020</td>\n",
       "      <td>AGO</td>\n",
       "      <td>Angola</td>\n",
       "      <td>Sub-Saharan Africa</td>\n",
       "      <td>29.7</td>\n",
       "      <td>26.8</td>\n",
       "      <td>12.8</td>\n",
       "      <td>39.3</td>\n",
       "      <td>0.0</td>\n",
       "      <td>5</td>\n",
       "    </tr>\n",
       "    <tr>\n",
       "      <th>126</th>\n",
       "      <td>2020</td>\n",
       "      <td>ARG</td>\n",
       "      <td>Argentina</td>\n",
       "      <td>Latin America &amp; Caribbean</td>\n",
       "      <td>52.2</td>\n",
       "      <td>56.9</td>\n",
       "      <td>64.7</td>\n",
       "      <td>49.1</td>\n",
       "      <td>5.9</td>\n",
       "      <td>5</td>\n",
       "    </tr>\n",
       "    <tr>\n",
       "      <th>127</th>\n",
       "      <td>2020</td>\n",
       "      <td>ARM</td>\n",
       "      <td>Armenia</td>\n",
       "      <td>Former Soviet States</td>\n",
       "      <td>52.3</td>\n",
       "      <td>36.3</td>\n",
       "      <td>57.2</td>\n",
       "      <td>79.2</td>\n",
       "      <td>8.8</td>\n",
       "      <td>5</td>\n",
       "    </tr>\n",
       "  </tbody>\n",
       "</table>\n",
       "</div>"
      ],
      "text/plain": [
       "     year  iso    country                     region   EPI   AIR   H2O   BDH  \\\n",
       "124  2020  DZA    Algeria        Greater Middle East  44.8  45.3  53.2  39.0   \n",
       "125  2020  AGO     Angola         Sub-Saharan Africa  29.7  26.8  12.8  39.3   \n",
       "126  2020  ARG  Argentina  Latin America & Caribbean  52.2  56.9  64.7  49.1   \n",
       "127  2020  ARM    Armenia       Former Soviet States  52.3  36.3  57.2  79.2   \n",
       "\n",
       "      WRS  idx  \n",
       "124  33.1    5  \n",
       "125   0.0    5  \n",
       "126   5.9    5  \n",
       "127   8.8    5  "
      ]
     },
     "execution_count": 23,
     "metadata": {},
     "output_type": "execute_result"
    }
   ],
   "source": [
    "data_test[1:5]"
   ]
  },
  {
   "cell_type": "markdown",
   "id": "24dbf274-5ae0-424b-9a39-6fc435502d93",
   "metadata": {},
   "source": [
    "### Simple Linear Regression"
   ]
  },
  {
   "cell_type": "code",
   "execution_count": 24,
   "id": "7712a31d-de46-46b9-8fa4-9a1ec25055de",
   "metadata": {},
   "outputs": [
    {
     "name": "stdout",
     "output_type": "stream",
     "text": [
      "                            OLS Regression Results                            \n",
      "==============================================================================\n",
      "Dep. Variable:                    EPI   R-squared:                       0.099\n",
      "Model:                            OLS   Adj. R-squared:                  0.098\n",
      "Method:                 Least Squares   F-statistic:                     67.46\n",
      "Date:                Sun, 11 Dec 2022   Prob (F-statistic):           1.28e-15\n",
      "Time:                        03:18:21   Log-Likelihood:                -2506.3\n",
      "No. Observations:                 615   AIC:                             5017.\n",
      "Df Residuals:                     613   BIC:                             5025.\n",
      "Df Model:                           1                                         \n",
      "Covariance Type:            nonrobust                                         \n",
      "==============================================================================\n",
      "                 coef    std err          t      P>|t|      [0.025      0.975]\n",
      "------------------------------------------------------------------------------\n",
      "const         59.0999      0.996     59.313      0.000      57.143      61.057\n",
      "idx           -3.3410      0.407     -8.213      0.000      -4.140      -2.542\n",
      "==============================================================================\n",
      "Omnibus:                       23.974   Durbin-Watson:                   1.812\n",
      "Prob(Omnibus):                  0.000   Jarque-Bera (JB):               13.442\n",
      "Skew:                           0.189   Prob(JB):                      0.00121\n",
      "Kurtosis:                       2.382   Cond. No.                         4.74\n",
      "==============================================================================\n",
      "\n",
      "Notes:\n",
      "[1] Standard Errors assume that the covariance matrix of the errors is correctly specified.\n"
     ]
    },
    {
     "name": "stderr",
     "output_type": "stream",
     "text": [
      "C:\\Users\\ozlem.gunes\\AppData\\Local\\Continuum\\miniconda3\\lib\\site-packages\\ipykernel_launcher.py:18: SettingWithCopyWarning: \n",
      "A value is trying to be set on a copy of a slice from a DataFrame.\n",
      "Try using .loc[row_indexer,col_indexer] = value instead\n",
      "\n",
      "See the caveats in the documentation: https://pandas.pydata.org/pandas-docs/stable/user_guide/indexing.html#returning-a-view-versus-a-copy\n",
      "C:\\Users\\ozlem.gunes\\AppData\\Local\\Continuum\\miniconda3\\lib\\site-packages\\ipykernel_launcher.py:19: SettingWithCopyWarning: \n",
      "A value is trying to be set on a copy of a slice from a DataFrame.\n",
      "Try using .loc[row_indexer,col_indexer] = value instead\n",
      "\n",
      "See the caveats in the documentation: https://pandas.pydata.org/pandas-docs/stable/user_guide/indexing.html#returning-a-view-versus-a-copy\n",
      "C:\\Users\\ozlem.gunes\\AppData\\Local\\Continuum\\miniconda3\\lib\\site-packages\\ipykernel_launcher.py:21: SettingWithCopyWarning: \n",
      "A value is trying to be set on a copy of a slice from a DataFrame.\n",
      "Try using .loc[row_indexer,col_indexer] = value instead\n",
      "\n",
      "See the caveats in the documentation: https://pandas.pydata.org/pandas-docs/stable/user_guide/indexing.html#returning-a-view-versus-a-copy\n",
      "C:\\Users\\ozlem.gunes\\AppData\\Local\\Continuum\\miniconda3\\lib\\site-packages\\ipykernel_launcher.py:22: SettingWithCopyWarning: \n",
      "A value is trying to be set on a copy of a slice from a DataFrame.\n",
      "Try using .loc[row_indexer,col_indexer] = value instead\n",
      "\n",
      "See the caveats in the documentation: https://pandas.pydata.org/pandas-docs/stable/user_guide/indexing.html#returning-a-view-versus-a-copy\n"
     ]
    },
    {
     "data": {
      "text/plain": [
       "<AxesSubplot:xlabel='idx', ylabel='fitted'>"
      ]
     },
     "execution_count": 24,
     "metadata": {},
     "output_type": "execute_result"
    },
    {
     "data": {
      "image/png": "[encoded data removed]",
      "text/plain": [
       "<Figure size 419.375x360 with 1 Axes>"
      ]
     },
     "metadata": {
      "needs_background": "light"
     },
     "output_type": "display_data"
    }
   ],
   "source": [
    "# Train-predict and plot for all countries\n",
    "x_train = data_train[['idx']]\n",
    "y_train = data_train['EPI']\n",
    "\n",
    "x_test = data_test[['idx']]\n",
    "y_test = data_test['EPI']\n",
    " \n",
    "# with statsmodels\n",
    "x_train = sm.add_constant(x_train) # adding a constant\n",
    "model = sm.OLS(y_train, x_train).fit()\n",
    "predictions_train = model.predict(x_train) \n",
    "\n",
    "print_model = model.summary()\n",
    "print(print_model)\n",
    "\n",
    "p = model.params\n",
    "data_plot_train = data_train\n",
    "data_plot_train['fitted'] = data_plot_train['idx'] * p.idx + p.const\n",
    "data_plot_train['tag'] = 'train'\n",
    "data_plot_test = data_test\n",
    "data_plot_test['fitted'] = data_plot_test['idx'] * p.idx + p.const\n",
    "data_plot_test['tag'] = 'test'\n",
    "data_plot = pd.concat([data_plot_train,data_plot_test], axis=0)\n",
    "\n",
    "sns.lmplot(x='idx', y='EPI', data=data_plot, hue='tag', fit_reg=True)\n",
    "sns.regplot(x='idx', y='fitted', data=data_plot, color='red', scatter=False)"
   ]
  },
  {
   "cell_type": "code",
   "execution_count": 25,
   "id": "f5a4fefb-bc97-4d13-b1dc-fb0e2a5956ad",
   "metadata": {},
   "outputs": [],
   "source": [
    "x_test = sm.add_constant(x_test, has_constant='add')\n",
    "predictions = model.predict(x_test) "
   ]
  },
  {
   "cell_type": "code",
   "execution_count": 26,
   "id": "73061824-020d-4469-b978-6722b2541df9",
   "metadata": {},
   "outputs": [
    {
     "data": {
      "text/plain": [
       "320.56405438271065"
      ]
     },
     "execution_count": 26,
     "metadata": {},
     "output_type": "execute_result"
    }
   ],
   "source": [
    "mt.mean_squared_error(y_test, predictions)"
   ]
  },
  {
   "cell_type": "markdown",
   "id": "aab5f76b-c0d0-4d0f-9bfe-51bcf4fb31ff",
   "metadata": {},
   "source": [
    "#### Sample Country"
   ]
  },
  {
   "cell_type": "code",
   "execution_count": 27,
   "id": "4244dc37-f369-4542-aba7-d1c892129bc2",
   "metadata": {},
   "outputs": [
    {
     "name": "stderr",
     "output_type": "stream",
     "text": [
      "C:\\Users\\ozlem.gunes\\AppData\\Local\\Continuum\\miniconda3\\lib\\site-packages\\statsmodels\\stats\\stattools.py:75: ValueWarning: omni_normtest is not valid with less than 8 observations; 5 samples were given.\n",
      "  \"samples were given.\" % int(n), ValueWarning)\n",
      "C:\\Users\\ozlem.gunes\\AppData\\Local\\Continuum\\miniconda3\\lib\\site-packages\\ipykernel_launcher.py:19: SettingWithCopyWarning: \n",
      "A value is trying to be set on a copy of a slice from a DataFrame.\n",
      "Try using .loc[row_indexer,col_indexer] = value instead\n",
      "\n",
      "See the caveats in the documentation: https://pandas.pydata.org/pandas-docs/stable/user_guide/indexing.html#returning-a-view-versus-a-copy\n",
      "C:\\Users\\ozlem.gunes\\AppData\\Local\\Continuum\\miniconda3\\lib\\site-packages\\ipykernel_launcher.py:20: SettingWithCopyWarning: \n",
      "A value is trying to be set on a copy of a slice from a DataFrame.\n",
      "Try using .loc[row_indexer,col_indexer] = value instead\n",
      "\n",
      "See the caveats in the documentation: https://pandas.pydata.org/pandas-docs/stable/user_guide/indexing.html#returning-a-view-versus-a-copy\n",
      "C:\\Users\\ozlem.gunes\\AppData\\Local\\Continuum\\miniconda3\\lib\\site-packages\\ipykernel_launcher.py:22: SettingWithCopyWarning: \n",
      "A value is trying to be set on a copy of a slice from a DataFrame.\n",
      "Try using .loc[row_indexer,col_indexer] = value instead\n",
      "\n",
      "See the caveats in the documentation: https://pandas.pydata.org/pandas-docs/stable/user_guide/indexing.html#returning-a-view-versus-a-copy\n",
      "C:\\Users\\ozlem.gunes\\AppData\\Local\\Continuum\\miniconda3\\lib\\site-packages\\ipykernel_launcher.py:23: SettingWithCopyWarning: \n",
      "A value is trying to be set on a copy of a slice from a DataFrame.\n",
      "Try using .loc[row_indexer,col_indexer] = value instead\n",
      "\n",
      "See the caveats in the documentation: https://pandas.pydata.org/pandas-docs/stable/user_guide/indexing.html#returning-a-view-versus-a-copy\n"
     ]
    },
    {
     "name": "stdout",
     "output_type": "stream",
     "text": [
      "                            OLS Regression Results                            \n",
      "==============================================================================\n",
      "Dep. Variable:                    EPI   R-squared:                       0.429\n",
      "Model:                            OLS   Adj. R-squared:                  0.239\n",
      "Method:                 Least Squares   F-statistic:                     2.256\n",
      "Date:                Sun, 11 Dec 2022   Prob (F-statistic):              0.230\n",
      "Time:                        03:18:42   Log-Likelihood:                -13.755\n",
      "No. Observations:                   5   AIC:                             31.51\n",
      "Df Residuals:                       3   BIC:                             30.73\n",
      "Df Model:                           1                                         \n",
      "Covariance Type:            nonrobust                                         \n",
      "==============================================================================\n",
      "                 coef    std err          t      P>|t|      [0.025      0.975]\n",
      "------------------------------------------------------------------------------\n",
      "const         78.2340      3.789     20.650      0.000      66.177      90.291\n",
      "idx           -2.3230      1.547     -1.502      0.230      -7.245       2.599\n",
      "==============================================================================\n",
      "Omnibus:                          nan   Durbin-Watson:                   3.484\n",
      "Prob(Omnibus):                    nan   Jarque-Bera (JB):                0.484\n",
      "Skew:                          -0.430   Prob(JB):                        0.785\n",
      "Kurtosis:                       1.741   Cond. No.                         4.74\n",
      "==============================================================================\n",
      "\n",
      "Notes:\n",
      "[1] Standard Errors assume that the covariance matrix of the errors is correctly specified.\n"
     ]
    },
    {
     "data": {
      "text/plain": [
       "<AxesSubplot:xlabel='idx', ylabel='fitted'>"
      ]
     },
     "execution_count": 27,
     "metadata": {},
     "output_type": "execute_result"
    },
    {
     "data": {
      "image/png": "[encoded data removed]",
      "text/plain": [
       "<Figure size 419.375x360 with 1 Axes>"
      ]
     },
     "metadata": {
      "needs_background": "light"
     },
     "output_type": "display_data"
    }
   ],
   "source": [
    "# Train-predict and plot for sample country Norway\n",
    "country = 'Norway'\n",
    "x_train = data_train[data_train['country'] == country][['idx']]\n",
    "y_train = data_train[data_train['country'] == country]['EPI']\n",
    "\n",
    "x_test = data_test[data_test['country'] == country][['idx']]\n",
    "y_test = data_test[data_test['country'] == country]['EPI']\n",
    " \n",
    "# with statsmodels\n",
    "x_train = sm.add_constant(x_train) # adding a constant\n",
    "model = sm.OLS(y_train, x_train).fit()\n",
    "predictions_train = model.predict(x_train) \n",
    "\n",
    "print_model = model.summary()\n",
    "print(print_model)\n",
    "\n",
    "p = model.params\n",
    "data_plot_train = data_train[data_train['country'] == country]\n",
    "data_plot_train['fitted'] = data_plot_train['idx'] * p.idx + p.const\n",
    "data_plot_train['tag'] = 'train'\n",
    "data_plot_test = data_test[data_test['country'] == country]\n",
    "data_plot_test['fitted'] = data_plot_test['idx'] * p.idx + p.const\n",
    "data_plot_test['tag'] = 'test'\n",
    "data_plot = pd.concat([data_plot_train,data_plot_test], axis=0)\n",
    "\n",
    "sns.lmplot(x='idx', y='EPI', data=data_plot, hue='tag', fit_reg=True)\n",
    "sns.regplot(x='idx', y='fitted', data=data_plot, color='red', scatter=False)"
   ]
  },
  {
   "cell_type": "code",
   "execution_count": 28,
   "id": "ae6cdb70-fb13-4730-bd6e-5909ba33d1e6",
   "metadata": {},
   "outputs": [],
   "source": [
    "x_test = sm.add_constant(x_test, has_constant='add')\n",
    "predictions = model.predict(x_test) "
   ]
  },
  {
   "cell_type": "code",
   "execution_count": 29,
   "id": "98568fda-21cc-4c84-8487-734bc3cc40cb",
   "metadata": {},
   "outputs": [
    {
     "data": {
      "text/plain": [
       "122.78856100000007"
      ]
     },
     "execution_count": 29,
     "metadata": {},
     "output_type": "execute_result"
    }
   ],
   "source": [
    "mt.mean_squared_error(y_test, predictions)"
   ]
  },
  {
   "cell_type": "markdown",
   "id": "014a47c9-346e-4188-8835-a18799c2d3d3",
   "metadata": {},
   "source": [
    "### Multiple Linear Regression"
   ]
  },
  {
   "cell_type": "code",
   "execution_count": 30,
   "id": "e40865aa-6834-4de7-a2a0-15fcb37a668b",
   "metadata": {},
   "outputs": [
    {
     "data": {
      "text/plain": [
       "<AxesSubplot:xlabel='AIR', ylabel='EPI'>"
      ]
     },
     "execution_count": 30,
     "metadata": {},
     "output_type": "execute_result"
    },
    {
     "data": {
      "image/png": "[encoded data removed]",
      "text/plain": [
       "<Figure size 432x288 with 1 Axes>"
      ]
     },
     "metadata": {
      "needs_background": "light"
     },
     "output_type": "display_data"
    }
   ],
   "source": [
    "sns.regplot(x='AIR', y='EPI', data=data)"
   ]
  },
  {
   "cell_type": "code",
   "execution_count": 31,
   "id": "736068e7-bfce-449e-aaf7-6354757300dc",
   "metadata": {},
   "outputs": [
    {
     "name": "stdout",
     "output_type": "stream",
     "text": [
      "                            OLS Regression Results                            \n",
      "==============================================================================\n",
      "Dep. Variable:                    EPI   R-squared:                       0.846\n",
      "Model:                            OLS   Adj. R-squared:                  0.845\n",
      "Method:                 Least Squares   F-statistic:                     668.4\n",
      "Date:                Sun, 11 Dec 2022   Prob (F-statistic):          1.62e-244\n",
      "Time:                        03:19:03   Log-Likelihood:                -1963.4\n",
      "No. Observations:                 615   AIC:                             3939.\n",
      "Df Residuals:                     609   BIC:                             3965.\n",
      "Df Model:                           5                                         \n",
      "Covariance Type:            nonrobust                                         \n",
      "==============================================================================\n",
      "                 coef    std err          t      P>|t|      [0.025      0.975]\n",
      "------------------------------------------------------------------------------\n",
      "const         17.7819      0.956     18.610      0.000      15.905      19.658\n",
      "idx            0.1390      0.189      0.734      0.463      -0.233       0.511\n",
      "AIR            0.1306      0.012     10.521      0.000       0.106       0.155\n",
      "H2O            0.1854      0.012     15.749      0.000       0.162       0.209\n",
      "BDH            0.1582      0.010     15.343      0.000       0.138       0.178\n",
      "WRS            0.1622      0.010     16.698      0.000       0.143       0.181\n",
      "==============================================================================\n",
      "Omnibus:                        6.288   Durbin-Watson:                   1.926\n",
      "Prob(Omnibus):                  0.043   Jarque-Bera (JB):                6.337\n",
      "Skew:                          -0.198   Prob(JB):                       0.0421\n",
      "Kurtosis:                       3.300   Cond. No.                         475.\n",
      "==============================================================================\n",
      "\n",
      "Notes:\n",
      "[1] Standard Errors assume that the covariance matrix of the errors is correctly specified.\n"
     ]
    },
    {
     "name": "stderr",
     "output_type": "stream",
     "text": [
      "C:\\Users\\ozlem.gunes\\AppData\\Local\\Continuum\\miniconda3\\lib\\site-packages\\ipykernel_launcher.py:21: SettingWithCopyWarning: \n",
      "A value is trying to be set on a copy of a slice from a DataFrame.\n",
      "Try using .loc[row_indexer,col_indexer] = value instead\n",
      "\n",
      "See the caveats in the documentation: https://pandas.pydata.org/pandas-docs/stable/user_guide/indexing.html#returning-a-view-versus-a-copy\n",
      "C:\\Users\\ozlem.gunes\\AppData\\Local\\Continuum\\miniconda3\\lib\\site-packages\\ipykernel_launcher.py:22: SettingWithCopyWarning: \n",
      "A value is trying to be set on a copy of a slice from a DataFrame.\n",
      "Try using .loc[row_indexer,col_indexer] = value instead\n",
      "\n",
      "See the caveats in the documentation: https://pandas.pydata.org/pandas-docs/stable/user_guide/indexing.html#returning-a-view-versus-a-copy\n",
      "C:\\Users\\ozlem.gunes\\AppData\\Local\\Continuum\\miniconda3\\lib\\site-packages\\ipykernel_launcher.py:28: SettingWithCopyWarning: \n",
      "A value is trying to be set on a copy of a slice from a DataFrame.\n",
      "Try using .loc[row_indexer,col_indexer] = value instead\n",
      "\n",
      "See the caveats in the documentation: https://pandas.pydata.org/pandas-docs/stable/user_guide/indexing.html#returning-a-view-versus-a-copy\n",
      "C:\\Users\\ozlem.gunes\\AppData\\Local\\Continuum\\miniconda3\\lib\\site-packages\\ipykernel_launcher.py:29: SettingWithCopyWarning: \n",
      "A value is trying to be set on a copy of a slice from a DataFrame.\n",
      "Try using .loc[row_indexer,col_indexer] = value instead\n",
      "\n",
      "See the caveats in the documentation: https://pandas.pydata.org/pandas-docs/stable/user_guide/indexing.html#returning-a-view-versus-a-copy\n"
     ]
    },
    {
     "data": {
      "text/plain": [
       "<AxesSubplot:xlabel='idx', ylabel='fitted'>"
      ]
     },
     "execution_count": 31,
     "metadata": {},
     "output_type": "execute_result"
    },
    {
     "data": {
      "image/png": "[encoded data removed]",
      "text/plain": [
       "<Figure size 419.375x360 with 1 Axes>"
      ]
     },
     "metadata": {
      "needs_background": "light"
     },
     "output_type": "display_data"
    }
   ],
   "source": [
    "x_train = data_train[['idx', 'AIR', 'H2O', 'BDH', 'WRS']]\n",
    "y_train = data_train['EPI']\n",
    "\n",
    "x_test = data_test[['idx', 'AIR', 'H2O', 'BDH', 'WRS']]\n",
    "y_test = data_test['EPI']\n",
    "\n",
    "# with statsmodels\n",
    "x_train = sm.add_constant(x_train) # adding a constant\n",
    "model = sm.OLS(y_train, x_train).fit()\n",
    "predictions_train = model.predict(x_train) \n",
    "\n",
    "print_model = model.summary()\n",
    "print(print_model)\n",
    "\n",
    "p = model.params\n",
    "data_plot_train = data_train\n",
    "data_plot_train['fitted'] = data_plot_train['idx'] * p.idx + \\\n",
    "                            data_plot_train['AIR'] * p.AIR + \\\n",
    "                            data_plot_train['H2O'] * p.H2O + \\\n",
    "                            data_plot_train['BDH'] * p.BDH + \\\n",
    "                            data_plot_train['WRS'] * p.WRS + p.const\n",
    "data_plot_train['tag'] = 'train'\n",
    "data_plot_test = data_test\n",
    "data_plot_test['fitted'] = data_plot_test['idx'] * p.idx + \\\n",
    "                            data_plot_test['AIR'] * p.AIR + \\\n",
    "                            data_plot_test['H2O'] * p.H2O + \\\n",
    "                            data_plot_test['BDH'] * p.BDH + \\\n",
    "                            data_plot_test['WRS'] * p.WRS + p.const\n",
    "data_plot_test['tag'] = 'test'\n",
    "data_plot = pd.concat([data_plot_train,data_plot_test], axis=0)\n",
    "\n",
    "sns.lmplot(x='idx', y='EPI', data=data_plot, hue='tag', fit_reg=False)\n",
    "sns.regplot(x='idx', y='fitted', data=data_plot, color='red', scatter=False)"
   ]
  },
  {
   "cell_type": "code",
   "execution_count": 32,
   "id": "5ae99479-ced6-49c5-9da0-3394ff34d435",
   "metadata": {},
   "outputs": [
    {
     "name": "stdout",
     "output_type": "stream",
     "text": [
      "eval_env: 1\n",
      "eval_env: 1\n",
      "eval_env: 1\n",
      "eval_env: 1\n",
      "eval_env: 1\n",
      "eval_env: 1\n"
     ]
    },
    {
     "data": {
      "image/png": "[encoded data removed]",
      "text/plain": [
       "<Figure size 432x288 with 6 Axes>"
      ]
     },
     "metadata": {
      "needs_background": "light"
     },
     "output_type": "display_data"
    }
   ],
   "source": [
    "fig = sm.graphics.plot_partregress_grid(model)\n",
    "fig.tight_layout(pad=1.0)"
   ]
  },
  {
   "cell_type": "code",
   "execution_count": 33,
   "id": "4a28115b-f212-44cd-b8d3-3bd45b7cbb08",
   "metadata": {},
   "outputs": [],
   "source": [
    "x_test = sm.add_constant(x_test, has_constant='add')\n",
    "predictions = model.predict(x_test) "
   ]
  },
  {
   "cell_type": "code",
   "execution_count": 34,
   "id": "1579e083-fd8b-4a8a-b888-9dbd15676e67",
   "metadata": {},
   "outputs": [
    {
     "data": {
      "text/plain": [
       "20.794376334029756"
      ]
     },
     "execution_count": 34,
     "metadata": {},
     "output_type": "execute_result"
    }
   ],
   "source": [
    "mt.mean_squared_error(y_test, predictions)"
   ]
  },
  {
   "cell_type": "markdown",
   "id": "322010e8-e087-4b41-a26f-f89d70d6081b",
   "metadata": {},
   "source": [
    "#### Sample Country"
   ]
  },
  {
   "cell_type": "code",
   "execution_count": 35,
   "id": "5f69730b-5cf6-4004-8e6b-3275df81286a",
   "metadata": {},
   "outputs": [
    {
     "name": "stderr",
     "output_type": "stream",
     "text": [
      "C:\\Users\\ozlem.gunes\\AppData\\Local\\Continuum\\miniconda3\\lib\\site-packages\\statsmodels\\stats\\stattools.py:75: ValueWarning: omni_normtest is not valid with less than 8 observations; 5 samples were given.\n",
      "  \"samples were given.\" % int(n), ValueWarning)\n",
      "C:\\Users\\ozlem.gunes\\AppData\\Local\\Continuum\\miniconda3\\lib\\site-packages\\statsmodels\\regression\\linear_model.py:1765: RuntimeWarning: divide by zero encountered in true_divide\n",
      "  return 1 - (np.divide(self.nobs - self.k_constant, self.df_resid)\n",
      "C:\\Users\\ozlem.gunes\\AppData\\Local\\Continuum\\miniconda3\\lib\\site-packages\\statsmodels\\regression\\linear_model.py:1766: RuntimeWarning: invalid value encountered in double_scalars\n",
      "  * (1 - self.rsquared))\n",
      "C:\\Users\\ozlem.gunes\\AppData\\Local\\Continuum\\miniconda3\\lib\\site-packages\\statsmodels\\regression\\linear_model.py:1687: RuntimeWarning: divide by zero encountered in double_scalars\n",
      "  return np.dot(wresid, wresid) / self.df_resid\n",
      "C:\\Users\\ozlem.gunes\\AppData\\Local\\Continuum\\miniconda3\\lib\\site-packages\\ipykernel_launcher.py:22: SettingWithCopyWarning: \n",
      "A value is trying to be set on a copy of a slice from a DataFrame.\n",
      "Try using .loc[row_indexer,col_indexer] = value instead\n",
      "\n",
      "See the caveats in the documentation: https://pandas.pydata.org/pandas-docs/stable/user_guide/indexing.html#returning-a-view-versus-a-copy\n",
      "C:\\Users\\ozlem.gunes\\AppData\\Local\\Continuum\\miniconda3\\lib\\site-packages\\ipykernel_launcher.py:23: SettingWithCopyWarning: \n",
      "A value is trying to be set on a copy of a slice from a DataFrame.\n",
      "Try using .loc[row_indexer,col_indexer] = value instead\n",
      "\n",
      "See the caveats in the documentation: https://pandas.pydata.org/pandas-docs/stable/user_guide/indexing.html#returning-a-view-versus-a-copy\n",
      "C:\\Users\\ozlem.gunes\\AppData\\Local\\Continuum\\miniconda3\\lib\\site-packages\\ipykernel_launcher.py:29: SettingWithCopyWarning: \n",
      "A value is trying to be set on a copy of a slice from a DataFrame.\n",
      "Try using .loc[row_indexer,col_indexer] = value instead\n",
      "\n",
      "See the caveats in the documentation: https://pandas.pydata.org/pandas-docs/stable/user_guide/indexing.html#returning-a-view-versus-a-copy\n",
      "C:\\Users\\ozlem.gunes\\AppData\\Local\\Continuum\\miniconda3\\lib\\site-packages\\ipykernel_launcher.py:30: SettingWithCopyWarning: \n",
      "A value is trying to be set on a copy of a slice from a DataFrame.\n",
      "Try using .loc[row_indexer,col_indexer] = value instead\n",
      "\n",
      "See the caveats in the documentation: https://pandas.pydata.org/pandas-docs/stable/user_guide/indexing.html#returning-a-view-versus-a-copy\n"
     ]
    },
    {
     "name": "stdout",
     "output_type": "stream",
     "text": [
      "                            OLS Regression Results                            \n",
      "==============================================================================\n",
      "Dep. Variable:                    EPI   R-squared:                       1.000\n",
      "Model:                            OLS   Adj. R-squared:                    nan\n",
      "Method:                 Least Squares   F-statistic:                       nan\n",
      "Date:                Sun, 11 Dec 2022   Prob (F-statistic):                nan\n",
      "Time:                        03:19:23   Log-Likelihood:                 144.69\n",
      "No. Observations:                   5   AIC:                            -279.4\n",
      "Df Residuals:                       0   BIC:                            -281.3\n",
      "Df Model:                           4                                         \n",
      "Covariance Type:            nonrobust                                         \n",
      "==============================================================================\n",
      "                 coef    std err          t      P>|t|      [0.025      0.975]\n",
      "------------------------------------------------------------------------------\n",
      "const          0.0034        inf          0        nan         nan         nan\n",
      "idx           -2.0882        inf         -0        nan         nan         nan\n",
      "AIR           -0.3160        inf         -0        nan         nan         nan\n",
      "H2O            0.6633        inf          0        nan         nan         nan\n",
      "BDH            0.3145        inf          0        nan         nan         nan\n",
      "WRS            0.3167        inf          0        nan         nan         nan\n",
      "==============================================================================\n",
      "Omnibus:                          nan   Durbin-Watson:                   0.660\n",
      "Prob(Omnibus):                    nan   Jarque-Bera (JB):                0.359\n",
      "Skew:                          -0.607   Prob(JB):                        0.836\n",
      "Kurtosis:                       2.500   Cond. No.                         748.\n",
      "==============================================================================\n",
      "\n",
      "Notes:\n",
      "[1] Standard Errors assume that the covariance matrix of the errors is correctly specified.\n",
      "[2] The input rank is higher than the number of observations.\n"
     ]
    },
    {
     "data": {
      "text/plain": [
       "<AxesSubplot:xlabel='idx', ylabel='fitted'>"
      ]
     },
     "execution_count": 35,
     "metadata": {},
     "output_type": "execute_result"
    },
    {
     "data": {
      "image/png": "[encoded data removed]",
      "text/plain": [
       "<Figure size 419.375x360 with 1 Axes>"
      ]
     },
     "metadata": {
      "needs_background": "light"
     },
     "output_type": "display_data"
    }
   ],
   "source": [
    "# Train-predict and plot for sample country Norway\n",
    "x_train = data_train[data_train['country'] == country][['idx', 'AIR', 'H2O', 'BDH', 'WRS']]\n",
    "y_train = data_train[data_train['country'] == country]['EPI']\n",
    "\n",
    "x_test = data_test[data_test['country'] == country][['idx', 'AIR', 'H2O', 'BDH', 'WRS']]\n",
    "y_test = data_test[data_test['country'] == country]['EPI']\n",
    " \n",
    "# with statsmodels\n",
    "x_train = sm.add_constant(x_train) # adding a constant\n",
    "model = sm.OLS(y_train, x_train).fit()\n",
    "predictions_train = model.predict(x_train) \n",
    "\n",
    "print_model = model.summary()\n",
    "print(print_model)\n",
    "\n",
    "p = model.params\n",
    "data_plot_train = data_train[data_train['country'] == country]\n",
    "data_plot_train['fitted'] = data_plot_train['idx'] * p.idx + \\\n",
    "                            data_plot_train['AIR'] * p.AIR + \\\n",
    "                            data_plot_train['H2O'] * p.H2O + \\\n",
    "                            data_plot_train['BDH'] * p.BDH + \\\n",
    "                            data_plot_train['WRS'] * p.WRS + p.const\n",
    "data_plot_train['tag'] = 'train'\n",
    "data_plot_test = data_test[data_test['country'] == country]\n",
    "data_plot_test['fitted'] = data_plot_test['idx'] * p.idx + \\\n",
    "                            data_plot_test['AIR'] * p.AIR + \\\n",
    "                            data_plot_test['H2O'] * p.H2O + \\\n",
    "                            data_plot_test['BDH'] * p.BDH + \\\n",
    "                            data_plot_test['WRS'] * p.WRS + p.const\n",
    "data_plot_test['tag'] = 'test'\n",
    "data_plot = pd.concat([data_plot_train,data_plot_test], axis=0)\n",
    "\n",
    "sns.lmplot(x='idx', y='EPI', data=data_plot, hue='tag', fit_reg=False)\n",
    "sns.regplot(x='idx', y='fitted', data=data_plot, color='red', scatter=False)"
   ]
  },
  {
   "cell_type": "code",
   "execution_count": 36,
   "id": "2df6e7b2-b2a0-4996-9810-e629b4d1f630",
   "metadata": {},
   "outputs": [],
   "source": [
    "x_test = sm.add_constant(x_test, has_constant='add')\n",
    "predictions = model.predict(x_test) "
   ]
  },
  {
   "cell_type": "code",
   "execution_count": 37,
   "id": "0ce80366-d8e6-47af-acc4-b319c3fcc18a",
   "metadata": {},
   "outputs": [
    {
     "data": {
      "text/plain": [
       "97.68311940770529"
      ]
     },
     "execution_count": 37,
     "metadata": {},
     "output_type": "execute_result"
    }
   ],
   "source": [
    "mt.mean_squared_error(y_test, predictions)"
   ]
  },
  {
   "cell_type": "markdown",
   "id": "86e711f4-6fc5-4936-b9b6-0c6881ba53e8",
   "metadata": {},
   "source": [
    "### Models - Predict 2022"
   ]
  },
  {
   "cell_type": "markdown",
   "id": "2d63f754-6c47-42c7-a2d3-aa8c0f059919",
   "metadata": {},
   "source": [
    "#### Data Sets"
   ]
  },
  {
   "cell_type": "code",
   "execution_count": 38,
   "id": "f76edae4-60e1-408d-89e5-d517c22658ae",
   "metadata": {},
   "outputs": [],
   "source": [
    "data_train = data[(data['year'] < 2022)]\n",
    "data_test = data[data['year'].isin([2022])]"
   ]
  },
  {
   "cell_type": "markdown",
   "id": "106f0f1d-e088-49e9-9c5b-9c9ae1a52799",
   "metadata": {},
   "source": [
    "### Simple Linear Regression"
   ]
  },
  {
   "cell_type": "code",
   "execution_count": 39,
   "id": "bb528a42-b1d8-4240-aa6f-5989d8d636dd",
   "metadata": {},
   "outputs": [
    {
     "name": "stdout",
     "output_type": "stream",
     "text": [
      "                            OLS Regression Results                            \n",
      "==============================================================================\n",
      "Dep. Variable:                    EPI   R-squared:                       0.057\n",
      "Model:                            OLS   Adj. R-squared:                  0.056\n",
      "Method:                 Least Squares   F-statistic:                     44.67\n",
      "Date:                Sun, 11 Dec 2022   Prob (F-statistic):           4.61e-11\n",
      "Time:                        03:19:40   Log-Likelihood:                -3030.8\n",
      "No. Observations:                 738   AIC:                             6066.\n",
      "Df Residuals:                     736   BIC:                             6075.\n",
      "Df Model:                           1                                         \n",
      "Covariance Type:            nonrobust                                         \n",
      "==============================================================================\n",
      "                 coef    std err          t      P>|t|      [0.025      0.975]\n",
      "------------------------------------------------------------------------------\n",
      "const         57.4727      0.961     59.827      0.000      55.587      59.359\n",
      "idx           -2.1206      0.317     -6.684      0.000      -2.744      -1.498\n",
      "==============================================================================\n",
      "Omnibus:                       30.015   Durbin-Watson:                   1.770\n",
      "Prob(Omnibus):                  0.000   Jarque-Bera (JB):               16.693\n",
      "Skew:                           0.197   Prob(JB):                     0.000237\n",
      "Kurtosis:                       2.377   Cond. No.                         5.78\n",
      "==============================================================================\n",
      "\n",
      "Notes:\n",
      "[1] Standard Errors assume that the covariance matrix of the errors is correctly specified.\n"
     ]
    },
    {
     "name": "stderr",
     "output_type": "stream",
     "text": [
      "C:\\Users\\ozlem.gunes\\AppData\\Local\\Continuum\\miniconda3\\lib\\site-packages\\ipykernel_launcher.py:17: SettingWithCopyWarning: \n",
      "A value is trying to be set on a copy of a slice from a DataFrame.\n",
      "Try using .loc[row_indexer,col_indexer] = value instead\n",
      "\n",
      "See the caveats in the documentation: https://pandas.pydata.org/pandas-docs/stable/user_guide/indexing.html#returning-a-view-versus-a-copy\n",
      "C:\\Users\\ozlem.gunes\\AppData\\Local\\Continuum\\miniconda3\\lib\\site-packages\\ipykernel_launcher.py:18: SettingWithCopyWarning: \n",
      "A value is trying to be set on a copy of a slice from a DataFrame.\n",
      "Try using .loc[row_indexer,col_indexer] = value instead\n",
      "\n",
      "See the caveats in the documentation: https://pandas.pydata.org/pandas-docs/stable/user_guide/indexing.html#returning-a-view-versus-a-copy\n",
      "C:\\Users\\ozlem.gunes\\AppData\\Local\\Continuum\\miniconda3\\lib\\site-packages\\ipykernel_launcher.py:20: SettingWithCopyWarning: \n",
      "A value is trying to be set on a copy of a slice from a DataFrame.\n",
      "Try using .loc[row_indexer,col_indexer] = value instead\n",
      "\n",
      "See the caveats in the documentation: https://pandas.pydata.org/pandas-docs/stable/user_guide/indexing.html#returning-a-view-versus-a-copy\n",
      "C:\\Users\\ozlem.gunes\\AppData\\Local\\Continuum\\miniconda3\\lib\\site-packages\\ipykernel_launcher.py:21: SettingWithCopyWarning: \n",
      "A value is trying to be set on a copy of a slice from a DataFrame.\n",
      "Try using .loc[row_indexer,col_indexer] = value instead\n",
      "\n",
      "See the caveats in the documentation: https://pandas.pydata.org/pandas-docs/stable/user_guide/indexing.html#returning-a-view-versus-a-copy\n"
     ]
    },
    {
     "data": {
      "text/plain": [
       "<AxesSubplot:xlabel='idx', ylabel='fitted'>"
      ]
     },
     "execution_count": 39,
     "metadata": {},
     "output_type": "execute_result"
    },
    {
     "data": {
      "image/png": "[encoded data removed]",
      "text/plain": [
       "<Figure size 419.375x360 with 1 Axes>"
      ]
     },
     "metadata": {
      "needs_background": "light"
     },
     "output_type": "display_data"
    }
   ],
   "source": [
    "x_train = data_train[['idx']]\n",
    "y_train = data_train['EPI']\n",
    "\n",
    "x_test = data_test[['idx']]\n",
    "y_test = data_test['EPI']\n",
    " \n",
    "# with statsmodels\n",
    "x_train = sm.add_constant(x_train) # adding a constant\n",
    "model = sm.OLS(y_train, x_train).fit()\n",
    "predictions_train = model.predict(x_train) \n",
    "\n",
    "print_model = model.summary()\n",
    "print(print_model)\n",
    "\n",
    "p = model.params\n",
    "data_plot_train = data_train\n",
    "data_plot_train['fitted'] = data_plot_train['idx'] * p.idx + p.const\n",
    "data_plot_train['tag'] = 'train'\n",
    "data_plot_test = data_test\n",
    "data_plot_test['fitted'] = data_plot_test['idx'] * p.idx + p.const\n",
    "data_plot_test['tag'] = 'test'\n",
    "data_plot = pd.concat([data_plot_train,data_plot_test], axis=0)\n",
    "\n",
    "sns.lmplot(x='idx', y='EPI', data=data_plot, hue='tag', fit_reg=True)\n",
    "sns.regplot(x='idx', y='fitted', data=data_plot, color='red', scatter=False)"
   ]
  },
  {
   "cell_type": "code",
   "execution_count": 40,
   "id": "969732ad-668b-4618-9703-da3a3f7b7550",
   "metadata": {},
   "outputs": [],
   "source": [
    "x_test = sm.add_constant(x_test, has_constant='add')\n",
    "predictions = model.predict(x_test) "
   ]
  },
  {
   "cell_type": "code",
   "execution_count": 41,
   "id": "57c2a084-eadd-4248-bf0d-2054a8f0c47e",
   "metadata": {},
   "outputs": [
    {
     "data": {
      "text/plain": [
       "183.67397634532637"
      ]
     },
     "execution_count": 41,
     "metadata": {},
     "output_type": "execute_result"
    }
   ],
   "source": [
    "mt.mean_squared_error(y_test, predictions)"
   ]
  },
  {
   "cell_type": "markdown",
   "id": "3ffd3665-beca-4e84-b0f7-47d02fb4fd01",
   "metadata": {},
   "source": [
    "#### Sample Country"
   ]
  },
  {
   "cell_type": "code",
   "execution_count": 42,
   "id": "7cd01641-05c9-4079-9037-fb6724ec101a",
   "metadata": {},
   "outputs": [
    {
     "name": "stderr",
     "output_type": "stream",
     "text": [
      "C:\\Users\\ozlem.gunes\\AppData\\Local\\Continuum\\miniconda3\\lib\\site-packages\\statsmodels\\stats\\stattools.py:75: ValueWarning: omni_normtest is not valid with less than 8 observations; 6 samples were given.\n",
      "  \"samples were given.\" % int(n), ValueWarning)\n",
      "C:\\Users\\ozlem.gunes\\AppData\\Local\\Continuum\\miniconda3\\lib\\site-packages\\ipykernel_launcher.py:18: SettingWithCopyWarning: \n",
      "A value is trying to be set on a copy of a slice from a DataFrame.\n",
      "Try using .loc[row_indexer,col_indexer] = value instead\n",
      "\n",
      "See the caveats in the documentation: https://pandas.pydata.org/pandas-docs/stable/user_guide/indexing.html#returning-a-view-versus-a-copy\n",
      "C:\\Users\\ozlem.gunes\\AppData\\Local\\Continuum\\miniconda3\\lib\\site-packages\\ipykernel_launcher.py:19: SettingWithCopyWarning: \n",
      "A value is trying to be set on a copy of a slice from a DataFrame.\n",
      "Try using .loc[row_indexer,col_indexer] = value instead\n",
      "\n",
      "See the caveats in the documentation: https://pandas.pydata.org/pandas-docs/stable/user_guide/indexing.html#returning-a-view-versus-a-copy\n",
      "C:\\Users\\ozlem.gunes\\AppData\\Local\\Continuum\\miniconda3\\lib\\site-packages\\ipykernel_launcher.py:21: SettingWithCopyWarning: \n",
      "A value is trying to be set on a copy of a slice from a DataFrame.\n",
      "Try using .loc[row_indexer,col_indexer] = value instead\n",
      "\n",
      "See the caveats in the documentation: https://pandas.pydata.org/pandas-docs/stable/user_guide/indexing.html#returning-a-view-versus-a-copy\n",
      "C:\\Users\\ozlem.gunes\\AppData\\Local\\Continuum\\miniconda3\\lib\\site-packages\\ipykernel_launcher.py:22: SettingWithCopyWarning: \n",
      "A value is trying to be set on a copy of a slice from a DataFrame.\n",
      "Try using .loc[row_indexer,col_indexer] = value instead\n",
      "\n",
      "See the caveats in the documentation: https://pandas.pydata.org/pandas-docs/stable/user_guide/indexing.html#returning-a-view-versus-a-copy\n"
     ]
    },
    {
     "name": "stdout",
     "output_type": "stream",
     "text": [
      "                            OLS Regression Results                            \n",
      "==============================================================================\n",
      "Dep. Variable:                    EPI   R-squared:                       0.069\n",
      "Model:                            OLS   Adj. R-squared:                 -0.164\n",
      "Method:                 Least Squares   F-statistic:                    0.2943\n",
      "Date:                Sun, 11 Dec 2022   Prob (F-statistic):              0.616\n",
      "Time:                        03:20:47   Log-Likelihood:                -17.746\n",
      "No. Observations:                   6   AIC:                             39.49\n",
      "Df Residuals:                       4   BIC:                             39.08\n",
      "Df Model:                           1                                         \n",
      "Covariance Type:            nonrobust                                         \n",
      "==============================================================================\n",
      "                 coef    std err          t      P>|t|      [0.025      0.975]\n",
      "------------------------------------------------------------------------------\n",
      "const         76.1233      4.130     18.433      0.000      64.657      87.589\n",
      "idx           -0.7400      1.364     -0.543      0.616      -4.527       3.047\n",
      "==============================================================================\n",
      "Omnibus:                          nan   Durbin-Watson:                   2.573\n",
      "Prob(Omnibus):                    nan   Jarque-Bera (JB):                0.866\n",
      "Skew:                          -0.028   Prob(JB):                        0.648\n",
      "Kurtosis:                       1.139   Cond. No.                         5.78\n",
      "==============================================================================\n",
      "\n",
      "Notes:\n",
      "[1] Standard Errors assume that the covariance matrix of the errors is correctly specified.\n"
     ]
    },
    {
     "data": {
      "text/plain": [
       "<AxesSubplot:xlabel='idx', ylabel='fitted'>"
      ]
     },
     "execution_count": 42,
     "metadata": {},
     "output_type": "execute_result"
    },
    {
     "data": {
      "image/png": "[encoded data removed]",
      "text/plain": [
       "<Figure size 419.375x360 with 1 Axes>"
      ]
     },
     "metadata": {
      "needs_background": "light"
     },
     "output_type": "display_data"
    }
   ],
   "source": [
    "# Train-predict and plot for sample country Norway\n",
    "x_train = data_train[data_train['country'] == country][['idx']]\n",
    "y_train = data_train[data_train['country'] == country]['EPI']\n",
    "\n",
    "x_test = data_test[data_test['country'] == country][['idx']]\n",
    "y_test = data_test[data_test['country'] == country]['EPI']\n",
    " \n",
    "# with statsmodels\n",
    "x_train = sm.add_constant(x_train) # adding a constant\n",
    "model = sm.OLS(y_train, x_train).fit()\n",
    "predictions_train = model.predict(x_train) \n",
    "\n",
    "print_model = model.summary()\n",
    "print(print_model)\n",
    "\n",
    "p = model.params\n",
    "data_plot_train = data_train[data_train['country'] == country]\n",
    "data_plot_train['fitted'] = data_plot_train['idx'] * p.idx + p.const\n",
    "data_plot_train['tag'] = 'train'\n",
    "data_plot_test = data_test[data_test['country'] == country]\n",
    "data_plot_test['fitted'] = data_plot_test['idx'] * p.idx + p.const\n",
    "data_plot_test['tag'] = 'test'\n",
    "data_plot = pd.concat([data_plot_train,data_plot_test], axis=0)\n",
    "\n",
    "sns.lmplot(x='idx', y='EPI', data=data_plot, hue='tag', fit_reg=True)\n",
    "sns.regplot(x='idx', y='fitted', data=data_plot, color='red', scatter=False)"
   ]
  },
  {
   "cell_type": "code",
   "execution_count": 43,
   "id": "6a0749a2-7b50-45a8-ab56-6f97e8e75dcf",
   "metadata": {},
   "outputs": [],
   "source": [
    "x_test = sm.add_constant(x_test, has_constant='add')\n",
    "predictions = model.predict(x_test) "
   ]
  },
  {
   "cell_type": "code",
   "execution_count": 44,
   "id": "32497f05-07dd-4cea-aeeb-c604aa1b4017",
   "metadata": {},
   "outputs": [
    {
     "data": {
      "text/plain": [
       "153.3469444444439"
      ]
     },
     "execution_count": 44,
     "metadata": {},
     "output_type": "execute_result"
    }
   ],
   "source": [
    "mt.mean_squared_error(y_test, predictions)"
   ]
  },
  {
   "cell_type": "markdown",
   "id": "2845bfe3-bd99-41b1-b6fa-cf3122a17d93",
   "metadata": {},
   "source": [
    "### Multiple Linear Regression"
   ]
  },
  {
   "cell_type": "code",
   "execution_count": 45,
   "id": "a862826f-7f8d-451c-be9b-f5024d9853d8",
   "metadata": {},
   "outputs": [
    {
     "name": "stdout",
     "output_type": "stream",
     "text": [
      "                            OLS Regression Results                            \n",
      "==============================================================================\n",
      "Dep. Variable:                    EPI   R-squared:                       0.859\n",
      "Model:                            OLS   Adj. R-squared:                  0.859\n",
      "Method:                 Least Squares   F-statistic:                     895.4\n",
      "Date:                Sun, 11 Dec 2022   Prob (F-statistic):          5.09e-309\n",
      "Time:                        03:20:58   Log-Likelihood:                -2328.5\n",
      "No. Observations:                 738   AIC:                             4669.\n",
      "Df Residuals:                     732   BIC:                             4697.\n",
      "Df Model:                           5                                         \n",
      "Covariance Type:            nonrobust                                         \n",
      "==============================================================================\n",
      "                 coef    std err          t      P>|t|      [0.025      0.975]\n",
      "------------------------------------------------------------------------------\n",
      "const         16.8606      0.824     20.470      0.000      15.244      18.478\n",
      "idx            0.2858      0.137      2.082      0.038       0.016       0.555\n",
      "AIR            0.1320      0.011     11.569      0.000       0.110       0.154\n",
      "H2O            0.1968      0.011     18.136      0.000       0.176       0.218\n",
      "BDH            0.1626      0.009     17.305      0.000       0.144       0.181\n",
      "WRS            0.1545      0.009     18.049      0.000       0.138       0.171\n",
      "==============================================================================\n",
      "Omnibus:                        9.169   Durbin-Watson:                   1.941\n",
      "Prob(Omnibus):                  0.010   Jarque-Bera (JB):               10.622\n",
      "Skew:                          -0.179   Prob(JB):                      0.00494\n",
      "Kurtosis:                       3.466   Cond. No.                         459.\n",
      "==============================================================================\n",
      "\n",
      "Notes:\n",
      "[1] Standard Errors assume that the covariance matrix of the errors is correctly specified.\n"
     ]
    },
    {
     "name": "stderr",
     "output_type": "stream",
     "text": [
      "C:\\Users\\ozlem.gunes\\AppData\\Local\\Continuum\\miniconda3\\lib\\site-packages\\ipykernel_launcher.py:21: SettingWithCopyWarning: \n",
      "A value is trying to be set on a copy of a slice from a DataFrame.\n",
      "Try using .loc[row_indexer,col_indexer] = value instead\n",
      "\n",
      "See the caveats in the documentation: https://pandas.pydata.org/pandas-docs/stable/user_guide/indexing.html#returning-a-view-versus-a-copy\n",
      "C:\\Users\\ozlem.gunes\\AppData\\Local\\Continuum\\miniconda3\\lib\\site-packages\\ipykernel_launcher.py:22: SettingWithCopyWarning: \n",
      "A value is trying to be set on a copy of a slice from a DataFrame.\n",
      "Try using .loc[row_indexer,col_indexer] = value instead\n",
      "\n",
      "See the caveats in the documentation: https://pandas.pydata.org/pandas-docs/stable/user_guide/indexing.html#returning-a-view-versus-a-copy\n",
      "C:\\Users\\ozlem.gunes\\AppData\\Local\\Continuum\\miniconda3\\lib\\site-packages\\ipykernel_launcher.py:28: SettingWithCopyWarning: \n",
      "A value is trying to be set on a copy of a slice from a DataFrame.\n",
      "Try using .loc[row_indexer,col_indexer] = value instead\n",
      "\n",
      "See the caveats in the documentation: https://pandas.pydata.org/pandas-docs/stable/user_guide/indexing.html#returning-a-view-versus-a-copy\n",
      "C:\\Users\\ozlem.gunes\\AppData\\Local\\Continuum\\miniconda3\\lib\\site-packages\\ipykernel_launcher.py:29: SettingWithCopyWarning: \n",
      "A value is trying to be set on a copy of a slice from a DataFrame.\n",
      "Try using .loc[row_indexer,col_indexer] = value instead\n",
      "\n",
      "See the caveats in the documentation: https://pandas.pydata.org/pandas-docs/stable/user_guide/indexing.html#returning-a-view-versus-a-copy\n"
     ]
    },
    {
     "data": {
      "text/plain": [
       "<AxesSubplot:xlabel='idx', ylabel='fitted'>"
      ]
     },
     "execution_count": 45,
     "metadata": {},
     "output_type": "execute_result"
    },
    {
     "data": {
      "image/png": "[encoded data removed]",
      "text/plain": [
       "<Figure size 419.375x360 with 1 Axes>"
      ]
     },
     "metadata": {
      "needs_background": "light"
     },
     "output_type": "display_data"
    }
   ],
   "source": [
    "x_train = data_train[['idx','AIR', 'H2O', 'BDH', 'WRS']]\n",
    "y_train = data_train['EPI']\n",
    "\n",
    "x_test = data_test[['idx','AIR', 'H2O', 'BDH', 'WRS']]\n",
    "y_test = data_test['EPI']\n",
    "\n",
    "# with statsmodels\n",
    "x_train = sm.add_constant(x_train) # adding a constant\n",
    "model = sm.OLS(y_train, x_train).fit()\n",
    "predictions_train = model.predict(x_train) \n",
    "\n",
    "print_model = model.summary()\n",
    "print(print_model)\n",
    "\n",
    "p = model.params\n",
    "data_plot_train = data_train\n",
    "data_plot_train['fitted'] = data_plot_train['idx'] * p.idx + \\\n",
    "                            data_plot_train['AIR'] * p.AIR + \\\n",
    "                            data_plot_train['H2O'] * p.H2O + \\\n",
    "                            data_plot_train['BDH'] * p.BDH + \\\n",
    "                            data_plot_train['WRS'] * p.WRS + p.const\n",
    "data_plot_train['tag'] = 'train'\n",
    "data_plot_test = data_test\n",
    "data_plot_test['fitted'] = data_plot_test['idx'] * p.idx + \\\n",
    "                            data_plot_test['AIR'] * p.AIR + \\\n",
    "                            data_plot_test['H2O'] * p.H2O + \\\n",
    "                            data_plot_test['BDH'] * p.BDH + \\\n",
    "                            data_plot_test['WRS'] * p.WRS + p.const\n",
    "data_plot_test['tag'] = 'test'\n",
    "data_plot = pd.concat([data_plot_train,data_plot_test], axis=0)\n",
    "\n",
    "sns.lmplot(x='idx', y='EPI', data=data_plot, hue='tag', fit_reg=False)\n",
    "sns.regplot(x='idx', y='fitted', data=data_plot, color='red', scatter=False)"
   ]
  },
  {
   "cell_type": "code",
   "execution_count": 46,
   "id": "d1dc11e3-88d2-4871-822d-ab8d7214ee8a",
   "metadata": {},
   "outputs": [],
   "source": [
    "x_test = sm.add_constant(x_test, has_constant='add')\n",
    "predictions = model.predict(x_test) "
   ]
  },
  {
   "cell_type": "code",
   "execution_count": 47,
   "id": "490912f0-e42f-4aff-b4e0-327d83f1ad5e",
   "metadata": {},
   "outputs": [
    {
     "data": {
      "text/plain": [
       "77.71281286078752"
      ]
     },
     "execution_count": 47,
     "metadata": {},
     "output_type": "execute_result"
    }
   ],
   "source": [
    "mt.mean_squared_error(y_test, predictions)"
   ]
  },
  {
   "cell_type": "markdown",
   "id": "bd75a4c8-dc68-4ed2-a91c-3b29f9613b18",
   "metadata": {},
   "source": [
    "#### Sample Country"
   ]
  },
  {
   "cell_type": "code",
   "execution_count": 48,
   "id": "4fdfed6c-6a48-42b6-b976-de83f1066ac3",
   "metadata": {},
   "outputs": [
    {
     "name": "stderr",
     "output_type": "stream",
     "text": [
      "C:\\Users\\ozlem.gunes\\AppData\\Local\\Continuum\\miniconda3\\lib\\site-packages\\statsmodels\\stats\\stattools.py:75: ValueWarning: omni_normtest is not valid with less than 8 observations; 6 samples were given.\n",
      "  \"samples were given.\" % int(n), ValueWarning)\n",
      "C:\\Users\\ozlem.gunes\\AppData\\Local\\Continuum\\miniconda3\\lib\\site-packages\\statsmodels\\regression\\linear_model.py:1765: RuntimeWarning: divide by zero encountered in true_divide\n",
      "  return 1 - (np.divide(self.nobs - self.k_constant, self.df_resid)\n",
      "C:\\Users\\ozlem.gunes\\AppData\\Local\\Continuum\\miniconda3\\lib\\site-packages\\statsmodels\\regression\\linear_model.py:1766: RuntimeWarning: invalid value encountered in double_scalars\n",
      "  * (1 - self.rsquared))\n",
      "C:\\Users\\ozlem.gunes\\AppData\\Local\\Continuum\\miniconda3\\lib\\site-packages\\statsmodels\\regression\\linear_model.py:1687: RuntimeWarning: divide by zero encountered in double_scalars\n",
      "  return np.dot(wresid, wresid) / self.df_resid\n",
      "C:\\Users\\ozlem.gunes\\AppData\\Local\\Continuum\\miniconda3\\lib\\site-packages\\ipykernel_launcher.py:22: SettingWithCopyWarning: \n",
      "A value is trying to be set on a copy of a slice from a DataFrame.\n",
      "Try using .loc[row_indexer,col_indexer] = value instead\n",
      "\n",
      "See the caveats in the documentation: https://pandas.pydata.org/pandas-docs/stable/user_guide/indexing.html#returning-a-view-versus-a-copy\n",
      "C:\\Users\\ozlem.gunes\\AppData\\Local\\Continuum\\miniconda3\\lib\\site-packages\\ipykernel_launcher.py:23: SettingWithCopyWarning: \n",
      "A value is trying to be set on a copy of a slice from a DataFrame.\n",
      "Try using .loc[row_indexer,col_indexer] = value instead\n",
      "\n",
      "See the caveats in the documentation: https://pandas.pydata.org/pandas-docs/stable/user_guide/indexing.html#returning-a-view-versus-a-copy\n",
      "C:\\Users\\ozlem.gunes\\AppData\\Local\\Continuum\\miniconda3\\lib\\site-packages\\ipykernel_launcher.py:29: SettingWithCopyWarning: \n",
      "A value is trying to be set on a copy of a slice from a DataFrame.\n",
      "Try using .loc[row_indexer,col_indexer] = value instead\n",
      "\n",
      "See the caveats in the documentation: https://pandas.pydata.org/pandas-docs/stable/user_guide/indexing.html#returning-a-view-versus-a-copy\n",
      "C:\\Users\\ozlem.gunes\\AppData\\Local\\Continuum\\miniconda3\\lib\\site-packages\\ipykernel_launcher.py:30: SettingWithCopyWarning: \n",
      "A value is trying to be set on a copy of a slice from a DataFrame.\n",
      "Try using .loc[row_indexer,col_indexer] = value instead\n",
      "\n",
      "See the caveats in the documentation: https://pandas.pydata.org/pandas-docs/stable/user_guide/indexing.html#returning-a-view-versus-a-copy\n"
     ]
    },
    {
     "name": "stdout",
     "output_type": "stream",
     "text": [
      "                            OLS Regression Results                            \n",
      "==============================================================================\n",
      "Dep. Variable:                    EPI   R-squared:                       1.000\n",
      "Model:                            OLS   Adj. R-squared:                    nan\n",
      "Method:                 Least Squares   F-statistic:                       nan\n",
      "Date:                Sun, 11 Dec 2022   Prob (F-statistic):                nan\n",
      "Time:                        03:21:30   Log-Likelihood:                 146.03\n",
      "No. Observations:                   6   AIC:                            -280.1\n",
      "Df Residuals:                       0   BIC:                            -281.3\n",
      "Df Model:                           5                                         \n",
      "Covariance Type:            nonrobust                                         \n",
      "==============================================================================\n",
      "                 coef    std err          t      P>|t|      [0.025      0.975]\n",
      "------------------------------------------------------------------------------\n",
      "const      -1390.5510        inf         -0        nan         nan         nan\n",
      "idx            0.5853        inf          0        nan         nan         nan\n",
      "AIR           -1.3900        inf         -0        nan         nan         nan\n",
      "H2O           15.8391        inf          0        nan         nan         nan\n",
      "BDH            0.0554        inf          0        nan         nan         nan\n",
      "WRS            0.2105        inf          0        nan         nan         nan\n",
      "==============================================================================\n",
      "Omnibus:                          nan   Durbin-Watson:                   0.002\n",
      "Prob(Omnibus):                    nan   Jarque-Bera (JB):                0.205\n",
      "Skew:                           0.446   Prob(JB):                        0.903\n",
      "Kurtosis:                       2.838   Cond. No.                     2.91e+05\n",
      "==============================================================================\n",
      "\n",
      "Notes:\n",
      "[1] Standard Errors assume that the covariance matrix of the errors is correctly specified.\n",
      "[2] The condition number is large, 2.91e+05. This might indicate that there are\n",
      "strong multicollinearity or other numerical problems.\n"
     ]
    },
    {
     "data": {
      "text/plain": [
       "<AxesSubplot:xlabel='idx', ylabel='fitted'>"
      ]
     },
     "execution_count": 48,
     "metadata": {},
     "output_type": "execute_result"
    },
    {
     "data": {
      "image/png": "[encoded data removed]",
      "text/plain": [
       "<Figure size 419.375x360 with 1 Axes>"
      ]
     },
     "metadata": {
      "needs_background": "light"
     },
     "output_type": "display_data"
    }
   ],
   "source": [
    "# Train-predict and plot for sample country Norway\n",
    "x_train = data_train[data_train['country'] == country][['idx', 'AIR', 'H2O', 'BDH', 'WRS']]\n",
    "y_train = data_train[data_train['country'] == country]['EPI']\n",
    "\n",
    "x_test = data_test[data_test['country'] == country][['idx', 'AIR', 'H2O', 'BDH', 'WRS']]\n",
    "y_test = data_test[data_test['country'] == country]['EPI']\n",
    " \n",
    "# with statsmodels\n",
    "x_train = sm.add_constant(x_train) # adding a constant\n",
    "model = sm.OLS(y_train, x_train).fit()\n",
    "predictions_train = model.predict(x_train) \n",
    "\n",
    "print_model = model.summary()\n",
    "print(print_model)\n",
    "\n",
    "p = model.params\n",
    "data_plot_train = data_train[data_train['country'] == country]\n",
    "data_plot_train['fitted'] = data_plot_train['idx'] * p.idx + \\\n",
    "                            data_plot_train['AIR'] * p.AIR + \\\n",
    "                            data_plot_train['H2O'] * p.H2O + \\\n",
    "                            data_plot_train['BDH'] * p.BDH + \\\n",
    "                            data_plot_train['WRS'] * p.WRS + p.const\n",
    "data_plot_train['tag'] = 'train'\n",
    "data_plot_test = data_test[data_test['country'] == country]\n",
    "data_plot_test['fitted'] = data_plot_test['idx'] * p.idx + \\\n",
    "                            data_plot_test['AIR'] * p.AIR + \\\n",
    "                            data_plot_test['H2O'] * p.H2O + \\\n",
    "                            data_plot_test['BDH'] * p.BDH + \\\n",
    "                            data_plot_test['WRS'] * p.WRS + p.const\n",
    "data_plot_test['tag'] = 'test'\n",
    "data_plot = pd.concat([data_plot_train,data_plot_test], axis=0)\n",
    "\n",
    "sns.lmplot(x='idx', y='EPI', data=data_plot, hue='tag', fit_reg=False)\n",
    "sns.regplot(x='idx', y='fitted', data=data_plot, color='red', scatter=False)"
   ]
  },
  {
   "cell_type": "code",
   "execution_count": 49,
   "id": "b98a068b-1a53-4bd4-856e-3f7a8f54130f",
   "metadata": {},
   "outputs": [],
   "source": [
    "x_test = sm.add_constant(x_test, has_constant='add')\n",
    "predictions = model.predict(x_test) "
   ]
  },
  {
   "cell_type": "code",
   "execution_count": 50,
   "id": "128c4433-6f8b-429e-acbd-13235453e306",
   "metadata": {},
   "outputs": [
    {
     "data": {
      "text/plain": [
       "708.281056503761"
      ]
     },
     "execution_count": 50,
     "metadata": {},
     "output_type": "execute_result"
    }
   ],
   "source": [
    "mt.mean_squared_error(y_test, predictions)"
   ]
  },
  {
   "cell_type": "markdown",
   "id": "876adfba-9494-41e8-8164-61e7f64e3f51",
   "metadata": {},
   "source": [
    "### ARIMA"
   ]
  },
  {
   "cell_type": "markdown",
   "id": "18400b56-a0a6-4d64-953e-c7c1afdaea24",
   "metadata": {},
   "source": [
    "#### Data prep"
   ]
  },
  {
   "cell_type": "code",
   "execution_count": 51,
   "id": "869014aa-d46f-4e08-971b-03ff2981bc95",
   "metadata": {},
   "outputs": [],
   "source": [
    "d = {'year': [2010, 2012, 2014, 2016, 2018, 2020, 2022], \n",
    "     'date': ['2010-01-01','2012-01-01','2014-01-01','2016-01-01','2018-01-01','2020-01-01','2022-01-01']}\n",
    "data_lookup = pd.DataFrame(data=d)"
   ]
  },
  {
   "cell_type": "code",
   "execution_count": 52,
   "id": "6c245224-f245-4eb0-bade-34f1ce88ec4b",
   "metadata": {},
   "outputs": [],
   "source": [
    "data = data.merge(data_lookup, on='year')"
   ]
  },
  {
   "cell_type": "markdown",
   "id": "6c4fee18-8e48-42c4-929e-0e9c0c564390",
   "metadata": {},
   "source": [
    "#### Predict 2020"
   ]
  },
  {
   "cell_type": "markdown",
   "id": "74e7803f-8cc5-4ae6-9829-16aafa551868",
   "metadata": {},
   "source": [
    "#### All Countries Avg"
   ]
  },
  {
   "cell_type": "code",
   "execution_count": 53,
   "id": "f68f64cf-8420-464e-9e08-2247fee03fc2",
   "metadata": {},
   "outputs": [],
   "source": [
    "data_arima_all = data.groupby(['date', 'year'], as_index=False).mean()"
   ]
  },
  {
   "cell_type": "code",
   "execution_count": 54,
   "id": "19bfdfd2-4b77-46e1-88da-8683377a48bb",
   "metadata": {},
   "outputs": [
    {
     "data": {
      "text/html": [
       "<div>\n",
       "<style scoped>\n",
       "    .dataframe tbody tr th:only-of-type {\n",
       "        vertical-align: middle;\n",
       "    }\n",
       "\n",
       "    .dataframe tbody tr th {\n",
       "        vertical-align: top;\n",
       "    }\n",
       "\n",
       "    .dataframe thead th {\n",
       "        text-align: right;\n",
       "    }\n",
       "</style>\n",
       "<table border=\"1\" class=\"dataframe\">\n",
       "  <thead>\n",
       "    <tr style=\"text-align: right;\">\n",
       "      <th></th>\n",
       "      <th>date</th>\n",
       "      <th>year</th>\n",
       "      <th>EPI</th>\n",
       "      <th>AIR</th>\n",
       "      <th>H2O</th>\n",
       "      <th>BDH</th>\n",
       "      <th>WRS</th>\n",
       "      <th>idx</th>\n",
       "    </tr>\n",
       "  </thead>\n",
       "  <tbody>\n",
       "    <tr>\n",
       "      <th>0</th>\n",
       "      <td>2010-01-01</td>\n",
       "      <td>2010</td>\n",
       "      <td>60.251138</td>\n",
       "      <td>67.837967</td>\n",
       "      <td>77.512683</td>\n",
       "      <td>58.312114</td>\n",
       "      <td>68.656992</td>\n",
       "      <td>0.0</td>\n",
       "    </tr>\n",
       "    <tr>\n",
       "      <th>1</th>\n",
       "      <td>2012-01-01</td>\n",
       "      <td>2012</td>\n",
       "      <td>53.542439</td>\n",
       "      <td>71.842927</td>\n",
       "      <td>57.831789</td>\n",
       "      <td>60.059106</td>\n",
       "      <td>31.310000</td>\n",
       "      <td>1.0</td>\n",
       "    </tr>\n",
       "    <tr>\n",
       "      <th>2</th>\n",
       "      <td>2014-01-01</td>\n",
       "      <td>2014</td>\n",
       "      <td>55.251382</td>\n",
       "      <td>80.631463</td>\n",
       "      <td>57.126748</td>\n",
       "      <td>61.361057</td>\n",
       "      <td>32.226748</td>\n",
       "      <td>2.0</td>\n",
       "    </tr>\n",
       "    <tr>\n",
       "      <th>3</th>\n",
       "      <td>2016-01-01</td>\n",
       "      <td>2016</td>\n",
       "      <td>45.454146</td>\n",
       "      <td>43.607154</td>\n",
       "      <td>46.896911</td>\n",
       "      <td>53.589024</td>\n",
       "      <td>30.661789</td>\n",
       "      <td>3.0</td>\n",
       "    </tr>\n",
       "    <tr>\n",
       "      <th>4</th>\n",
       "      <td>2018-01-01</td>\n",
       "      <td>2018</td>\n",
       "      <td>47.590244</td>\n",
       "      <td>44.652033</td>\n",
       "      <td>51.738211</td>\n",
       "      <td>58.256098</td>\n",
       "      <td>30.661789</td>\n",
       "      <td>4.0</td>\n",
       "    </tr>\n",
       "    <tr>\n",
       "      <th>5</th>\n",
       "      <td>2020-01-01</td>\n",
       "      <td>2020</td>\n",
       "      <td>50.937398</td>\n",
       "      <td>49.315447</td>\n",
       "      <td>55.434146</td>\n",
       "      <td>62.035772</td>\n",
       "      <td>30.661789</td>\n",
       "      <td>5.0</td>\n",
       "    </tr>\n",
       "    <tr>\n",
       "      <th>6</th>\n",
       "      <td>2022-01-01</td>\n",
       "      <td>2022</td>\n",
       "      <td>44.358537</td>\n",
       "      <td>44.569106</td>\n",
       "      <td>55.507317</td>\n",
       "      <td>58.218699</td>\n",
       "      <td>32.001626</td>\n",
       "      <td>6.0</td>\n",
       "    </tr>\n",
       "  </tbody>\n",
       "</table>\n",
       "</div>"
      ],
      "text/plain": [
       "         date  year        EPI        AIR        H2O        BDH        WRS  \\\n",
       "0  2010-01-01  2010  60.251138  67.837967  77.512683  58.312114  68.656992   \n",
       "1  2012-01-01  2012  53.542439  71.842927  57.831789  60.059106  31.310000   \n",
       "2  2014-01-01  2014  55.251382  80.631463  57.126748  61.361057  32.226748   \n",
       "3  2016-01-01  2016  45.454146  43.607154  46.896911  53.589024  30.661789   \n",
       "4  2018-01-01  2018  47.590244  44.652033  51.738211  58.256098  30.661789   \n",
       "5  2020-01-01  2020  50.937398  49.315447  55.434146  62.035772  30.661789   \n",
       "6  2022-01-01  2022  44.358537  44.569106  55.507317  58.218699  32.001626   \n",
       "\n",
       "   idx  \n",
       "0  0.0  \n",
       "1  1.0  \n",
       "2  2.0  \n",
       "3  3.0  \n",
       "4  4.0  \n",
       "5  5.0  \n",
       "6  6.0  "
      ]
     },
     "execution_count": 54,
     "metadata": {},
     "output_type": "execute_result"
    }
   ],
   "source": [
    "data_arima_all"
   ]
  },
  {
   "cell_type": "code",
   "execution_count": 55,
   "id": "ed79cfc5-7eee-45ec-a4e9-2b0d00a606c5",
   "metadata": {},
   "outputs": [],
   "source": [
    "data_train_arima = data_arima_all[data_arima_all['year'] < 2020].sort_values('year')\n",
    "data_test_arima = data_arima_all[data_arima_all['year'].isin([2020])].sort_values('year')"
   ]
  },
  {
   "cell_type": "code",
   "execution_count": 56,
   "id": "6238336d-aa92-4942-9150-fa1bd06586e6",
   "metadata": {},
   "outputs": [
    {
     "data": {
      "text/html": [
       "<div>\n",
       "<style scoped>\n",
       "    .dataframe tbody tr th:only-of-type {\n",
       "        vertical-align: middle;\n",
       "    }\n",
       "\n",
       "    .dataframe tbody tr th {\n",
       "        vertical-align: top;\n",
       "    }\n",
       "\n",
       "    .dataframe thead th {\n",
       "        text-align: right;\n",
       "    }\n",
       "</style>\n",
       "<table border=\"1\" class=\"dataframe\">\n",
       "  <thead>\n",
       "    <tr style=\"text-align: right;\">\n",
       "      <th></th>\n",
       "      <th>date</th>\n",
       "      <th>year</th>\n",
       "      <th>EPI</th>\n",
       "      <th>AIR</th>\n",
       "      <th>H2O</th>\n",
       "      <th>BDH</th>\n",
       "      <th>WRS</th>\n",
       "      <th>idx</th>\n",
       "    </tr>\n",
       "  </thead>\n",
       "  <tbody>\n",
       "    <tr>\n",
       "      <th>0</th>\n",
       "      <td>2010-01-01</td>\n",
       "      <td>2010</td>\n",
       "      <td>60.251138</td>\n",
       "      <td>67.837967</td>\n",
       "      <td>77.512683</td>\n",
       "      <td>58.312114</td>\n",
       "      <td>68.656992</td>\n",
       "      <td>0.0</td>\n",
       "    </tr>\n",
       "    <tr>\n",
       "      <th>1</th>\n",
       "      <td>2012-01-01</td>\n",
       "      <td>2012</td>\n",
       "      <td>53.542439</td>\n",
       "      <td>71.842927</td>\n",
       "      <td>57.831789</td>\n",
       "      <td>60.059106</td>\n",
       "      <td>31.310000</td>\n",
       "      <td>1.0</td>\n",
       "    </tr>\n",
       "    <tr>\n",
       "      <th>2</th>\n",
       "      <td>2014-01-01</td>\n",
       "      <td>2014</td>\n",
       "      <td>55.251382</td>\n",
       "      <td>80.631463</td>\n",
       "      <td>57.126748</td>\n",
       "      <td>61.361057</td>\n",
       "      <td>32.226748</td>\n",
       "      <td>2.0</td>\n",
       "    </tr>\n",
       "    <tr>\n",
       "      <th>3</th>\n",
       "      <td>2016-01-01</td>\n",
       "      <td>2016</td>\n",
       "      <td>45.454146</td>\n",
       "      <td>43.607154</td>\n",
       "      <td>46.896911</td>\n",
       "      <td>53.589024</td>\n",
       "      <td>30.661789</td>\n",
       "      <td>3.0</td>\n",
       "    </tr>\n",
       "    <tr>\n",
       "      <th>4</th>\n",
       "      <td>2018-01-01</td>\n",
       "      <td>2018</td>\n",
       "      <td>47.590244</td>\n",
       "      <td>44.652033</td>\n",
       "      <td>51.738211</td>\n",
       "      <td>58.256098</td>\n",
       "      <td>30.661789</td>\n",
       "      <td>4.0</td>\n",
       "    </tr>\n",
       "  </tbody>\n",
       "</table>\n",
       "</div>"
      ],
      "text/plain": [
       "         date  year        EPI        AIR        H2O        BDH        WRS  \\\n",
       "0  2010-01-01  2010  60.251138  67.837967  77.512683  58.312114  68.656992   \n",
       "1  2012-01-01  2012  53.542439  71.842927  57.831789  60.059106  31.310000   \n",
       "2  2014-01-01  2014  55.251382  80.631463  57.126748  61.361057  32.226748   \n",
       "3  2016-01-01  2016  45.454146  43.607154  46.896911  53.589024  30.661789   \n",
       "4  2018-01-01  2018  47.590244  44.652033  51.738211  58.256098  30.661789   \n",
       "\n",
       "   idx  \n",
       "0  0.0  \n",
       "1  1.0  \n",
       "2  2.0  \n",
       "3  3.0  \n",
       "4  4.0  "
      ]
     },
     "execution_count": 56,
     "metadata": {},
     "output_type": "execute_result"
    }
   ],
   "source": [
    "data_train_arima"
   ]
  },
  {
   "cell_type": "code",
   "execution_count": 57,
   "id": "ad901663-892c-4faf-a5a2-5157c7fdfbba",
   "metadata": {},
   "outputs": [
    {
     "name": "stdout",
     "output_type": "stream",
     "text": [
      " ARIMA(0,1,0)(0,0,0)[0] intercept   : AIC=28.550, Time=0.03 sec\n",
      " ARIMA(0,1,1)(0,0,0)[0] intercept   : AIC=inf, Time=0.08 sec\n",
      " ARIMA(1,1,0)(0,0,0)[0] intercept   : AIC=22.223, Time=0.02 sec\n",
      " ARIMA(1,1,1)(0,0,0)[0] intercept   : AIC=inf, Time=0.12 sec\n",
      "\n",
      "Best model:  ARIMA(1,1,0)(0,0,0)[0] intercept\n",
      "Total fit time: 0.265 seconds\n",
      "22.22342320426996\n"
     ]
    }
   ],
   "source": [
    "data_train_arima = data_train_arima[['date', 'EPI']]\n",
    "data_test_arima = data_test_arima[['date', 'EPI']]\n",
    "\n",
    "data_train_arima.set_index('date', inplace=True)\n",
    "data_test_arima.set_index('date', inplace=True)\n",
    "\n",
    "data_train_arima.index = pd.to_datetime(data_train_arima.index)\n",
    "data_test_arima.index = pd.to_datetime(data_test_arima.index)\n",
    "\n",
    "stepwise_model = auto_arima(data_train_arima, \n",
    "                            start_p=1, start_q=1,\n",
    "                            max_p=5, max_q=5,\n",
    "                            m=1,\n",
    "                            seasonal=False,\n",
    "                            d=1, trace=True,\n",
    "                            error_action='ignore',  \n",
    "                            suppress_warnings=True, \n",
    "                            stepwise=False)\n",
    "print(stepwise_model.aic())\n",
    "\n",
    "stepwise_model.fit(data_train_arima)\n",
    "\n",
    "future_forecast = stepwise_model.predict(n_periods=1)\n",
    "data_test_arima['Prediction'] = future_forecast\n",
    "data_arima = pd.concat([data_train_arima, data_test_arima])\n",
    "data_arima['idx'] = data_arima.index #.astype(str)"
   ]
  },
  {
   "cell_type": "code",
   "execution_count": 58,
   "id": "c87afc68-e361-4d7a-a1cd-fa2fc8bd9ec2",
   "metadata": {},
   "outputs": [
    {
     "data": {
      "text/plain": [
       "2020-01-01    38.791233\n",
       "Freq: 2AS-JAN, dtype: float64"
      ]
     },
     "execution_count": 58,
     "metadata": {},
     "output_type": "execute_result"
    }
   ],
   "source": [
    "future_forecast"
   ]
  },
  {
   "cell_type": "code",
   "execution_count": 59,
   "id": "6ed1e821-7efd-4e47-b2bb-f04f59409dfc",
   "metadata": {},
   "outputs": [
    {
     "data": {
      "text/html": [
       "<div>\n",
       "<style scoped>\n",
       "    .dataframe tbody tr th:only-of-type {\n",
       "        vertical-align: middle;\n",
       "    }\n",
       "\n",
       "    .dataframe tbody tr th {\n",
       "        vertical-align: top;\n",
       "    }\n",
       "\n",
       "    .dataframe thead th {\n",
       "        text-align: right;\n",
       "    }\n",
       "</style>\n",
       "<table border=\"1\" class=\"dataframe\">\n",
       "  <thead>\n",
       "    <tr style=\"text-align: right;\">\n",
       "      <th></th>\n",
       "      <th>EPI</th>\n",
       "      <th>Prediction</th>\n",
       "    </tr>\n",
       "    <tr>\n",
       "      <th>date</th>\n",
       "      <th></th>\n",
       "      <th></th>\n",
       "    </tr>\n",
       "  </thead>\n",
       "  <tbody>\n",
       "    <tr>\n",
       "      <th>2010-01-01</th>\n",
       "      <td>60.251138</td>\n",
       "      <td>NaN</td>\n",
       "    </tr>\n",
       "    <tr>\n",
       "      <th>2012-01-01</th>\n",
       "      <td>53.542439</td>\n",
       "      <td>NaN</td>\n",
       "    </tr>\n",
       "    <tr>\n",
       "      <th>2014-01-01</th>\n",
       "      <td>55.251382</td>\n",
       "      <td>NaN</td>\n",
       "    </tr>\n",
       "    <tr>\n",
       "      <th>2016-01-01</th>\n",
       "      <td>45.454146</td>\n",
       "      <td>NaN</td>\n",
       "    </tr>\n",
       "    <tr>\n",
       "      <th>2018-01-01</th>\n",
       "      <td>47.590244</td>\n",
       "      <td>NaN</td>\n",
       "    </tr>\n",
       "    <tr>\n",
       "      <th>2020-01-01</th>\n",
       "      <td>50.937398</td>\n",
       "      <td>38.791233</td>\n",
       "    </tr>\n",
       "  </tbody>\n",
       "</table>\n",
       "</div>"
      ],
      "text/plain": [
       "                  EPI  Prediction\n",
       "date                             \n",
       "2010-01-01  60.251138         NaN\n",
       "2012-01-01  53.542439         NaN\n",
       "2014-01-01  55.251382         NaN\n",
       "2016-01-01  45.454146         NaN\n",
       "2018-01-01  47.590244         NaN\n",
       "2020-01-01  50.937398   38.791233"
      ]
     },
     "execution_count": 59,
     "metadata": {},
     "output_type": "execute_result"
    }
   ],
   "source": [
    "data_arima[['EPI','Prediction']]"
   ]
  },
  {
   "cell_type": "code",
   "execution_count": 60,
   "id": "5e75575b-5c04-4ac2-9109-63f78e5182d6",
   "metadata": {
    "tags": []
   },
   "outputs": [
    {
     "data": {
      "image/png": "[encoded data removed]",
      "text/plain": [
       "<Figure size 432x288 with 1 Axes>"
      ]
     },
     "metadata": {
      "needs_background": "light"
     },
     "output_type": "display_data"
    }
   ],
   "source": [
    "plt.plot(data_arima.idx.dt.year, data_arima.EPI, 'o-', label = \"Actual\")\n",
    "plt.scatter(data_arima.idx.dt.year, data_arima.Prediction, label = \"Prediction\", color='red')\n",
    "plt.legend()\n",
    "plt.ylim([25, 70])\n",
    "plt.show()"
   ]
  },
  {
   "cell_type": "code",
   "execution_count": 61,
   "id": "95302433-3ff6-44c9-ac0a-27d5aaf73217",
   "metadata": {},
   "outputs": [
    {
     "data": {
      "text/plain": [
       "147.52932490439358"
      ]
     },
     "execution_count": 61,
     "metadata": {},
     "output_type": "execute_result"
    }
   ],
   "source": [
    "mt.mean_squared_error(data_test_arima.EPI, data_test_arima.Prediction)"
   ]
  },
  {
   "cell_type": "markdown",
   "id": "c553590c-36ec-4701-b262-0d648010061f",
   "metadata": {},
   "source": [
    "#### Sample Country"
   ]
  },
  {
   "cell_type": "code",
   "execution_count": 62,
   "id": "b82dfd3b-b16e-467d-9759-e7d43b40f9ac",
   "metadata": {},
   "outputs": [
    {
     "name": "stderr",
     "output_type": "stream",
     "text": [
      "C:\\Users\\ozlem.gunes\\AppData\\Local\\Continuum\\miniconda3\\lib\\site-packages\\ipykernel_launcher.py:1: UserWarning: Boolean Series key will be reindexed to match DataFrame index.\n",
      "  \"\"\"Entry point for launching an IPython kernel.\n",
      "C:\\Users\\ozlem.gunes\\AppData\\Local\\Continuum\\miniconda3\\lib\\site-packages\\ipykernel_launcher.py:2: UserWarning: Boolean Series key will be reindexed to match DataFrame index.\n",
      "  \n"
     ]
    }
   ],
   "source": [
    "data_train_arima = data[data['year'] < 2020][data['country'] == country].sort_values('year')\n",
    "data_test_arima = data[data['year'].isin([2020])][data['country'] == country].sort_values('year')"
   ]
  },
  {
   "cell_type": "code",
   "execution_count": 63,
   "id": "3b315a8a-d073-4a55-9411-82b406953fd5",
   "metadata": {},
   "outputs": [],
   "source": [
    "data_train_arima = data_train_arima[['date', 'EPI']]\n",
    "data_test_arima = data_test_arima[['date', 'EPI']]\n",
    "\n",
    "data_train_arima.set_index('date', inplace=True)\n",
    "data_test_arima.set_index('date', inplace=True)\n",
    "\n",
    "data_train_arima.index = pd.to_datetime(data_train_arima.index)\n",
    "data_test_arima.index = pd.to_datetime(data_test_arima.index)"
   ]
  },
  {
   "cell_type": "code",
   "execution_count": 64,
   "id": "1bc96d30-5358-43a9-9e7c-f4ad4d977196",
   "metadata": {},
   "outputs": [
    {
     "data": {
      "text/html": [
       "<div>\n",
       "<style scoped>\n",
       "    .dataframe tbody tr th:only-of-type {\n",
       "        vertical-align: middle;\n",
       "    }\n",
       "\n",
       "    .dataframe tbody tr th {\n",
       "        vertical-align: top;\n",
       "    }\n",
       "\n",
       "    .dataframe thead th {\n",
       "        text-align: right;\n",
       "    }\n",
       "</style>\n",
       "<table border=\"1\" class=\"dataframe\">\n",
       "  <thead>\n",
       "    <tr style=\"text-align: right;\">\n",
       "      <th></th>\n",
       "      <th>EPI</th>\n",
       "    </tr>\n",
       "    <tr>\n",
       "      <th>date</th>\n",
       "      <th></th>\n",
       "    </tr>\n",
       "  </thead>\n",
       "  <tbody>\n",
       "    <tr>\n",
       "      <th>2010-01-01</th>\n",
       "      <td>81.13</td>\n",
       "    </tr>\n",
       "    <tr>\n",
       "      <th>2012-01-01</th>\n",
       "      <td>69.92</td>\n",
       "    </tr>\n",
       "    <tr>\n",
       "      <th>2014-01-01</th>\n",
       "      <td>78.04</td>\n",
       "    </tr>\n",
       "    <tr>\n",
       "      <th>2016-01-01</th>\n",
       "      <td>68.75</td>\n",
       "    </tr>\n",
       "    <tr>\n",
       "      <th>2018-01-01</th>\n",
       "      <td>70.10</td>\n",
       "    </tr>\n",
       "  </tbody>\n",
       "</table>\n",
       "</div>"
      ],
      "text/plain": [
       "              EPI\n",
       "date             \n",
       "2010-01-01  81.13\n",
       "2012-01-01  69.92\n",
       "2014-01-01  78.04\n",
       "2016-01-01  68.75\n",
       "2018-01-01  70.10"
      ]
     },
     "execution_count": 64,
     "metadata": {},
     "output_type": "execute_result"
    }
   ],
   "source": [
    "data_train_arima"
   ]
  },
  {
   "cell_type": "code",
   "execution_count": 65,
   "id": "70994b77-b876-417a-9cd4-230699c63e35",
   "metadata": {},
   "outputs": [
    {
     "data": {
      "text/html": [
       "<div>\n",
       "<style scoped>\n",
       "    .dataframe tbody tr th:only-of-type {\n",
       "        vertical-align: middle;\n",
       "    }\n",
       "\n",
       "    .dataframe tbody tr th {\n",
       "        vertical-align: top;\n",
       "    }\n",
       "\n",
       "    .dataframe thead th {\n",
       "        text-align: right;\n",
       "    }\n",
       "</style>\n",
       "<table border=\"1\" class=\"dataframe\">\n",
       "  <thead>\n",
       "    <tr style=\"text-align: right;\">\n",
       "      <th></th>\n",
       "      <th>EPI</th>\n",
       "    </tr>\n",
       "    <tr>\n",
       "      <th>date</th>\n",
       "      <th></th>\n",
       "    </tr>\n",
       "  </thead>\n",
       "  <tbody>\n",
       "    <tr>\n",
       "      <th>2020-01-01</th>\n",
       "      <td>77.7</td>\n",
       "    </tr>\n",
       "  </tbody>\n",
       "</table>\n",
       "</div>"
      ],
      "text/plain": [
       "             EPI\n",
       "date            \n",
       "2020-01-01  77.7"
      ]
     },
     "execution_count": 65,
     "metadata": {},
     "output_type": "execute_result"
    }
   ],
   "source": [
    "data_test_arima"
   ]
  },
  {
   "cell_type": "code",
   "execution_count": 66,
   "id": "369874b0-3b09-41bd-b85a-60e5abbb7fe1",
   "metadata": {},
   "outputs": [
    {
     "name": "stdout",
     "output_type": "stream",
     "text": [
      " ARIMA(0,1,0)(0,0,0)[0] intercept   : AIC=31.881, Time=0.01 sec\n",
      " ARIMA(0,1,1)(0,0,0)[0] intercept   : AIC=inf, Time=0.07 sec\n",
      " ARIMA(1,1,0)(0,0,0)[0] intercept   : AIC=27.418, Time=0.02 sec\n",
      " ARIMA(1,1,1)(0,0,0)[0] intercept   : AIC=inf, Time=0.09 sec\n",
      "\n",
      "Best model:  ARIMA(1,1,0)(0,0,0)[0] intercept\n",
      "Total fit time: 0.197 seconds\n",
      "27.417919922228585\n"
     ]
    }
   ],
   "source": [
    "stepwise_model = auto_arima(data_train_arima, \n",
    "                            start_p=1, start_q=1,\n",
    "                            max_p=5, max_q=5,\n",
    "                            m=1,\n",
    "                            seasonal=False,\n",
    "                            d=1, trace=True,\n",
    "                            error_action='ignore',  \n",
    "                            suppress_warnings=True, \n",
    "                            stepwise=False)\n",
    "print(stepwise_model.aic())"
   ]
  },
  {
   "cell_type": "code",
   "execution_count": 67,
   "id": "e7afa377-8a02-4c76-89a1-0f4d91641008",
   "metadata": {},
   "outputs": [
    {
     "data": {
      "text/plain": [
       "ARIMA(maxiter=50, method='lbfgs', order=(1, 1, 0), out_of_sample_size=0,\n",
       "      scoring='mse', scoring_args={}, seasonal_order=(0, 0, 0, 0),\n",
       "      start_params=None, suppress_warnings=True, trend=None,\n",
       "      with_intercept=True)"
      ]
     },
     "execution_count": 67,
     "metadata": {},
     "output_type": "execute_result"
    }
   ],
   "source": [
    "stepwise_model.fit(data_train_arima)"
   ]
  },
  {
   "cell_type": "code",
   "execution_count": 68,
   "id": "054212c4-30cd-478b-a9a2-e61aab2ed1c3",
   "metadata": {},
   "outputs": [],
   "source": [
    "future_forecast = stepwise_model.predict(n_periods=1)\n",
    "data_test_arima['Prediction'] = future_forecast\n",
    "data_arima = pd.concat([data_train_arima, data_test_arima])\n",
    "data_arima['idx'] = data_arima.index #.astype(str)"
   ]
  },
  {
   "cell_type": "code",
   "execution_count": 69,
   "id": "c01a9881-3946-4d25-a1a9-529e4bbe7bc0",
   "metadata": {},
   "outputs": [
    {
     "data": {
      "text/html": [
       "<div>\n",
       "<style scoped>\n",
       "    .dataframe tbody tr th:only-of-type {\n",
       "        vertical-align: middle;\n",
       "    }\n",
       "\n",
       "    .dataframe tbody tr th {\n",
       "        vertical-align: top;\n",
       "    }\n",
       "\n",
       "    .dataframe thead th {\n",
       "        text-align: right;\n",
       "    }\n",
       "</style>\n",
       "<table border=\"1\" class=\"dataframe\">\n",
       "  <thead>\n",
       "    <tr style=\"text-align: right;\">\n",
       "      <th></th>\n",
       "      <th>EPI</th>\n",
       "      <th>Prediction</th>\n",
       "    </tr>\n",
       "    <tr>\n",
       "      <th>date</th>\n",
       "      <th></th>\n",
       "      <th></th>\n",
       "    </tr>\n",
       "  </thead>\n",
       "  <tbody>\n",
       "    <tr>\n",
       "      <th>2010-01-01</th>\n",
       "      <td>81.13</td>\n",
       "      <td>NaN</td>\n",
       "    </tr>\n",
       "    <tr>\n",
       "      <th>2012-01-01</th>\n",
       "      <td>69.92</td>\n",
       "      <td>NaN</td>\n",
       "    </tr>\n",
       "    <tr>\n",
       "      <th>2014-01-01</th>\n",
       "      <td>78.04</td>\n",
       "      <td>NaN</td>\n",
       "    </tr>\n",
       "    <tr>\n",
       "      <th>2016-01-01</th>\n",
       "      <td>68.75</td>\n",
       "      <td>NaN</td>\n",
       "    </tr>\n",
       "    <tr>\n",
       "      <th>2018-01-01</th>\n",
       "      <td>70.10</td>\n",
       "      <td>NaN</td>\n",
       "    </tr>\n",
       "    <tr>\n",
       "      <th>2020-01-01</th>\n",
       "      <td>77.70</td>\n",
       "      <td>64.872379</td>\n",
       "    </tr>\n",
       "  </tbody>\n",
       "</table>\n",
       "</div>"
      ],
      "text/plain": [
       "              EPI  Prediction\n",
       "date                         \n",
       "2010-01-01  81.13         NaN\n",
       "2012-01-01  69.92         NaN\n",
       "2014-01-01  78.04         NaN\n",
       "2016-01-01  68.75         NaN\n",
       "2018-01-01  70.10         NaN\n",
       "2020-01-01  77.70   64.872379"
      ]
     },
     "execution_count": 69,
     "metadata": {},
     "output_type": "execute_result"
    }
   ],
   "source": [
    "data_arima[['EPI','Prediction']]"
   ]
  },
  {
   "cell_type": "code",
   "execution_count": 70,
   "id": "a4b9825b-94b6-422c-9e2a-9d3b496a4e62",
   "metadata": {},
   "outputs": [
    {
     "data": {
      "image/png": "[encoded data removed]",
      "text/plain": [
       "<Figure size 432x288 with 1 Axes>"
      ]
     },
     "metadata": {
      "needs_background": "light"
     },
     "output_type": "display_data"
    }
   ],
   "source": [
    "plt.plot(data_arima.idx.dt.year, data_arima.EPI, 'o-', label = \"Actual\")\n",
    "plt.scatter(data_arima.idx.dt.year, data_arima.Prediction, label = \"Prediction\", color='red')\n",
    "plt.legend()\n",
    "plt.show()"
   ]
  },
  {
   "cell_type": "markdown",
   "id": "6911ddcd-ac8a-47b9-ad8f-0900b518cb30",
   "metadata": {},
   "source": [
    "#### Predict 2022"
   ]
  },
  {
   "cell_type": "markdown",
   "id": "b093f83c-1ee5-4002-910b-733bf1b02b18",
   "metadata": {},
   "source": [
    "#### All Countries"
   ]
  },
  {
   "cell_type": "code",
   "execution_count": 71,
   "id": "863f1f59-36fc-46ec-9e38-a3f8f01bffbb",
   "metadata": {},
   "outputs": [],
   "source": [
    "data_train_arima = data_arima_all[data_arima_all['year'] < 2022].sort_values('year')\n",
    "data_test_arima = data_arima_all[data_arima_all['year'].isin([2022])].sort_values('year')"
   ]
  },
  {
   "cell_type": "code",
   "execution_count": 72,
   "id": "7ce4e048-6e6c-4be4-b2c5-d17d847ae2e8",
   "metadata": {},
   "outputs": [
    {
     "name": "stdout",
     "output_type": "stream",
     "text": [
      " ARIMA(0,1,0)(0,0,0)[0] intercept   : AIC=34.933, Time=0.01 sec\n",
      " ARIMA(0,1,1)(0,0,0)[0] intercept   : AIC=34.852, Time=0.10 sec\n",
      " ARIMA(0,1,2)(0,0,0)[0] intercept   : AIC=inf, Time=0.10 sec\n",
      " ARIMA(1,1,0)(0,0,0)[0] intercept   : AIC=35.868, Time=0.02 sec\n",
      " ARIMA(1,1,1)(0,0,0)[0] intercept   : AIC=2438603.608, Time=0.05 sec\n",
      " ARIMA(1,1,2)(0,0,0)[0] intercept   : AIC=inf, Time=0.11 sec\n",
      " ARIMA(2,1,0)(0,0,0)[0] intercept   : AIC=39.553, Time=0.14 sec\n",
      " ARIMA(2,1,1)(0,0,0)[0] intercept   : AIC=38.514, Time=0.15 sec\n",
      " ARIMA(2,1,2)(0,0,0)[0] intercept   : AIC=inf, Time=0.23 sec\n",
      "\n",
      "Best model:  ARIMA(0,1,1)(0,0,0)[0] intercept\n",
      "Total fit time: 0.921 seconds\n",
      "34.8522281264441\n"
     ]
    }
   ],
   "source": [
    "data_train_arima = data_train_arima[['date', 'EPI']]\n",
    "data_test_arima = data_test_arima[['date', 'EPI']]\n",
    "\n",
    "data_train_arima.set_index('date', inplace=True)\n",
    "data_test_arima.set_index('date', inplace=True)\n",
    "\n",
    "data_train_arima.index = pd.to_datetime(data_train_arima.index)\n",
    "data_test_arima.index = pd.to_datetime(data_test_arima.index)\n",
    "\n",
    "stepwise_model = auto_arima(data_train_arima, \n",
    "                            start_p=1, start_q=1,\n",
    "                            max_p=5, max_q=5,\n",
    "                            m=1,\n",
    "                            seasonal=False,\n",
    "                            d=1, trace=True,\n",
    "                            error_action='ignore',  \n",
    "                            suppress_warnings=True, \n",
    "                            stepwise=False)\n",
    "print(stepwise_model.aic())\n",
    "\n",
    "stepwise_model.fit(data_train_arima)\n",
    "\n",
    "future_forecast = stepwise_model.predict(n_periods=1)\n",
    "data_test_arima['Prediction'] = future_forecast\n",
    "data_arima = pd.concat([data_train_arima, data_test_arima])\n",
    "data_arima['idx'] = data_arima.index #.astype(str)"
   ]
  },
  {
   "cell_type": "code",
   "execution_count": 73,
   "id": "bf1fb1e9-7e74-4959-a33d-15159c2272ea",
   "metadata": {},
   "outputs": [
    {
     "data": {
      "text/html": [
       "<div>\n",
       "<style scoped>\n",
       "    .dataframe tbody tr th:only-of-type {\n",
       "        vertical-align: middle;\n",
       "    }\n",
       "\n",
       "    .dataframe tbody tr th {\n",
       "        vertical-align: top;\n",
       "    }\n",
       "\n",
       "    .dataframe thead th {\n",
       "        text-align: right;\n",
       "    }\n",
       "</style>\n",
       "<table border=\"1\" class=\"dataframe\">\n",
       "  <thead>\n",
       "    <tr style=\"text-align: right;\">\n",
       "      <th></th>\n",
       "      <th>EPI</th>\n",
       "      <th>Prediction</th>\n",
       "    </tr>\n",
       "    <tr>\n",
       "      <th>date</th>\n",
       "      <th></th>\n",
       "      <th></th>\n",
       "    </tr>\n",
       "  </thead>\n",
       "  <tbody>\n",
       "    <tr>\n",
       "      <th>2010-01-01</th>\n",
       "      <td>60.251138</td>\n",
       "      <td>NaN</td>\n",
       "    </tr>\n",
       "    <tr>\n",
       "      <th>2012-01-01</th>\n",
       "      <td>53.542439</td>\n",
       "      <td>NaN</td>\n",
       "    </tr>\n",
       "    <tr>\n",
       "      <th>2014-01-01</th>\n",
       "      <td>55.251382</td>\n",
       "      <td>NaN</td>\n",
       "    </tr>\n",
       "    <tr>\n",
       "      <th>2016-01-01</th>\n",
       "      <td>45.454146</td>\n",
       "      <td>NaN</td>\n",
       "    </tr>\n",
       "    <tr>\n",
       "      <th>2018-01-01</th>\n",
       "      <td>47.590244</td>\n",
       "      <td>NaN</td>\n",
       "    </tr>\n",
       "    <tr>\n",
       "      <th>2020-01-01</th>\n",
       "      <td>50.937398</td>\n",
       "      <td>NaN</td>\n",
       "    </tr>\n",
       "    <tr>\n",
       "      <th>2022-01-01</th>\n",
       "      <td>44.358537</td>\n",
       "      <td>44.756014</td>\n",
       "    </tr>\n",
       "  </tbody>\n",
       "</table>\n",
       "</div>"
      ],
      "text/plain": [
       "                  EPI  Prediction\n",
       "date                             \n",
       "2010-01-01  60.251138         NaN\n",
       "2012-01-01  53.542439         NaN\n",
       "2014-01-01  55.251382         NaN\n",
       "2016-01-01  45.454146         NaN\n",
       "2018-01-01  47.590244         NaN\n",
       "2020-01-01  50.937398         NaN\n",
       "2022-01-01  44.358537   44.756014"
      ]
     },
     "execution_count": 73,
     "metadata": {},
     "output_type": "execute_result"
    }
   ],
   "source": [
    "data_arima[['EPI','Prediction']]"
   ]
  },
  {
   "cell_type": "code",
   "execution_count": 74,
   "id": "a24e02bc-304f-4b30-a898-dce2829d5af3",
   "metadata": {},
   "outputs": [
    {
     "data": {
      "image/png": "[encoded data removed]",
      "text/plain": [
       "<Figure size 432x288 with 1 Axes>"
      ]
     },
     "metadata": {
      "needs_background": "light"
     },
     "output_type": "display_data"
    }
   ],
   "source": [
    "plt.plot(data_arima.idx, data_arima.EPI, 'o-', label = \"Actual\")\n",
    "plt.scatter(data_arima.idx, data_arima.Prediction, label = \"Prediction\", color='red')\n",
    "plt.legend()\n",
    "plt.ylim([25, 70])\n",
    "plt.show()"
   ]
  },
  {
   "cell_type": "code",
   "execution_count": 75,
   "id": "1f439937-3df9-44d1-bd2a-c73cbc28ba52",
   "metadata": {},
   "outputs": [
    {
     "data": {
      "text/plain": [
       "0.15798856585889806"
      ]
     },
     "execution_count": 75,
     "metadata": {},
     "output_type": "execute_result"
    }
   ],
   "source": [
    "mt.mean_squared_error(data_test_arima.EPI, data_test_arima.Prediction)"
   ]
  },
  {
   "cell_type": "markdown",
   "id": "5f0412e0-2abe-49ff-b7ab-4b1d8a83b432",
   "metadata": {},
   "source": [
    "#### Sample Country"
   ]
  },
  {
   "cell_type": "code",
   "execution_count": 76,
   "id": "1b4b4cbd-2a3c-4751-968a-28ce277f5e16",
   "metadata": {},
   "outputs": [
    {
     "name": "stderr",
     "output_type": "stream",
     "text": [
      "C:\\Users\\ozlem.gunes\\AppData\\Local\\Continuum\\miniconda3\\lib\\site-packages\\ipykernel_launcher.py:1: UserWarning: Boolean Series key will be reindexed to match DataFrame index.\n",
      "  \"\"\"Entry point for launching an IPython kernel.\n",
      "C:\\Users\\ozlem.gunes\\AppData\\Local\\Continuum\\miniconda3\\lib\\site-packages\\ipykernel_launcher.py:2: UserWarning: Boolean Series key will be reindexed to match DataFrame index.\n",
      "  \n"
     ]
    }
   ],
   "source": [
    "data_train_arima = data[data['year'] < 2022][data['country'] == country].sort_values('year')\n",
    "data_test_arima = data[data['year'].isin([2022])][data['country'] == country].sort_values('year')"
   ]
  },
  {
   "cell_type": "code",
   "execution_count": 77,
   "id": "8c36236b-d00d-4bd8-af03-119f59086d16",
   "metadata": {},
   "outputs": [],
   "source": [
    "data_train_arima = data_train_arima[['date', 'EPI']]\n",
    "data_test_arima = data_test_arima[['date', 'EPI']]\n",
    "\n",
    "data_train_arima.set_index('date', inplace=True)\n",
    "data_test_arima.set_index('date', inplace=True)\n",
    "\n",
    "data_train_arima.index = pd.to_datetime(data_train_arima.index)\n",
    "data_test_arima.index = pd.to_datetime(data_test_arima.index)"
   ]
  },
  {
   "cell_type": "code",
   "execution_count": 78,
   "id": "e4a80bad-0a8d-49cb-90d3-a78b8e2c7147",
   "metadata": {},
   "outputs": [
    {
     "data": {
      "text/html": [
       "<div>\n",
       "<style scoped>\n",
       "    .dataframe tbody tr th:only-of-type {\n",
       "        vertical-align: middle;\n",
       "    }\n",
       "\n",
       "    .dataframe tbody tr th {\n",
       "        vertical-align: top;\n",
       "    }\n",
       "\n",
       "    .dataframe thead th {\n",
       "        text-align: right;\n",
       "    }\n",
       "</style>\n",
       "<table border=\"1\" class=\"dataframe\">\n",
       "  <thead>\n",
       "    <tr style=\"text-align: right;\">\n",
       "      <th></th>\n",
       "      <th>EPI</th>\n",
       "    </tr>\n",
       "    <tr>\n",
       "      <th>date</th>\n",
       "      <th></th>\n",
       "    </tr>\n",
       "  </thead>\n",
       "  <tbody>\n",
       "    <tr>\n",
       "      <th>2010-01-01</th>\n",
       "      <td>81.13</td>\n",
       "    </tr>\n",
       "    <tr>\n",
       "      <th>2012-01-01</th>\n",
       "      <td>69.92</td>\n",
       "    </tr>\n",
       "    <tr>\n",
       "      <th>2014-01-01</th>\n",
       "      <td>78.04</td>\n",
       "    </tr>\n",
       "    <tr>\n",
       "      <th>2016-01-01</th>\n",
       "      <td>68.75</td>\n",
       "    </tr>\n",
       "    <tr>\n",
       "      <th>2018-01-01</th>\n",
       "      <td>70.10</td>\n",
       "    </tr>\n",
       "    <tr>\n",
       "      <th>2020-01-01</th>\n",
       "      <td>77.70</td>\n",
       "    </tr>\n",
       "  </tbody>\n",
       "</table>\n",
       "</div>"
      ],
      "text/plain": [
       "              EPI\n",
       "date             \n",
       "2010-01-01  81.13\n",
       "2012-01-01  69.92\n",
       "2014-01-01  78.04\n",
       "2016-01-01  68.75\n",
       "2018-01-01  70.10\n",
       "2020-01-01  77.70"
      ]
     },
     "execution_count": 78,
     "metadata": {},
     "output_type": "execute_result"
    }
   ],
   "source": [
    "data_train_arima"
   ]
  },
  {
   "cell_type": "code",
   "execution_count": 79,
   "id": "26c8596d-5340-422f-829d-1cef78458b06",
   "metadata": {},
   "outputs": [
    {
     "data": {
      "text/html": [
       "<div>\n",
       "<style scoped>\n",
       "    .dataframe tbody tr th:only-of-type {\n",
       "        vertical-align: middle;\n",
       "    }\n",
       "\n",
       "    .dataframe tbody tr th {\n",
       "        vertical-align: top;\n",
       "    }\n",
       "\n",
       "    .dataframe thead th {\n",
       "        text-align: right;\n",
       "    }\n",
       "</style>\n",
       "<table border=\"1\" class=\"dataframe\">\n",
       "  <thead>\n",
       "    <tr style=\"text-align: right;\">\n",
       "      <th></th>\n",
       "      <th>EPI</th>\n",
       "    </tr>\n",
       "    <tr>\n",
       "      <th>date</th>\n",
       "      <th></th>\n",
       "    </tr>\n",
       "  </thead>\n",
       "  <tbody>\n",
       "    <tr>\n",
       "      <th>2022-01-01</th>\n",
       "      <td>59.3</td>\n",
       "    </tr>\n",
       "  </tbody>\n",
       "</table>\n",
       "</div>"
      ],
      "text/plain": [
       "             EPI\n",
       "date            \n",
       "2022-01-01  59.3"
      ]
     },
     "execution_count": 79,
     "metadata": {},
     "output_type": "execute_result"
    }
   ],
   "source": [
    "data_test_arima"
   ]
  },
  {
   "cell_type": "code",
   "execution_count": 80,
   "id": "0cc098cf-a49e-404c-b99b-54fb9bc0590f",
   "metadata": {},
   "outputs": [
    {
     "name": "stdout",
     "output_type": "stream",
     "text": [
      " ARIMA(0,1,0)(0,0,0)[0] intercept   : AIC=39.215, Time=0.01 sec\n",
      " ARIMA(0,1,1)(0,0,0)[0] intercept   : AIC=inf, Time=0.13 sec\n",
      " ARIMA(0,1,2)(0,0,0)[0] intercept   : AIC=inf, Time=0.10 sec\n",
      " ARIMA(1,1,0)(0,0,0)[0] intercept   : AIC=38.598, Time=0.02 sec\n",
      " ARIMA(1,1,1)(0,0,0)[0] intercept   : AIC=inf, Time=0.12 sec\n",
      " ARIMA(1,1,2)(0,0,0)[0] intercept   : AIC=inf, Time=0.13 sec\n",
      " ARIMA(2,1,0)(0,0,0)[0] intercept   : AIC=37.529, Time=0.12 sec\n",
      " ARIMA(2,1,1)(0,0,0)[0] intercept   : AIC=1397421.593, Time=0.05 sec\n",
      " ARIMA(2,1,2)(0,0,0)[0] intercept   : AIC=inf, Time=0.19 sec\n",
      "\n",
      "Best model:  ARIMA(2,1,0)(0,0,0)[0] intercept\n",
      "Total fit time: 0.877 seconds\n",
      "37.528581428326504\n"
     ]
    }
   ],
   "source": [
    "stepwise_model = auto_arima(data_train_arima, \n",
    "                            start_p=1, start_q=1,\n",
    "                            max_p=5, max_q=5,\n",
    "                            m=1,\n",
    "                            seasonal=False,\n",
    "                            d=1, trace=True,\n",
    "                            error_action='ignore',  \n",
    "                            suppress_warnings=True, \n",
    "                            stepwise=False)\n",
    "print(stepwise_model.aic())"
   ]
  },
  {
   "cell_type": "code",
   "execution_count": 81,
   "id": "b924d1cb-db71-4690-ab0e-3034f94d9e9e",
   "metadata": {},
   "outputs": [
    {
     "data": {
      "text/plain": [
       "ARIMA(maxiter=50, method='lbfgs', order=(2, 1, 0), out_of_sample_size=0,\n",
       "      scoring='mse', scoring_args={}, seasonal_order=(0, 0, 0, 0),\n",
       "      start_params=None, suppress_warnings=True, trend=None,\n",
       "      with_intercept=True)"
      ]
     },
     "execution_count": 81,
     "metadata": {},
     "output_type": "execute_result"
    }
   ],
   "source": [
    "stepwise_model.fit(data_train_arima)"
   ]
  },
  {
   "cell_type": "code",
   "execution_count": 82,
   "id": "6137b183-d6c2-44eb-82ed-8a948da565bd",
   "metadata": {},
   "outputs": [],
   "source": [
    "future_forecast = stepwise_model.predict(n_periods=1)\n",
    "data_test_arima['Prediction'] = future_forecast\n",
    "data_arima = pd.concat([data_train_arima, data_test_arima])\n",
    "data_arima['idx'] = data_arima.index #.astype(str)"
   ]
  },
  {
   "cell_type": "code",
   "execution_count": 83,
   "id": "f71a26f7-21ff-44b1-8992-7fb283be1ebe",
   "metadata": {},
   "outputs": [
    {
     "data": {
      "text/html": [
       "<div>\n",
       "<style scoped>\n",
       "    .dataframe tbody tr th:only-of-type {\n",
       "        vertical-align: middle;\n",
       "    }\n",
       "\n",
       "    .dataframe tbody tr th {\n",
       "        vertical-align: top;\n",
       "    }\n",
       "\n",
       "    .dataframe thead th {\n",
       "        text-align: right;\n",
       "    }\n",
       "</style>\n",
       "<table border=\"1\" class=\"dataframe\">\n",
       "  <thead>\n",
       "    <tr style=\"text-align: right;\">\n",
       "      <th></th>\n",
       "      <th>EPI</th>\n",
       "      <th>Prediction</th>\n",
       "    </tr>\n",
       "    <tr>\n",
       "      <th>date</th>\n",
       "      <th></th>\n",
       "      <th></th>\n",
       "    </tr>\n",
       "  </thead>\n",
       "  <tbody>\n",
       "    <tr>\n",
       "      <th>2010-01-01</th>\n",
       "      <td>81.13</td>\n",
       "      <td>NaN</td>\n",
       "    </tr>\n",
       "    <tr>\n",
       "      <th>2012-01-01</th>\n",
       "      <td>69.92</td>\n",
       "      <td>NaN</td>\n",
       "    </tr>\n",
       "    <tr>\n",
       "      <th>2014-01-01</th>\n",
       "      <td>78.04</td>\n",
       "      <td>NaN</td>\n",
       "    </tr>\n",
       "    <tr>\n",
       "      <th>2016-01-01</th>\n",
       "      <td>68.75</td>\n",
       "      <td>NaN</td>\n",
       "    </tr>\n",
       "    <tr>\n",
       "      <th>2018-01-01</th>\n",
       "      <td>70.10</td>\n",
       "      <td>NaN</td>\n",
       "    </tr>\n",
       "    <tr>\n",
       "      <th>2020-01-01</th>\n",
       "      <td>77.70</td>\n",
       "      <td>NaN</td>\n",
       "    </tr>\n",
       "    <tr>\n",
       "      <th>2022-01-01</th>\n",
       "      <td>59.30</td>\n",
       "      <td>61.724263</td>\n",
       "    </tr>\n",
       "  </tbody>\n",
       "</table>\n",
       "</div>"
      ],
      "text/plain": [
       "              EPI  Prediction\n",
       "date                         \n",
       "2010-01-01  81.13         NaN\n",
       "2012-01-01  69.92         NaN\n",
       "2014-01-01  78.04         NaN\n",
       "2016-01-01  68.75         NaN\n",
       "2018-01-01  70.10         NaN\n",
       "2020-01-01  77.70         NaN\n",
       "2022-01-01  59.30   61.724263"
      ]
     },
     "execution_count": 83,
     "metadata": {},
     "output_type": "execute_result"
    }
   ],
   "source": [
    "data_arima[['EPI','Prediction']]"
   ]
  },
  {
   "cell_type": "code",
   "execution_count": 84,
   "id": "3729c1cb-9ba9-46bf-b224-1957e933511c",
   "metadata": {},
   "outputs": [
    {
     "data": {
      "image/png": "[encoded data removed]",
      "text/plain": [
       "<Figure size 432x288 with 1 Axes>"
      ]
     },
     "metadata": {
      "needs_background": "light"
     },
     "output_type": "display_data"
    }
   ],
   "source": [
    "plt.plot(data_arima.idx, data_arima.EPI, 'o-', label = \"Actual\")\n",
    "plt.scatter(data_arima.idx, data_arima.Prediction, label = \"Prediction\", color='red')\n",
    "plt.legend()\n",
    "plt.show()"
   ]
  },
  {
   "cell_type": "code",
   "execution_count": null,
   "id": "a4d80329-814d-44b6-b201-c5d3c7a65b94",
   "metadata": {},
   "outputs": [],
   "source": []
  }
 ],
 "metadata": {
  "kernelspec": {
   "display_name": "Python 3 (ipykernel)",
   "language": "python",
   "name": "python3"
  },
  "language_info": {
   "codemirror_mode": {
    "name": "ipython",
    "version": 3
   },
   "file_extension": ".py",
   "mimetype": "text/x-python",
   "name": "python",
   "nbconvert_exporter": "python",
   "pygments_lexer": "ipython3",
   "version": "3.9.13"
  }
 },
 "nbformat": 4,
 "nbformat_minor": 5
}
