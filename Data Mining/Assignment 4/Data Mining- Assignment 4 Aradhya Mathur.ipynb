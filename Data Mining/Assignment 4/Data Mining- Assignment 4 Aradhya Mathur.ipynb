{
 "cells": [
  {
   "cell_type": "code",
   "execution_count": 9,
   "id": "16e494e3",
   "metadata": {},
   "outputs": [],
   "source": [
    "import pandas as pd\n",
    "import numpy as np\n",
    "from sklearn.model_selection import train_test_split\n",
    "from sklearn.linear_model import LogisticRegression\n",
    "from sklearn import metrics\n",
    "import matplotlib.pyplot as plt"
   ]
  },
  {
   "cell_type": "code",
   "execution_count": 10,
   "id": "f7c880d3",
   "metadata": {},
   "outputs": [],
   "source": [
    "#8.12 ROC Curve\n",
    "TPR = [0.2,0.2,0.4,0.6,0.6,0.8,0.8,0.8,0.8,1]\n",
    "FPR = [0,0.2,0.2,0.2,0.4,0.4,0.6,0.8,1,1]\n",
    "o1 = [0,1]\n",
    "o2 = [0,1]"
   ]
  },
  {
   "cell_type": "code",
   "execution_count": 11,
   "id": "3cec4e82",
   "metadata": {},
   "outputs": [
    {
     "data": {
      "image/png": "[encoded data removed]",
      "text/plain": [
       "<Figure size 432x288 with 1 Axes>"
      ]
     },
     "metadata": {
      "needs_background": "light"
     },
     "output_type": "display_data"
    }
   ],
   "source": [
    "plt.plot(FPR,TPR,  marker='o', markerfacecolor='bisque', color='gray') #ROC Curve\n",
    "plt.plot(o1,o1, color='bisque') #Origin Line\n",
    "plt.title(\"ROC\")\n",
    "plt.ylabel('True Positive Rate')\n",
    "plt.xlabel('False Positive Rate')\n",
    "plt.ylim(bottom = 0)\n",
    "plt.xlim(left = 0)\n",
    "plt.show()"
   ]
  },
  {
   "cell_type": "code",
   "execution_count": 12,
   "id": "fadd7b13",
   "metadata": {},
   "outputs": [],
   "source": [
    "#8.14 T Test\n",
    "import scipy.stats as stats\n",
    "M1 = np.array([30.5, 32.2, 20.7, 20.6, 31.0, 41.0, 27.7, 26.0, 21.5, 26.0])\n",
    "M2 = np.array([22.4, 14.5, 22.4, 19.6, 20.7, 20.4, 22.1, 19.4, 16.2, 35.0])"
   ]
  },
  {
   "cell_type": "code",
   "execution_count": 13,
   "id": "d15938d0",
   "metadata": {},
   "outputs": [
    {
     "data": {
      "text/plain": [
       "Ttest_indResult(statistic=2.437567141225827, pvalue=0.02538670824824204)"
      ]
     },
     "execution_count": 13,
     "metadata": {},
     "output_type": "execute_result"
    }
   ],
   "source": [
    "stats.ttest_ind(M1, M2, equal_var=True)"
   ]
  }
 ],
 "metadata": {
  "kernelspec": {
   "display_name": "Python 3 (ipykernel)",
   "language": "python",
   "name": "python3"
  },
  "language_info": {
   "codemirror_mode": {
    "name": "ipython",
    "version": 3
   },
   "file_extension": ".py",
   "mimetype": "text/x-python",
   "name": "python",
   "nbconvert_exporter": "python",
   "pygments_lexer": "ipython3",
   "version": "3.9.7"
  }
 },
 "nbformat": 4,
 "nbformat_minor": 5
}
